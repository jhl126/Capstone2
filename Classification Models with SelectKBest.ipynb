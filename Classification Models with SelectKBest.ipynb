{
 "cells": [
  {
   "cell_type": "code",
   "execution_count": 1,
   "metadata": {},
   "outputs": [
    {
     "data": {
      "application/javascript": [
       "\n",
       "            setTimeout(function() {\n",
       "                var nbb_cell_id = 1;\n",
       "                var nbb_unformatted_code = \"%reload_ext nb_black\";\n",
       "                var nbb_formatted_code = \"%reload_ext nb_black\";\n",
       "                var nbb_cells = Jupyter.notebook.get_cells();\n",
       "                for (var i = 0; i < nbb_cells.length; ++i) {\n",
       "                    if (nbb_cells[i].input_prompt_number == nbb_cell_id) {\n",
       "                        if (nbb_cells[i].get_text() == nbb_unformatted_code) {\n",
       "                             nbb_cells[i].set_text(nbb_formatted_code);\n",
       "                        }\n",
       "                        break;\n",
       "                    }\n",
       "                }\n",
       "            }, 500);\n",
       "            "
      ],
      "text/plain": [
       "<IPython.core.display.Javascript object>"
      ]
     },
     "metadata": {},
     "output_type": "display_data"
    }
   ],
   "source": [
    "%reload_ext nb_black"
   ]
  },
  {
   "cell_type": "code",
   "execution_count": 2,
   "metadata": {},
   "outputs": [
    {
     "name": "stdout",
     "output_type": "stream",
     "text": [
      "C:\\Users\\jlim7\\OneDrive\\Documents\\GitHub\\Capstone2\n",
      "['.git', '.gitignore', '.ipynb_checkpoints', '42343_72434_bundle_archive', '42343_72434_bundle_archive.zip', 'Classification Models with SelectKBest.ipynb', 'Initial Classification Models.ipynb', 'Initial EDA.ipynb', 'LICENSE', 'README.md', 'WA_Fn-UseC_-Telco-Customer-Churn.xlsx']\n"
     ]
    },
    {
     "data": {
      "application/javascript": [
       "\n",
       "            setTimeout(function() {\n",
       "                var nbb_cell_id = 2;\n",
       "                var nbb_unformatted_code = \"%matplotlib inline\\nimport warnings\\n\\nimport pandas as pd\\nimport numpy as np\\nimport seaborn as sns\\nfrom scipy import stats\\nimport matplotlib.pyplot as plt\\n\\nfrom sklearn.model_selection import train_test_split, GridSearchCV\\nfrom sklearn.preprocessing import MinMaxScaler, StandardScaler, OneHotEncoder\\nfrom sklearn.compose import ColumnTransformer\\nfrom sklearn.pipeline import Pipeline\\nfrom sklearn.neighbors import KNeighborsClassifier\\nfrom sklearn.svm import SVC\\nfrom sklearn.ensemble import RandomForestClassifier\\nfrom xgboost import XGBClassifier\\n\\nfrom sklearn.metrics import (\\n    classification_report,\\n    confusion_matrix,\\n)\\n\\nfrom sklearn.feature_selection import SelectKBest\\n\\nimport statsmodels.api as sm\\nfrom statsmodels.stats.outliers_influence import variance_inflation_factor\\n\\nimport os\\n\\nprint(os.getcwd())\\n\\nprint(os.listdir(os.getcwd()))\";\n",
       "                var nbb_formatted_code = \"%matplotlib inline\\nimport warnings\\n\\nimport pandas as pd\\nimport numpy as np\\nimport seaborn as sns\\nfrom scipy import stats\\nimport matplotlib.pyplot as plt\\n\\nfrom sklearn.model_selection import train_test_split, GridSearchCV\\nfrom sklearn.preprocessing import MinMaxScaler, StandardScaler, OneHotEncoder\\nfrom sklearn.compose import ColumnTransformer\\nfrom sklearn.pipeline import Pipeline\\nfrom sklearn.neighbors import KNeighborsClassifier\\nfrom sklearn.svm import SVC\\nfrom sklearn.ensemble import RandomForestClassifier\\nfrom xgboost import XGBClassifier\\n\\nfrom sklearn.metrics import (\\n    classification_report,\\n    confusion_matrix,\\n)\\n\\nfrom sklearn.feature_selection import SelectKBest\\n\\nimport statsmodels.api as sm\\nfrom statsmodels.stats.outliers_influence import variance_inflation_factor\\n\\nimport os\\n\\nprint(os.getcwd())\\n\\nprint(os.listdir(os.getcwd()))\";\n",
       "                var nbb_cells = Jupyter.notebook.get_cells();\n",
       "                for (var i = 0; i < nbb_cells.length; ++i) {\n",
       "                    if (nbb_cells[i].input_prompt_number == nbb_cell_id) {\n",
       "                        if (nbb_cells[i].get_text() == nbb_unformatted_code) {\n",
       "                             nbb_cells[i].set_text(nbb_formatted_code);\n",
       "                        }\n",
       "                        break;\n",
       "                    }\n",
       "                }\n",
       "            }, 500);\n",
       "            "
      ],
      "text/plain": [
       "<IPython.core.display.Javascript object>"
      ]
     },
     "metadata": {},
     "output_type": "display_data"
    }
   ],
   "source": [
    "%matplotlib inline\n",
    "import warnings\n",
    "\n",
    "import pandas as pd\n",
    "import numpy as np\n",
    "import seaborn as sns\n",
    "from scipy import stats\n",
    "import matplotlib.pyplot as plt\n",
    "\n",
    "from sklearn.model_selection import train_test_split, GridSearchCV\n",
    "from sklearn.preprocessing import MinMaxScaler, StandardScaler, OneHotEncoder\n",
    "from sklearn.compose import ColumnTransformer\n",
    "from sklearn.pipeline import Pipeline\n",
    "from sklearn.neighbors import KNeighborsClassifier\n",
    "from sklearn.svm import SVC\n",
    "from sklearn.ensemble import RandomForestClassifier\n",
    "from xgboost import XGBClassifier\n",
    "\n",
    "from sklearn.metrics import (\n",
    "    classification_report,\n",
    "    confusion_matrix,\n",
    ")\n",
    "\n",
    "from sklearn.feature_selection import SelectKBest\n",
    "\n",
    "import statsmodels.api as sm\n",
    "from statsmodels.stats.outliers_influence import variance_inflation_factor\n",
    "\n",
    "import os\n",
    "\n",
    "print(os.getcwd())\n",
    "\n",
    "print(os.listdir(os.getcwd()))"
   ]
  },
  {
   "cell_type": "code",
   "execution_count": 3,
   "metadata": {},
   "outputs": [
    {
     "data": {
      "application/javascript": [
       "\n",
       "            setTimeout(function() {\n",
       "                var nbb_cell_id = 3;\n",
       "                var nbb_unformatted_code = \"def print_vif(x):\\n    \\\"\\\"\\\"Utility for checking multicollinearity assumption\\n    \\n    :param x: input features to check using VIF. This is assumed to be a pandas.DataFrame\\n    :return: nothing is returned the VIFs are printed as a pandas series\\n    \\\"\\\"\\\"\\n    # Silence numpy FutureWarning about .ptp\\n    with warnings.catch_warnings():\\n        warnings.simplefilter(\\\"ignore\\\")\\n        x = sm.add_constant(x)\\n\\n    vifs = []\\n    for i in range(x.shape[1]):\\n        vif = variance_inflation_factor(np.array(x), i)\\n        vifs.append(vif)\\n\\n    print(\\\"VIF results\\\\n-------------------------------\\\")\\n    print(pd.Series(vifs, index=x.columns))\\n    print(\\\"-------------------------------\\\\n\\\")\";\n",
       "                var nbb_formatted_code = \"def print_vif(x):\\n    \\\"\\\"\\\"Utility for checking multicollinearity assumption\\n    \\n    :param x: input features to check using VIF. This is assumed to be a pandas.DataFrame\\n    :return: nothing is returned the VIFs are printed as a pandas series\\n    \\\"\\\"\\\"\\n    # Silence numpy FutureWarning about .ptp\\n    with warnings.catch_warnings():\\n        warnings.simplefilter(\\\"ignore\\\")\\n        x = sm.add_constant(x)\\n\\n    vifs = []\\n    for i in range(x.shape[1]):\\n        vif = variance_inflation_factor(np.array(x), i)\\n        vifs.append(vif)\\n\\n    print(\\\"VIF results\\\\n-------------------------------\\\")\\n    print(pd.Series(vifs, index=x.columns))\\n    print(\\\"-------------------------------\\\\n\\\")\";\n",
       "                var nbb_cells = Jupyter.notebook.get_cells();\n",
       "                for (var i = 0; i < nbb_cells.length; ++i) {\n",
       "                    if (nbb_cells[i].input_prompt_number == nbb_cell_id) {\n",
       "                        if (nbb_cells[i].get_text() == nbb_unformatted_code) {\n",
       "                             nbb_cells[i].set_text(nbb_formatted_code);\n",
       "                        }\n",
       "                        break;\n",
       "                    }\n",
       "                }\n",
       "            }, 500);\n",
       "            "
      ],
      "text/plain": [
       "<IPython.core.display.Javascript object>"
      ]
     },
     "metadata": {},
     "output_type": "display_data"
    }
   ],
   "source": [
    "def print_vif(x):\n",
    "    \"\"\"Utility for checking multicollinearity assumption\n",
    "    \n",
    "    :param x: input features to check using VIF. This is assumed to be a pandas.DataFrame\n",
    "    :return: nothing is returned the VIFs are printed as a pandas series\n",
    "    \"\"\"\n",
    "    # Silence numpy FutureWarning about .ptp\n",
    "    with warnings.catch_warnings():\n",
    "        warnings.simplefilter(\"ignore\")\n",
    "        x = sm.add_constant(x)\n",
    "\n",
    "    vifs = []\n",
    "    for i in range(x.shape[1]):\n",
    "        vif = variance_inflation_factor(np.array(x), i)\n",
    "        vifs.append(vif)\n",
    "\n",
    "    print(\"VIF results\\n-------------------------------\")\n",
    "    print(pd.Series(vifs, index=x.columns))\n",
    "    print(\"-------------------------------\\n\")"
   ]
  },
  {
   "cell_type": "code",
   "execution_count": 4,
   "metadata": {
    "scrolled": false
   },
   "outputs": [
    {
     "data": {
      "text/html": [
       "<div>\n",
       "<style scoped>\n",
       "    .dataframe tbody tr th:only-of-type {\n",
       "        vertical-align: middle;\n",
       "    }\n",
       "\n",
       "    .dataframe tbody tr th {\n",
       "        vertical-align: top;\n",
       "    }\n",
       "\n",
       "    .dataframe thead th {\n",
       "        text-align: right;\n",
       "    }\n",
       "</style>\n",
       "<table border=\"1\" class=\"dataframe\">\n",
       "  <thead>\n",
       "    <tr style=\"text-align: right;\">\n",
       "      <th></th>\n",
       "      <th>customerID</th>\n",
       "      <th>gender</th>\n",
       "      <th>SeniorCitizen</th>\n",
       "      <th>Partner</th>\n",
       "      <th>Dependents</th>\n",
       "      <th>tenure</th>\n",
       "      <th>PhoneService</th>\n",
       "      <th>MultipleLines</th>\n",
       "      <th>InternetService</th>\n",
       "      <th>OnlineSecurity</th>\n",
       "      <th>OnlineBackup</th>\n",
       "      <th>DeviceProtection</th>\n",
       "      <th>TechSupport</th>\n",
       "      <th>StreamingTV</th>\n",
       "      <th>StreamingMovies</th>\n",
       "      <th>Contract</th>\n",
       "      <th>PaperlessBilling</th>\n",
       "      <th>PaymentMethod</th>\n",
       "      <th>MonthlyCharges</th>\n",
       "      <th>TotalCharges</th>\n",
       "      <th>Churn</th>\n",
       "    </tr>\n",
       "  </thead>\n",
       "  <tbody>\n",
       "    <tr>\n",
       "      <th>0</th>\n",
       "      <td>7590-VHVEG</td>\n",
       "      <td>Female</td>\n",
       "      <td>0</td>\n",
       "      <td>Yes</td>\n",
       "      <td>No</td>\n",
       "      <td>1</td>\n",
       "      <td>No</td>\n",
       "      <td>No phone service</td>\n",
       "      <td>DSL</td>\n",
       "      <td>No</td>\n",
       "      <td>Yes</td>\n",
       "      <td>No</td>\n",
       "      <td>No</td>\n",
       "      <td>No</td>\n",
       "      <td>No</td>\n",
       "      <td>Month-to-month</td>\n",
       "      <td>Yes</td>\n",
       "      <td>Electronic check</td>\n",
       "      <td>29.85</td>\n",
       "      <td>29.85</td>\n",
       "      <td>No</td>\n",
       "    </tr>\n",
       "    <tr>\n",
       "      <th>1</th>\n",
       "      <td>5575-GNVDE</td>\n",
       "      <td>Male</td>\n",
       "      <td>0</td>\n",
       "      <td>No</td>\n",
       "      <td>No</td>\n",
       "      <td>34</td>\n",
       "      <td>Yes</td>\n",
       "      <td>No</td>\n",
       "      <td>DSL</td>\n",
       "      <td>Yes</td>\n",
       "      <td>No</td>\n",
       "      <td>Yes</td>\n",
       "      <td>No</td>\n",
       "      <td>No</td>\n",
       "      <td>No</td>\n",
       "      <td>One year</td>\n",
       "      <td>No</td>\n",
       "      <td>Mailed check</td>\n",
       "      <td>56.95</td>\n",
       "      <td>1889.5</td>\n",
       "      <td>No</td>\n",
       "    </tr>\n",
       "    <tr>\n",
       "      <th>2</th>\n",
       "      <td>3668-QPYBK</td>\n",
       "      <td>Male</td>\n",
       "      <td>0</td>\n",
       "      <td>No</td>\n",
       "      <td>No</td>\n",
       "      <td>2</td>\n",
       "      <td>Yes</td>\n",
       "      <td>No</td>\n",
       "      <td>DSL</td>\n",
       "      <td>Yes</td>\n",
       "      <td>Yes</td>\n",
       "      <td>No</td>\n",
       "      <td>No</td>\n",
       "      <td>No</td>\n",
       "      <td>No</td>\n",
       "      <td>Month-to-month</td>\n",
       "      <td>Yes</td>\n",
       "      <td>Mailed check</td>\n",
       "      <td>53.85</td>\n",
       "      <td>108.15</td>\n",
       "      <td>Yes</td>\n",
       "    </tr>\n",
       "    <tr>\n",
       "      <th>3</th>\n",
       "      <td>7795-CFOCW</td>\n",
       "      <td>Male</td>\n",
       "      <td>0</td>\n",
       "      <td>No</td>\n",
       "      <td>No</td>\n",
       "      <td>45</td>\n",
       "      <td>No</td>\n",
       "      <td>No phone service</td>\n",
       "      <td>DSL</td>\n",
       "      <td>Yes</td>\n",
       "      <td>No</td>\n",
       "      <td>Yes</td>\n",
       "      <td>Yes</td>\n",
       "      <td>No</td>\n",
       "      <td>No</td>\n",
       "      <td>One year</td>\n",
       "      <td>No</td>\n",
       "      <td>Bank transfer (automatic)</td>\n",
       "      <td>42.30</td>\n",
       "      <td>1840.75</td>\n",
       "      <td>No</td>\n",
       "    </tr>\n",
       "    <tr>\n",
       "      <th>4</th>\n",
       "      <td>9237-HQITU</td>\n",
       "      <td>Female</td>\n",
       "      <td>0</td>\n",
       "      <td>No</td>\n",
       "      <td>No</td>\n",
       "      <td>2</td>\n",
       "      <td>Yes</td>\n",
       "      <td>No</td>\n",
       "      <td>Fiber optic</td>\n",
       "      <td>No</td>\n",
       "      <td>No</td>\n",
       "      <td>No</td>\n",
       "      <td>No</td>\n",
       "      <td>No</td>\n",
       "      <td>No</td>\n",
       "      <td>Month-to-month</td>\n",
       "      <td>Yes</td>\n",
       "      <td>Electronic check</td>\n",
       "      <td>70.70</td>\n",
       "      <td>151.65</td>\n",
       "      <td>Yes</td>\n",
       "    </tr>\n",
       "  </tbody>\n",
       "</table>\n",
       "</div>"
      ],
      "text/plain": [
       "   customerID  gender  SeniorCitizen Partner Dependents  tenure PhoneService  \\\n",
       "0  7590-VHVEG  Female              0     Yes         No       1           No   \n",
       "1  5575-GNVDE    Male              0      No         No      34          Yes   \n",
       "2  3668-QPYBK    Male              0      No         No       2          Yes   \n",
       "3  7795-CFOCW    Male              0      No         No      45           No   \n",
       "4  9237-HQITU  Female              0      No         No       2          Yes   \n",
       "\n",
       "      MultipleLines InternetService OnlineSecurity OnlineBackup  \\\n",
       "0  No phone service             DSL             No          Yes   \n",
       "1                No             DSL            Yes           No   \n",
       "2                No             DSL            Yes          Yes   \n",
       "3  No phone service             DSL            Yes           No   \n",
       "4                No     Fiber optic             No           No   \n",
       "\n",
       "  DeviceProtection TechSupport StreamingTV StreamingMovies        Contract  \\\n",
       "0               No          No          No              No  Month-to-month   \n",
       "1              Yes          No          No              No        One year   \n",
       "2               No          No          No              No  Month-to-month   \n",
       "3              Yes         Yes          No              No        One year   \n",
       "4               No          No          No              No  Month-to-month   \n",
       "\n",
       "  PaperlessBilling              PaymentMethod  MonthlyCharges TotalCharges  \\\n",
       "0              Yes           Electronic check           29.85        29.85   \n",
       "1               No               Mailed check           56.95       1889.5   \n",
       "2              Yes               Mailed check           53.85       108.15   \n",
       "3               No  Bank transfer (automatic)           42.30      1840.75   \n",
       "4              Yes           Electronic check           70.70       151.65   \n",
       "\n",
       "  Churn  \n",
       "0    No  \n",
       "1    No  \n",
       "2   Yes  \n",
       "3    No  \n",
       "4   Yes  "
      ]
     },
     "execution_count": 4,
     "metadata": {},
     "output_type": "execute_result"
    },
    {
     "data": {
      "application/javascript": [
       "\n",
       "            setTimeout(function() {\n",
       "                var nbb_cell_id = 4;\n",
       "                var nbb_unformatted_code = \"pd.set_option(\\\"display.max_columns\\\", None)\\nchurn = pd.read_excel(\\\"WA_Fn-UseC_-Telco-Customer-Churn.xlsx\\\")\\nchurn.head()\";\n",
       "                var nbb_formatted_code = \"pd.set_option(\\\"display.max_columns\\\", None)\\nchurn = pd.read_excel(\\\"WA_Fn-UseC_-Telco-Customer-Churn.xlsx\\\")\\nchurn.head()\";\n",
       "                var nbb_cells = Jupyter.notebook.get_cells();\n",
       "                for (var i = 0; i < nbb_cells.length; ++i) {\n",
       "                    if (nbb_cells[i].input_prompt_number == nbb_cell_id) {\n",
       "                        if (nbb_cells[i].get_text() == nbb_unformatted_code) {\n",
       "                             nbb_cells[i].set_text(nbb_formatted_code);\n",
       "                        }\n",
       "                        break;\n",
       "                    }\n",
       "                }\n",
       "            }, 500);\n",
       "            "
      ],
      "text/plain": [
       "<IPython.core.display.Javascript object>"
      ]
     },
     "metadata": {},
     "output_type": "display_data"
    }
   ],
   "source": [
    "pd.set_option(\"display.max_columns\", None)\n",
    "churn = pd.read_excel(\"WA_Fn-UseC_-Telco-Customer-Churn.xlsx\")\n",
    "churn.head()"
   ]
  },
  {
   "cell_type": "code",
   "execution_count": 5,
   "metadata": {},
   "outputs": [
    {
     "data": {
      "application/javascript": [
       "\n",
       "            setTimeout(function() {\n",
       "                var nbb_cell_id = 5;\n",
       "                var nbb_unformatted_code = \"churn = pd.get_dummies(churn, columns=[\\\"Churn\\\"], drop_first=True)\\nchurn = churn.drop(columns=[\\\"customerID\\\", \\\"TotalCharges\\\"])\";\n",
       "                var nbb_formatted_code = \"churn = pd.get_dummies(churn, columns=[\\\"Churn\\\"], drop_first=True)\\nchurn = churn.drop(columns=[\\\"customerID\\\", \\\"TotalCharges\\\"])\";\n",
       "                var nbb_cells = Jupyter.notebook.get_cells();\n",
       "                for (var i = 0; i < nbb_cells.length; ++i) {\n",
       "                    if (nbb_cells[i].input_prompt_number == nbb_cell_id) {\n",
       "                        if (nbb_cells[i].get_text() == nbb_unformatted_code) {\n",
       "                             nbb_cells[i].set_text(nbb_formatted_code);\n",
       "                        }\n",
       "                        break;\n",
       "                    }\n",
       "                }\n",
       "            }, 500);\n",
       "            "
      ],
      "text/plain": [
       "<IPython.core.display.Javascript object>"
      ]
     },
     "metadata": {},
     "output_type": "display_data"
    }
   ],
   "source": [
    "churn = pd.get_dummies(churn, columns=[\"Churn\"], drop_first=True)\n",
    "churn = churn.drop(columns=[\"customerID\", \"TotalCharges\"])"
   ]
  },
  {
   "cell_type": "code",
   "execution_count": 6,
   "metadata": {},
   "outputs": [
    {
     "data": {
      "application/javascript": [
       "\n",
       "            setTimeout(function() {\n",
       "                var nbb_cell_id = 6;\n",
       "                var nbb_unformatted_code = \"X = churn.drop(columns=[\\\"Churn_Yes\\\"])\\ny = churn[\\\"Churn_Yes\\\"]\\n\\nX_train, X_test, y_train, y_test = train_test_split(\\n    X, y, test_size=0.20, random_state=13, stratify=y\\n)\";\n",
       "                var nbb_formatted_code = \"X = churn.drop(columns=[\\\"Churn_Yes\\\"])\\ny = churn[\\\"Churn_Yes\\\"]\\n\\nX_train, X_test, y_train, y_test = train_test_split(\\n    X, y, test_size=0.20, random_state=13, stratify=y\\n)\";\n",
       "                var nbb_cells = Jupyter.notebook.get_cells();\n",
       "                for (var i = 0; i < nbb_cells.length; ++i) {\n",
       "                    if (nbb_cells[i].input_prompt_number == nbb_cell_id) {\n",
       "                        if (nbb_cells[i].get_text() == nbb_unformatted_code) {\n",
       "                             nbb_cells[i].set_text(nbb_formatted_code);\n",
       "                        }\n",
       "                        break;\n",
       "                    }\n",
       "                }\n",
       "            }, 500);\n",
       "            "
      ],
      "text/plain": [
       "<IPython.core.display.Javascript object>"
      ]
     },
     "metadata": {},
     "output_type": "display_data"
    }
   ],
   "source": [
    "X = churn.drop(columns=[\"Churn_Yes\"])\n",
    "y = churn[\"Churn_Yes\"]\n",
    "\n",
    "X_train, X_test, y_train, y_test = train_test_split(\n",
    "    X, y, test_size=0.20, random_state=13, stratify=y\n",
    ")"
   ]
  },
  {
   "cell_type": "code",
   "execution_count": 7,
   "metadata": {},
   "outputs": [
    {
     "data": {
      "text/plain": [
       "gender              0.0\n",
       "SeniorCitizen       0.0\n",
       "Partner             0.0\n",
       "Dependents          0.0\n",
       "tenure              0.0\n",
       "PhoneService        0.0\n",
       "MultipleLines       0.0\n",
       "InternetService     0.0\n",
       "OnlineSecurity      0.0\n",
       "OnlineBackup        0.0\n",
       "DeviceProtection    0.0\n",
       "TechSupport         0.0\n",
       "StreamingTV         0.0\n",
       "StreamingMovies     0.0\n",
       "Contract            0.0\n",
       "PaperlessBilling    0.0\n",
       "PaymentMethod       0.0\n",
       "MonthlyCharges      0.0\n",
       "dtype: float64"
      ]
     },
     "execution_count": 7,
     "metadata": {},
     "output_type": "execute_result"
    },
    {
     "data": {
      "application/javascript": [
       "\n",
       "            setTimeout(function() {\n",
       "                var nbb_cell_id = 7;\n",
       "                var nbb_unformatted_code = \"X.isna().mean()\";\n",
       "                var nbb_formatted_code = \"X.isna().mean()\";\n",
       "                var nbb_cells = Jupyter.notebook.get_cells();\n",
       "                for (var i = 0; i < nbb_cells.length; ++i) {\n",
       "                    if (nbb_cells[i].input_prompt_number == nbb_cell_id) {\n",
       "                        if (nbb_cells[i].get_text() == nbb_unformatted_code) {\n",
       "                             nbb_cells[i].set_text(nbb_formatted_code);\n",
       "                        }\n",
       "                        break;\n",
       "                    }\n",
       "                }\n",
       "            }, 500);\n",
       "            "
      ],
      "text/plain": [
       "<IPython.core.display.Javascript object>"
      ]
     },
     "metadata": {},
     "output_type": "display_data"
    }
   ],
   "source": [
    "X.isna().mean()"
   ]
  },
  {
   "cell_type": "code",
   "execution_count": 8,
   "metadata": {},
   "outputs": [
    {
     "data": {
      "application/javascript": [
       "\n",
       "            setTimeout(function() {\n",
       "                var nbb_cell_id = 8;\n",
       "                var nbb_unformatted_code = \"churn[\\\"OnlineSecurity\\\"] = churn[\\\"OnlineSecurity\\\"] == \\\"Yes\\\"\\nchurn[\\\"OnlineBackup\\\"] = churn[\\\"OnlineBackup\\\"] == \\\"Yes\\\"\\nchurn[\\\"DeviceProtection\\\"] = churn[\\\"DeviceProtection\\\"] == \\\"Yes\\\"\\nchurn[\\\"TechSupport\\\"] = churn[\\\"TechSupport\\\"] == \\\"Yes\\\"\\nchurn[\\\"StreamingTV\\\"] = churn[\\\"StreamingTV\\\"] == \\\"Yes\\\"\\nchurn[\\\"StreamingMovies\\\"] = churn[\\\"StreamingMovies\\\"] == \\\"Yes\\\"\";\n",
       "                var nbb_formatted_code = \"churn[\\\"OnlineSecurity\\\"] = churn[\\\"OnlineSecurity\\\"] == \\\"Yes\\\"\\nchurn[\\\"OnlineBackup\\\"] = churn[\\\"OnlineBackup\\\"] == \\\"Yes\\\"\\nchurn[\\\"DeviceProtection\\\"] = churn[\\\"DeviceProtection\\\"] == \\\"Yes\\\"\\nchurn[\\\"TechSupport\\\"] = churn[\\\"TechSupport\\\"] == \\\"Yes\\\"\\nchurn[\\\"StreamingTV\\\"] = churn[\\\"StreamingTV\\\"] == \\\"Yes\\\"\\nchurn[\\\"StreamingMovies\\\"] = churn[\\\"StreamingMovies\\\"] == \\\"Yes\\\"\";\n",
       "                var nbb_cells = Jupyter.notebook.get_cells();\n",
       "                for (var i = 0; i < nbb_cells.length; ++i) {\n",
       "                    if (nbb_cells[i].input_prompt_number == nbb_cell_id) {\n",
       "                        if (nbb_cells[i].get_text() == nbb_unformatted_code) {\n",
       "                             nbb_cells[i].set_text(nbb_formatted_code);\n",
       "                        }\n",
       "                        break;\n",
       "                    }\n",
       "                }\n",
       "            }, 500);\n",
       "            "
      ],
      "text/plain": [
       "<IPython.core.display.Javascript object>"
      ]
     },
     "metadata": {},
     "output_type": "display_data"
    }
   ],
   "source": [
    "churn[\"OnlineSecurity\"] = churn[\"OnlineSecurity\"] == \"Yes\"\n",
    "churn[\"OnlineBackup\"] = churn[\"OnlineBackup\"] == \"Yes\"\n",
    "churn[\"DeviceProtection\"] = churn[\"DeviceProtection\"] == \"Yes\"\n",
    "churn[\"TechSupport\"] = churn[\"TechSupport\"] == \"Yes\"\n",
    "churn[\"StreamingTV\"] = churn[\"StreamingTV\"] == \"Yes\"\n",
    "churn[\"StreamingMovies\"] = churn[\"StreamingMovies\"] == \"Yes\""
   ]
  },
  {
   "cell_type": "code",
   "execution_count": 9,
   "metadata": {},
   "outputs": [
    {
     "data": {
      "application/javascript": [
       "\n",
       "            setTimeout(function() {\n",
       "                var nbb_cell_id = 9;\n",
       "                var nbb_unformatted_code = \"col = [\\n    \\\"OnlineSecurity\\\",\\n    \\\"OnlineBackup\\\",\\n    \\\"DeviceProtection\\\",\\n    \\\"TechSupport\\\",\\n    \\\"StreamingTV\\\",\\n    \\\"StreamingMovies\\\",\\n]\\n\\nfor c in col:\\n    churn[col] = churn[col].astype(int)\";\n",
       "                var nbb_formatted_code = \"col = [\\n    \\\"OnlineSecurity\\\",\\n    \\\"OnlineBackup\\\",\\n    \\\"DeviceProtection\\\",\\n    \\\"TechSupport\\\",\\n    \\\"StreamingTV\\\",\\n    \\\"StreamingMovies\\\",\\n]\\n\\nfor c in col:\\n    churn[col] = churn[col].astype(int)\";\n",
       "                var nbb_cells = Jupyter.notebook.get_cells();\n",
       "                for (var i = 0; i < nbb_cells.length; ++i) {\n",
       "                    if (nbb_cells[i].input_prompt_number == nbb_cell_id) {\n",
       "                        if (nbb_cells[i].get_text() == nbb_unformatted_code) {\n",
       "                             nbb_cells[i].set_text(nbb_formatted_code);\n",
       "                        }\n",
       "                        break;\n",
       "                    }\n",
       "                }\n",
       "            }, 500);\n",
       "            "
      ],
      "text/plain": [
       "<IPython.core.display.Javascript object>"
      ]
     },
     "metadata": {},
     "output_type": "display_data"
    }
   ],
   "source": [
    "col = [\n",
    "    \"OnlineSecurity\",\n",
    "    \"OnlineBackup\",\n",
    "    \"DeviceProtection\",\n",
    "    \"TechSupport\",\n",
    "    \"StreamingTV\",\n",
    "    \"StreamingMovies\",\n",
    "]\n",
    "\n",
    "for c in col:\n",
    "    churn[col] = churn[col].astype(int)"
   ]
  },
  {
   "cell_type": "code",
   "execution_count": 10,
   "metadata": {},
   "outputs": [
    {
     "data": {
      "application/javascript": [
       "\n",
       "            setTimeout(function() {\n",
       "                var nbb_cell_id = 10;\n",
       "                var nbb_unformatted_code = \"bin_cols = [\\n    \\\"SeniorCitizen\\\",\\n    \\\"OnlineSecurity\\\",\\n    \\\"OnlineBackup\\\",\\n    \\\"DeviceProtection\\\",\\n    \\\"TechSupport\\\",\\n    \\\"StreamingTV\\\",\\n    \\\"StreamingMovies\\\",\\n]\\ncat_cols = [\\n    \\\"gender\\\",\\n    \\\"Partner\\\",\\n    \\\"Dependents\\\",\\n    \\\"PhoneService\\\",\\n    \\\"MultipleLines\\\",\\n    \\\"InternetService\\\",\\n    \\\"Contract\\\",\\n    \\\"PaperlessBilling\\\",\\n    \\\"PaymentMethod\\\",\\n]\\ndrop_cats = [\\n    \\\"Male\\\",\\n    \\\"No\\\",\\n    \\\"No\\\",\\n    \\\"Yes\\\",\\n    \\\"No\\\",\\n    \\\"Fiber optic\\\",\\n    \\\"Month-to-month\\\",\\n    \\\"Yes\\\",\\n    \\\"Electronic check\\\",\\n]\\nnum_cols = [\\\"tenure\\\", \\\"MonthlyCharges\\\"]\";\n",
       "                var nbb_formatted_code = \"bin_cols = [\\n    \\\"SeniorCitizen\\\",\\n    \\\"OnlineSecurity\\\",\\n    \\\"OnlineBackup\\\",\\n    \\\"DeviceProtection\\\",\\n    \\\"TechSupport\\\",\\n    \\\"StreamingTV\\\",\\n    \\\"StreamingMovies\\\",\\n]\\ncat_cols = [\\n    \\\"gender\\\",\\n    \\\"Partner\\\",\\n    \\\"Dependents\\\",\\n    \\\"PhoneService\\\",\\n    \\\"MultipleLines\\\",\\n    \\\"InternetService\\\",\\n    \\\"Contract\\\",\\n    \\\"PaperlessBilling\\\",\\n    \\\"PaymentMethod\\\",\\n]\\ndrop_cats = [\\n    \\\"Male\\\",\\n    \\\"No\\\",\\n    \\\"No\\\",\\n    \\\"Yes\\\",\\n    \\\"No\\\",\\n    \\\"Fiber optic\\\",\\n    \\\"Month-to-month\\\",\\n    \\\"Yes\\\",\\n    \\\"Electronic check\\\",\\n]\\nnum_cols = [\\\"tenure\\\", \\\"MonthlyCharges\\\"]\";\n",
       "                var nbb_cells = Jupyter.notebook.get_cells();\n",
       "                for (var i = 0; i < nbb_cells.length; ++i) {\n",
       "                    if (nbb_cells[i].input_prompt_number == nbb_cell_id) {\n",
       "                        if (nbb_cells[i].get_text() == nbb_unformatted_code) {\n",
       "                             nbb_cells[i].set_text(nbb_formatted_code);\n",
       "                        }\n",
       "                        break;\n",
       "                    }\n",
       "                }\n",
       "            }, 500);\n",
       "            "
      ],
      "text/plain": [
       "<IPython.core.display.Javascript object>"
      ]
     },
     "metadata": {},
     "output_type": "display_data"
    }
   ],
   "source": [
    "bin_cols = [\n",
    "    \"SeniorCitizen\",\n",
    "    \"OnlineSecurity\",\n",
    "    \"OnlineBackup\",\n",
    "    \"DeviceProtection\",\n",
    "    \"TechSupport\",\n",
    "    \"StreamingTV\",\n",
    "    \"StreamingMovies\",\n",
    "]\n",
    "cat_cols = [\n",
    "    \"gender\",\n",
    "    \"Partner\",\n",
    "    \"Dependents\",\n",
    "    \"PhoneService\",\n",
    "    \"MultipleLines\",\n",
    "    \"InternetService\",\n",
    "    \"Contract\",\n",
    "    \"PaperlessBilling\",\n",
    "    \"PaymentMethod\",\n",
    "]\n",
    "drop_cats = [\n",
    "    \"Male\",\n",
    "    \"No\",\n",
    "    \"No\",\n",
    "    \"Yes\",\n",
    "    \"No\",\n",
    "    \"Fiber optic\",\n",
    "    \"Month-to-month\",\n",
    "    \"Yes\",\n",
    "    \"Electronic check\",\n",
    "]\n",
    "num_cols = [\"tenure\", \"MonthlyCharges\"]"
   ]
  },
  {
   "cell_type": "code",
   "execution_count": 11,
   "metadata": {},
   "outputs": [
    {
     "data": {
      "application/javascript": [
       "\n",
       "            setTimeout(function() {\n",
       "                var nbb_cell_id = 11;\n",
       "                var nbb_unformatted_code = \"preprocessing = ColumnTransformer(\\n    [\\n        (\\\"scale\\\", StandardScaler(), num_cols),\\n        (\\\"one_hot\\\", OneHotEncoder(drop=drop_cats), cat_cols),\\n    ],\\n    remainder=\\\"passthrough\\\",\\n)\";\n",
       "                var nbb_formatted_code = \"preprocessing = ColumnTransformer(\\n    [\\n        (\\\"scale\\\", StandardScaler(), num_cols),\\n        (\\\"one_hot\\\", OneHotEncoder(drop=drop_cats), cat_cols),\\n    ],\\n    remainder=\\\"passthrough\\\",\\n)\";\n",
       "                var nbb_cells = Jupyter.notebook.get_cells();\n",
       "                for (var i = 0; i < nbb_cells.length; ++i) {\n",
       "                    if (nbb_cells[i].input_prompt_number == nbb_cell_id) {\n",
       "                        if (nbb_cells[i].get_text() == nbb_unformatted_code) {\n",
       "                             nbb_cells[i].set_text(nbb_formatted_code);\n",
       "                        }\n",
       "                        break;\n",
       "                    }\n",
       "                }\n",
       "            }, 500);\n",
       "            "
      ],
      "text/plain": [
       "<IPython.core.display.Javascript object>"
      ]
     },
     "metadata": {},
     "output_type": "display_data"
    }
   ],
   "source": [
    "preprocessing = ColumnTransformer(\n",
    "    [\n",
    "        (\"scale\", StandardScaler(), num_cols),\n",
    "        (\"one_hot\", OneHotEncoder(drop=drop_cats), cat_cols),\n",
    "    ],\n",
    "    remainder=\"passthrough\",\n",
    ")"
   ]
  },
  {
   "cell_type": "code",
   "execution_count": 12,
   "metadata": {
    "scrolled": true
   },
   "outputs": [
    {
     "name": "stdout",
     "output_type": "stream",
     "text": [
      "VIF results\n",
      "-------------------------------\n",
      "const                                      7.179093\n",
      "gender_Female                              1.001534\n",
      "Partner_Yes                                1.386883\n",
      "Dependents_Yes                             1.338551\n",
      "PhoneService_No                                 inf\n",
      "MultipleLines_No phone service                  inf\n",
      "MultipleLines_Yes                          1.325600\n",
      "InternetService_DSL                        1.683530\n",
      "InternetService_No                         1.859399\n",
      "Contract_One year                          1.213636\n",
      "Contract_Two year                          1.486182\n",
      "PaperlessBilling_No                        1.203400\n",
      "PaymentMethod_Bank transfer (automatic)    1.454779\n",
      "PaymentMethod_Credit card (automatic)      1.469735\n",
      "PaymentMethod_Mailed check                 1.639003\n",
      "dtype: float64\n",
      "-------------------------------\n",
      "\n"
     ]
    },
    {
     "name": "stderr",
     "output_type": "stream",
     "text": [
      "C:\\Users\\jlim7\\anaconda3\\lib\\site-packages\\statsmodels\\stats\\outliers_influence.py:193: RuntimeWarning: divide by zero encountered in double_scalars\n",
      "  vif = 1. / (1. - r_squared_i)\n"
     ]
    },
    {
     "data": {
      "application/javascript": [
       "\n",
       "            setTimeout(function() {\n",
       "                var nbb_cell_id = 12;\n",
       "                var nbb_unformatted_code = \"encoder = OneHotEncoder(drop=drop_cats, sparse=False)\\nX_preprocessed = pd.DataFrame(encoder.fit_transform(X_train[cat_cols]))\\nX_preprocessed.columns = encoder.get_feature_names(cat_cols)\\nprint_vif(X_preprocessed)\";\n",
       "                var nbb_formatted_code = \"encoder = OneHotEncoder(drop=drop_cats, sparse=False)\\nX_preprocessed = pd.DataFrame(encoder.fit_transform(X_train[cat_cols]))\\nX_preprocessed.columns = encoder.get_feature_names(cat_cols)\\nprint_vif(X_preprocessed)\";\n",
       "                var nbb_cells = Jupyter.notebook.get_cells();\n",
       "                for (var i = 0; i < nbb_cells.length; ++i) {\n",
       "                    if (nbb_cells[i].input_prompt_number == nbb_cell_id) {\n",
       "                        if (nbb_cells[i].get_text() == nbb_unformatted_code) {\n",
       "                             nbb_cells[i].set_text(nbb_formatted_code);\n",
       "                        }\n",
       "                        break;\n",
       "                    }\n",
       "                }\n",
       "            }, 500);\n",
       "            "
      ],
      "text/plain": [
       "<IPython.core.display.Javascript object>"
      ]
     },
     "metadata": {},
     "output_type": "display_data"
    }
   ],
   "source": [
    "encoder = OneHotEncoder(drop=drop_cats, sparse=False)\n",
    "X_preprocessed = pd.DataFrame(encoder.fit_transform(X_train[cat_cols]))\n",
    "X_preprocessed.columns = encoder.get_feature_names(cat_cols)\n",
    "print_vif(X_preprocessed)"
   ]
  },
  {
   "cell_type": "code",
   "execution_count": 13,
   "metadata": {},
   "outputs": [
    {
     "data": {
      "text/plain": [
       "(5634, 14)"
      ]
     },
     "execution_count": 13,
     "metadata": {},
     "output_type": "execute_result"
    },
    {
     "data": {
      "application/javascript": [
       "\n",
       "            setTimeout(function() {\n",
       "                var nbb_cell_id = 13;\n",
       "                var nbb_unformatted_code = \"X_preprocessed.shape\";\n",
       "                var nbb_formatted_code = \"X_preprocessed.shape\";\n",
       "                var nbb_cells = Jupyter.notebook.get_cells();\n",
       "                for (var i = 0; i < nbb_cells.length; ++i) {\n",
       "                    if (nbb_cells[i].input_prompt_number == nbb_cell_id) {\n",
       "                        if (nbb_cells[i].get_text() == nbb_unformatted_code) {\n",
       "                             nbb_cells[i].set_text(nbb_formatted_code);\n",
       "                        }\n",
       "                        break;\n",
       "                    }\n",
       "                }\n",
       "            }, 500);\n",
       "            "
      ],
      "text/plain": [
       "<IPython.core.display.Javascript object>"
      ]
     },
     "metadata": {},
     "output_type": "display_data"
    }
   ],
   "source": [
    "X_preprocessed.shape"
   ]
  },
  {
   "cell_type": "code",
   "execution_count": 14,
   "metadata": {},
   "outputs": [
    {
     "name": "stdout",
     "output_type": "stream",
     "text": [
      "VIF results\n",
      "-------------------------------\n",
      "const             6.288773\n",
      "SeniorCitizen     1.052649\n",
      "tenure            1.067205\n",
      "MonthlyCharges    1.121267\n",
      "dtype: float64\n",
      "-------------------------------\n",
      "\n"
     ]
    },
    {
     "data": {
      "application/javascript": [
       "\n",
       "            setTimeout(function() {\n",
       "                var nbb_cell_id = 14;\n",
       "                var nbb_unformatted_code = \"print_vif(X.select_dtypes(\\\"number\\\"))\";\n",
       "                var nbb_formatted_code = \"print_vif(X.select_dtypes(\\\"number\\\"))\";\n",
       "                var nbb_cells = Jupyter.notebook.get_cells();\n",
       "                for (var i = 0; i < nbb_cells.length; ++i) {\n",
       "                    if (nbb_cells[i].input_prompt_number == nbb_cell_id) {\n",
       "                        if (nbb_cells[i].get_text() == nbb_unformatted_code) {\n",
       "                             nbb_cells[i].set_text(nbb_formatted_code);\n",
       "                        }\n",
       "                        break;\n",
       "                    }\n",
       "                }\n",
       "            }, 500);\n",
       "            "
      ],
      "text/plain": [
       "<IPython.core.display.Javascript object>"
      ]
     },
     "metadata": {},
     "output_type": "display_data"
    }
   ],
   "source": [
    "print_vif(X.select_dtypes(\"number\"))"
   ]
  },
  {
   "cell_type": "markdown",
   "metadata": {},
   "source": [
    "### According to the vif results there aren't any columns that have high colinearity. In order to reduce features I've decided to first use SelectKBest and choose 15 of the columns. "
   ]
  },
  {
   "cell_type": "code",
   "execution_count": 15,
   "metadata": {},
   "outputs": [
    {
     "data": {
      "application/javascript": [
       "\n",
       "            setTimeout(function() {\n",
       "                var nbb_cell_id = 15;\n",
       "                var nbb_unformatted_code = \"churn = pd.get_dummies(churn, columns=cat_cols, drop_first=True)\";\n",
       "                var nbb_formatted_code = \"churn = pd.get_dummies(churn, columns=cat_cols, drop_first=True)\";\n",
       "                var nbb_cells = Jupyter.notebook.get_cells();\n",
       "                for (var i = 0; i < nbb_cells.length; ++i) {\n",
       "                    if (nbb_cells[i].input_prompt_number == nbb_cell_id) {\n",
       "                        if (nbb_cells[i].get_text() == nbb_unformatted_code) {\n",
       "                             nbb_cells[i].set_text(nbb_formatted_code);\n",
       "                        }\n",
       "                        break;\n",
       "                    }\n",
       "                }\n",
       "            }, 500);\n",
       "            "
      ],
      "text/plain": [
       "<IPython.core.display.Javascript object>"
      ]
     },
     "metadata": {},
     "output_type": "display_data"
    }
   ],
   "source": [
    "churn = pd.get_dummies(churn, columns=cat_cols, drop_first=True)"
   ]
  },
  {
   "cell_type": "code",
   "execution_count": 16,
   "metadata": {},
   "outputs": [
    {
     "data": {
      "text/html": [
       "<div>\n",
       "<style scoped>\n",
       "    .dataframe tbody tr th:only-of-type {\n",
       "        vertical-align: middle;\n",
       "    }\n",
       "\n",
       "    .dataframe tbody tr th {\n",
       "        vertical-align: top;\n",
       "    }\n",
       "\n",
       "    .dataframe thead th {\n",
       "        text-align: right;\n",
       "    }\n",
       "</style>\n",
       "<table border=\"1\" class=\"dataframe\">\n",
       "  <thead>\n",
       "    <tr style=\"text-align: right;\">\n",
       "      <th></th>\n",
       "      <th>SeniorCitizen</th>\n",
       "      <th>tenure</th>\n",
       "      <th>OnlineSecurity</th>\n",
       "      <th>OnlineBackup</th>\n",
       "      <th>DeviceProtection</th>\n",
       "      <th>TechSupport</th>\n",
       "      <th>StreamingTV</th>\n",
       "      <th>StreamingMovies</th>\n",
       "      <th>MonthlyCharges</th>\n",
       "      <th>Churn_Yes</th>\n",
       "      <th>gender_Male</th>\n",
       "      <th>Partner_Yes</th>\n",
       "      <th>Dependents_Yes</th>\n",
       "      <th>PhoneService_Yes</th>\n",
       "      <th>MultipleLines_No phone service</th>\n",
       "      <th>MultipleLines_Yes</th>\n",
       "      <th>InternetService_Fiber optic</th>\n",
       "      <th>InternetService_No</th>\n",
       "      <th>Contract_One year</th>\n",
       "      <th>Contract_Two year</th>\n",
       "      <th>PaperlessBilling_Yes</th>\n",
       "      <th>PaymentMethod_Credit card (automatic)</th>\n",
       "      <th>PaymentMethod_Electronic check</th>\n",
       "      <th>PaymentMethod_Mailed check</th>\n",
       "    </tr>\n",
       "  </thead>\n",
       "  <tbody>\n",
       "    <tr>\n",
       "      <th>0</th>\n",
       "      <td>0</td>\n",
       "      <td>1</td>\n",
       "      <td>0</td>\n",
       "      <td>1</td>\n",
       "      <td>0</td>\n",
       "      <td>0</td>\n",
       "      <td>0</td>\n",
       "      <td>0</td>\n",
       "      <td>29.85</td>\n",
       "      <td>0</td>\n",
       "      <td>0</td>\n",
       "      <td>1</td>\n",
       "      <td>0</td>\n",
       "      <td>0</td>\n",
       "      <td>1</td>\n",
       "      <td>0</td>\n",
       "      <td>0</td>\n",
       "      <td>0</td>\n",
       "      <td>0</td>\n",
       "      <td>0</td>\n",
       "      <td>1</td>\n",
       "      <td>0</td>\n",
       "      <td>1</td>\n",
       "      <td>0</td>\n",
       "    </tr>\n",
       "    <tr>\n",
       "      <th>1</th>\n",
       "      <td>0</td>\n",
       "      <td>34</td>\n",
       "      <td>1</td>\n",
       "      <td>0</td>\n",
       "      <td>1</td>\n",
       "      <td>0</td>\n",
       "      <td>0</td>\n",
       "      <td>0</td>\n",
       "      <td>56.95</td>\n",
       "      <td>0</td>\n",
       "      <td>1</td>\n",
       "      <td>0</td>\n",
       "      <td>0</td>\n",
       "      <td>1</td>\n",
       "      <td>0</td>\n",
       "      <td>0</td>\n",
       "      <td>0</td>\n",
       "      <td>0</td>\n",
       "      <td>1</td>\n",
       "      <td>0</td>\n",
       "      <td>0</td>\n",
       "      <td>0</td>\n",
       "      <td>0</td>\n",
       "      <td>1</td>\n",
       "    </tr>\n",
       "    <tr>\n",
       "      <th>2</th>\n",
       "      <td>0</td>\n",
       "      <td>2</td>\n",
       "      <td>1</td>\n",
       "      <td>1</td>\n",
       "      <td>0</td>\n",
       "      <td>0</td>\n",
       "      <td>0</td>\n",
       "      <td>0</td>\n",
       "      <td>53.85</td>\n",
       "      <td>1</td>\n",
       "      <td>1</td>\n",
       "      <td>0</td>\n",
       "      <td>0</td>\n",
       "      <td>1</td>\n",
       "      <td>0</td>\n",
       "      <td>0</td>\n",
       "      <td>0</td>\n",
       "      <td>0</td>\n",
       "      <td>0</td>\n",
       "      <td>0</td>\n",
       "      <td>1</td>\n",
       "      <td>0</td>\n",
       "      <td>0</td>\n",
       "      <td>1</td>\n",
       "    </tr>\n",
       "    <tr>\n",
       "      <th>3</th>\n",
       "      <td>0</td>\n",
       "      <td>45</td>\n",
       "      <td>1</td>\n",
       "      <td>0</td>\n",
       "      <td>1</td>\n",
       "      <td>1</td>\n",
       "      <td>0</td>\n",
       "      <td>0</td>\n",
       "      <td>42.30</td>\n",
       "      <td>0</td>\n",
       "      <td>1</td>\n",
       "      <td>0</td>\n",
       "      <td>0</td>\n",
       "      <td>0</td>\n",
       "      <td>1</td>\n",
       "      <td>0</td>\n",
       "      <td>0</td>\n",
       "      <td>0</td>\n",
       "      <td>1</td>\n",
       "      <td>0</td>\n",
       "      <td>0</td>\n",
       "      <td>0</td>\n",
       "      <td>0</td>\n",
       "      <td>0</td>\n",
       "    </tr>\n",
       "    <tr>\n",
       "      <th>4</th>\n",
       "      <td>0</td>\n",
       "      <td>2</td>\n",
       "      <td>0</td>\n",
       "      <td>0</td>\n",
       "      <td>0</td>\n",
       "      <td>0</td>\n",
       "      <td>0</td>\n",
       "      <td>0</td>\n",
       "      <td>70.70</td>\n",
       "      <td>1</td>\n",
       "      <td>0</td>\n",
       "      <td>0</td>\n",
       "      <td>0</td>\n",
       "      <td>1</td>\n",
       "      <td>0</td>\n",
       "      <td>0</td>\n",
       "      <td>1</td>\n",
       "      <td>0</td>\n",
       "      <td>0</td>\n",
       "      <td>0</td>\n",
       "      <td>1</td>\n",
       "      <td>0</td>\n",
       "      <td>1</td>\n",
       "      <td>0</td>\n",
       "    </tr>\n",
       "  </tbody>\n",
       "</table>\n",
       "</div>"
      ],
      "text/plain": [
       "   SeniorCitizen  tenure  OnlineSecurity  OnlineBackup  DeviceProtection  \\\n",
       "0              0       1               0             1                 0   \n",
       "1              0      34               1             0                 1   \n",
       "2              0       2               1             1                 0   \n",
       "3              0      45               1             0                 1   \n",
       "4              0       2               0             0                 0   \n",
       "\n",
       "   TechSupport  StreamingTV  StreamingMovies  MonthlyCharges  Churn_Yes  \\\n",
       "0            0            0                0           29.85          0   \n",
       "1            0            0                0           56.95          0   \n",
       "2            0            0                0           53.85          1   \n",
       "3            1            0                0           42.30          0   \n",
       "4            0            0                0           70.70          1   \n",
       "\n",
       "   gender_Male  Partner_Yes  Dependents_Yes  PhoneService_Yes  \\\n",
       "0            0            1               0                 0   \n",
       "1            1            0               0                 1   \n",
       "2            1            0               0                 1   \n",
       "3            1            0               0                 0   \n",
       "4            0            0               0                 1   \n",
       "\n",
       "   MultipleLines_No phone service  MultipleLines_Yes  \\\n",
       "0                               1                  0   \n",
       "1                               0                  0   \n",
       "2                               0                  0   \n",
       "3                               1                  0   \n",
       "4                               0                  0   \n",
       "\n",
       "   InternetService_Fiber optic  InternetService_No  Contract_One year  \\\n",
       "0                            0                   0                  0   \n",
       "1                            0                   0                  1   \n",
       "2                            0                   0                  0   \n",
       "3                            0                   0                  1   \n",
       "4                            1                   0                  0   \n",
       "\n",
       "   Contract_Two year  PaperlessBilling_Yes  \\\n",
       "0                  0                     1   \n",
       "1                  0                     0   \n",
       "2                  0                     1   \n",
       "3                  0                     0   \n",
       "4                  0                     1   \n",
       "\n",
       "   PaymentMethod_Credit card (automatic)  PaymentMethod_Electronic check  \\\n",
       "0                                      0                               1   \n",
       "1                                      0                               0   \n",
       "2                                      0                               0   \n",
       "3                                      0                               0   \n",
       "4                                      0                               1   \n",
       "\n",
       "   PaymentMethod_Mailed check  \n",
       "0                           0  \n",
       "1                           1  \n",
       "2                           1  \n",
       "3                           0  \n",
       "4                           0  "
      ]
     },
     "execution_count": 16,
     "metadata": {},
     "output_type": "execute_result"
    },
    {
     "data": {
      "application/javascript": [
       "\n",
       "            setTimeout(function() {\n",
       "                var nbb_cell_id = 16;\n",
       "                var nbb_unformatted_code = \"churn.head()\";\n",
       "                var nbb_formatted_code = \"churn.head()\";\n",
       "                var nbb_cells = Jupyter.notebook.get_cells();\n",
       "                for (var i = 0; i < nbb_cells.length; ++i) {\n",
       "                    if (nbb_cells[i].input_prompt_number == nbb_cell_id) {\n",
       "                        if (nbb_cells[i].get_text() == nbb_unformatted_code) {\n",
       "                             nbb_cells[i].set_text(nbb_formatted_code);\n",
       "                        }\n",
       "                        break;\n",
       "                    }\n",
       "                }\n",
       "            }, 500);\n",
       "            "
      ],
      "text/plain": [
       "<IPython.core.display.Javascript object>"
      ]
     },
     "metadata": {},
     "output_type": "display_data"
    }
   ],
   "source": [
    "churn.head()"
   ]
  },
  {
   "cell_type": "code",
   "execution_count": 17,
   "metadata": {},
   "outputs": [
    {
     "data": {
      "application/javascript": [
       "\n",
       "            setTimeout(function() {\n",
       "                var nbb_cell_id = 17;\n",
       "                var nbb_unformatted_code = \"X = churn.drop(columns=[\\\"Churn_Yes\\\"])\\ny = churn[\\\"Churn_Yes\\\"]\\nfeature_names = list(X.columns.values)\";\n",
       "                var nbb_formatted_code = \"X = churn.drop(columns=[\\\"Churn_Yes\\\"])\\ny = churn[\\\"Churn_Yes\\\"]\\nfeature_names = list(X.columns.values)\";\n",
       "                var nbb_cells = Jupyter.notebook.get_cells();\n",
       "                for (var i = 0; i < nbb_cells.length; ++i) {\n",
       "                    if (nbb_cells[i].input_prompt_number == nbb_cell_id) {\n",
       "                        if (nbb_cells[i].get_text() == nbb_unformatted_code) {\n",
       "                             nbb_cells[i].set_text(nbb_formatted_code);\n",
       "                        }\n",
       "                        break;\n",
       "                    }\n",
       "                }\n",
       "            }, 500);\n",
       "            "
      ],
      "text/plain": [
       "<IPython.core.display.Javascript object>"
      ]
     },
     "metadata": {},
     "output_type": "display_data"
    }
   ],
   "source": [
    "X = churn.drop(columns=[\"Churn_Yes\"])\n",
    "y = churn[\"Churn_Yes\"]\n",
    "feature_names = list(X.columns.values)"
   ]
  },
  {
   "cell_type": "code",
   "execution_count": 18,
   "metadata": {},
   "outputs": [
    {
     "data": {
      "application/javascript": [
       "\n",
       "            setTimeout(function() {\n",
       "                var nbb_cell_id = 18;\n",
       "                var nbb_unformatted_code = \"selector = SelectKBest(k=15).fit(X, y)\\nX = selector.transform(X)\\nscores = selector.scores_\";\n",
       "                var nbb_formatted_code = \"selector = SelectKBest(k=15).fit(X, y)\\nX = selector.transform(X)\\nscores = selector.scores_\";\n",
       "                var nbb_cells = Jupyter.notebook.get_cells();\n",
       "                for (var i = 0; i < nbb_cells.length; ++i) {\n",
       "                    if (nbb_cells[i].input_prompt_number == nbb_cell_id) {\n",
       "                        if (nbb_cells[i].get_text() == nbb_unformatted_code) {\n",
       "                             nbb_cells[i].set_text(nbb_formatted_code);\n",
       "                        }\n",
       "                        break;\n",
       "                    }\n",
       "                }\n",
       "            }, 500);\n",
       "            "
      ],
      "text/plain": [
       "<IPython.core.display.Javascript object>"
      ]
     },
     "metadata": {},
     "output_type": "display_data"
    }
   ],
   "source": [
    "selector = SelectKBest(k=15).fit(X, y)\n",
    "X = selector.transform(X)\n",
    "scores = selector.scores_"
   ]
  },
  {
   "cell_type": "code",
   "execution_count": 19,
   "metadata": {},
   "outputs": [
    {
     "data": {
      "text/plain": [
       "(7043, 15)"
      ]
     },
     "execution_count": 19,
     "metadata": {},
     "output_type": "execute_result"
    },
    {
     "data": {
      "application/javascript": [
       "\n",
       "            setTimeout(function() {\n",
       "                var nbb_cell_id = 19;\n",
       "                var nbb_unformatted_code = \"X.shape\";\n",
       "                var nbb_formatted_code = \"X.shape\";\n",
       "                var nbb_cells = Jupyter.notebook.get_cells();\n",
       "                for (var i = 0; i < nbb_cells.length; ++i) {\n",
       "                    if (nbb_cells[i].input_prompt_number == nbb_cell_id) {\n",
       "                        if (nbb_cells[i].get_text() == nbb_unformatted_code) {\n",
       "                             nbb_cells[i].set_text(nbb_formatted_code);\n",
       "                        }\n",
       "                        break;\n",
       "                    }\n",
       "                }\n",
       "            }, 500);\n",
       "            "
      ],
      "text/plain": [
       "<IPython.core.display.Javascript object>"
      ]
     },
     "metadata": {},
     "output_type": "display_data"
    }
   ],
   "source": [
    "X.shape"
   ]
  },
  {
   "cell_type": "code",
   "execution_count": 20,
   "metadata": {},
   "outputs": [
    {
     "data": {
      "application/javascript": [
       "\n",
       "            setTimeout(function() {\n",
       "                var nbb_cell_id = 20;\n",
       "                var nbb_unformatted_code = \"mask = selector.get_support()  # list of booleans\\nnew_features = []  # The list of your K best features\\n\\nfor bool, feature in zip(mask, feature_names):\\n    if bool:\\n        new_features.append(feature)\\n\\nX = pd.DataFrame(X, columns=new_features)\";\n",
       "                var nbb_formatted_code = \"mask = selector.get_support()  # list of booleans\\nnew_features = []  # The list of your K best features\\n\\nfor bool, feature in zip(mask, feature_names):\\n    if bool:\\n        new_features.append(feature)\\n\\nX = pd.DataFrame(X, columns=new_features)\";\n",
       "                var nbb_cells = Jupyter.notebook.get_cells();\n",
       "                for (var i = 0; i < nbb_cells.length; ++i) {\n",
       "                    if (nbb_cells[i].input_prompt_number == nbb_cell_id) {\n",
       "                        if (nbb_cells[i].get_text() == nbb_unformatted_code) {\n",
       "                             nbb_cells[i].set_text(nbb_formatted_code);\n",
       "                        }\n",
       "                        break;\n",
       "                    }\n",
       "                }\n",
       "            }, 500);\n",
       "            "
      ],
      "text/plain": [
       "<IPython.core.display.Javascript object>"
      ]
     },
     "metadata": {},
     "output_type": "display_data"
    }
   ],
   "source": [
    "mask = selector.get_support()  # list of booleans\n",
    "new_features = []  # The list of your K best features\n",
    "\n",
    "for bool, feature in zip(mask, feature_names):\n",
    "    if bool:\n",
    "        new_features.append(feature)\n",
    "\n",
    "X = pd.DataFrame(X, columns=new_features)"
   ]
  },
  {
   "cell_type": "code",
   "execution_count": 21,
   "metadata": {},
   "outputs": [
    {
     "data": {
      "text/html": [
       "<div>\n",
       "<style scoped>\n",
       "    .dataframe tbody tr th:only-of-type {\n",
       "        vertical-align: middle;\n",
       "    }\n",
       "\n",
       "    .dataframe tbody tr th {\n",
       "        vertical-align: top;\n",
       "    }\n",
       "\n",
       "    .dataframe thead th {\n",
       "        text-align: right;\n",
       "    }\n",
       "</style>\n",
       "<table border=\"1\" class=\"dataframe\">\n",
       "  <thead>\n",
       "    <tr style=\"text-align: right;\">\n",
       "      <th></th>\n",
       "      <th>SeniorCitizen</th>\n",
       "      <th>tenure</th>\n",
       "      <th>OnlineSecurity</th>\n",
       "      <th>TechSupport</th>\n",
       "      <th>MonthlyCharges</th>\n",
       "      <th>Partner_Yes</th>\n",
       "      <th>Dependents_Yes</th>\n",
       "      <th>InternetService_Fiber optic</th>\n",
       "      <th>InternetService_No</th>\n",
       "      <th>Contract_One year</th>\n",
       "      <th>Contract_Two year</th>\n",
       "      <th>PaperlessBilling_Yes</th>\n",
       "      <th>PaymentMethod_Credit card (automatic)</th>\n",
       "      <th>PaymentMethod_Electronic check</th>\n",
       "      <th>PaymentMethod_Mailed check</th>\n",
       "    </tr>\n",
       "  </thead>\n",
       "  <tbody>\n",
       "    <tr>\n",
       "      <th>0</th>\n",
       "      <td>0.0</td>\n",
       "      <td>1.0</td>\n",
       "      <td>0.0</td>\n",
       "      <td>0.0</td>\n",
       "      <td>29.85</td>\n",
       "      <td>1.0</td>\n",
       "      <td>0.0</td>\n",
       "      <td>0.0</td>\n",
       "      <td>0.0</td>\n",
       "      <td>0.0</td>\n",
       "      <td>0.0</td>\n",
       "      <td>1.0</td>\n",
       "      <td>0.0</td>\n",
       "      <td>1.0</td>\n",
       "      <td>0.0</td>\n",
       "    </tr>\n",
       "    <tr>\n",
       "      <th>1</th>\n",
       "      <td>0.0</td>\n",
       "      <td>34.0</td>\n",
       "      <td>1.0</td>\n",
       "      <td>0.0</td>\n",
       "      <td>56.95</td>\n",
       "      <td>0.0</td>\n",
       "      <td>0.0</td>\n",
       "      <td>0.0</td>\n",
       "      <td>0.0</td>\n",
       "      <td>1.0</td>\n",
       "      <td>0.0</td>\n",
       "      <td>0.0</td>\n",
       "      <td>0.0</td>\n",
       "      <td>0.0</td>\n",
       "      <td>1.0</td>\n",
       "    </tr>\n",
       "    <tr>\n",
       "      <th>2</th>\n",
       "      <td>0.0</td>\n",
       "      <td>2.0</td>\n",
       "      <td>1.0</td>\n",
       "      <td>0.0</td>\n",
       "      <td>53.85</td>\n",
       "      <td>0.0</td>\n",
       "      <td>0.0</td>\n",
       "      <td>0.0</td>\n",
       "      <td>0.0</td>\n",
       "      <td>0.0</td>\n",
       "      <td>0.0</td>\n",
       "      <td>1.0</td>\n",
       "      <td>0.0</td>\n",
       "      <td>0.0</td>\n",
       "      <td>1.0</td>\n",
       "    </tr>\n",
       "    <tr>\n",
       "      <th>3</th>\n",
       "      <td>0.0</td>\n",
       "      <td>45.0</td>\n",
       "      <td>1.0</td>\n",
       "      <td>1.0</td>\n",
       "      <td>42.30</td>\n",
       "      <td>0.0</td>\n",
       "      <td>0.0</td>\n",
       "      <td>0.0</td>\n",
       "      <td>0.0</td>\n",
       "      <td>1.0</td>\n",
       "      <td>0.0</td>\n",
       "      <td>0.0</td>\n",
       "      <td>0.0</td>\n",
       "      <td>0.0</td>\n",
       "      <td>0.0</td>\n",
       "    </tr>\n",
       "    <tr>\n",
       "      <th>4</th>\n",
       "      <td>0.0</td>\n",
       "      <td>2.0</td>\n",
       "      <td>0.0</td>\n",
       "      <td>0.0</td>\n",
       "      <td>70.70</td>\n",
       "      <td>0.0</td>\n",
       "      <td>0.0</td>\n",
       "      <td>1.0</td>\n",
       "      <td>0.0</td>\n",
       "      <td>0.0</td>\n",
       "      <td>0.0</td>\n",
       "      <td>1.0</td>\n",
       "      <td>0.0</td>\n",
       "      <td>1.0</td>\n",
       "      <td>0.0</td>\n",
       "    </tr>\n",
       "  </tbody>\n",
       "</table>\n",
       "</div>"
      ],
      "text/plain": [
       "   SeniorCitizen  tenure  OnlineSecurity  TechSupport  MonthlyCharges  \\\n",
       "0            0.0     1.0             0.0          0.0           29.85   \n",
       "1            0.0    34.0             1.0          0.0           56.95   \n",
       "2            0.0     2.0             1.0          0.0           53.85   \n",
       "3            0.0    45.0             1.0          1.0           42.30   \n",
       "4            0.0     2.0             0.0          0.0           70.70   \n",
       "\n",
       "   Partner_Yes  Dependents_Yes  InternetService_Fiber optic  \\\n",
       "0          1.0             0.0                          0.0   \n",
       "1          0.0             0.0                          0.0   \n",
       "2          0.0             0.0                          0.0   \n",
       "3          0.0             0.0                          0.0   \n",
       "4          0.0             0.0                          1.0   \n",
       "\n",
       "   InternetService_No  Contract_One year  Contract_Two year  \\\n",
       "0                 0.0                0.0                0.0   \n",
       "1                 0.0                1.0                0.0   \n",
       "2                 0.0                0.0                0.0   \n",
       "3                 0.0                1.0                0.0   \n",
       "4                 0.0                0.0                0.0   \n",
       "\n",
       "   PaperlessBilling_Yes  PaymentMethod_Credit card (automatic)  \\\n",
       "0                   1.0                                    0.0   \n",
       "1                   0.0                                    0.0   \n",
       "2                   1.0                                    0.0   \n",
       "3                   0.0                                    0.0   \n",
       "4                   1.0                                    0.0   \n",
       "\n",
       "   PaymentMethod_Electronic check  PaymentMethod_Mailed check  \n",
       "0                             1.0                         0.0  \n",
       "1                             0.0                         1.0  \n",
       "2                             0.0                         1.0  \n",
       "3                             0.0                         0.0  \n",
       "4                             1.0                         0.0  "
      ]
     },
     "execution_count": 21,
     "metadata": {},
     "output_type": "execute_result"
    },
    {
     "data": {
      "application/javascript": [
       "\n",
       "            setTimeout(function() {\n",
       "                var nbb_cell_id = 21;\n",
       "                var nbb_unformatted_code = \"X.head()\";\n",
       "                var nbb_formatted_code = \"X.head()\";\n",
       "                var nbb_cells = Jupyter.notebook.get_cells();\n",
       "                for (var i = 0; i < nbb_cells.length; ++i) {\n",
       "                    if (nbb_cells[i].input_prompt_number == nbb_cell_id) {\n",
       "                        if (nbb_cells[i].get_text() == nbb_unformatted_code) {\n",
       "                             nbb_cells[i].set_text(nbb_formatted_code);\n",
       "                        }\n",
       "                        break;\n",
       "                    }\n",
       "                }\n",
       "            }, 500);\n",
       "            "
      ],
      "text/plain": [
       "<IPython.core.display.Javascript object>"
      ]
     },
     "metadata": {},
     "output_type": "display_data"
    }
   ],
   "source": [
    "X.head()"
   ]
  },
  {
   "cell_type": "code",
   "execution_count": 22,
   "metadata": {},
   "outputs": [
    {
     "data": {
      "application/javascript": [
       "\n",
       "            setTimeout(function() {\n",
       "                var nbb_cell_id = 22;\n",
       "                var nbb_unformatted_code = \"X_train, X_test, y_train, y_test = train_test_split(\\n    X, y, test_size=0.20, random_state=13, stratify=y\\n)\";\n",
       "                var nbb_formatted_code = \"X_train, X_test, y_train, y_test = train_test_split(\\n    X, y, test_size=0.20, random_state=13, stratify=y\\n)\";\n",
       "                var nbb_cells = Jupyter.notebook.get_cells();\n",
       "                for (var i = 0; i < nbb_cells.length; ++i) {\n",
       "                    if (nbb_cells[i].input_prompt_number == nbb_cell_id) {\n",
       "                        if (nbb_cells[i].get_text() == nbb_unformatted_code) {\n",
       "                             nbb_cells[i].set_text(nbb_formatted_code);\n",
       "                        }\n",
       "                        break;\n",
       "                    }\n",
       "                }\n",
       "            }, 500);\n",
       "            "
      ],
      "text/plain": [
       "<IPython.core.display.Javascript object>"
      ]
     },
     "metadata": {},
     "output_type": "display_data"
    }
   ],
   "source": [
    "X_train, X_test, y_train, y_test = train_test_split(\n",
    "    X, y, test_size=0.20, random_state=13, stratify=y\n",
    ")"
   ]
  },
  {
   "cell_type": "code",
   "execution_count": 23,
   "metadata": {},
   "outputs": [
    {
     "data": {
      "application/javascript": [
       "\n",
       "            setTimeout(function() {\n",
       "                var nbb_cell_id = 23;\n",
       "                var nbb_unformatted_code = \"preprocessing = ColumnTransformer(\\n    [(\\\"scale\\\", StandardScaler(), num_cols),], remainder=\\\"passthrough\\\",\\n)\";\n",
       "                var nbb_formatted_code = \"preprocessing = ColumnTransformer(\\n    [(\\\"scale\\\", StandardScaler(), num_cols),], remainder=\\\"passthrough\\\",\\n)\";\n",
       "                var nbb_cells = Jupyter.notebook.get_cells();\n",
       "                for (var i = 0; i < nbb_cells.length; ++i) {\n",
       "                    if (nbb_cells[i].input_prompt_number == nbb_cell_id) {\n",
       "                        if (nbb_cells[i].get_text() == nbb_unformatted_code) {\n",
       "                             nbb_cells[i].set_text(nbb_formatted_code);\n",
       "                        }\n",
       "                        break;\n",
       "                    }\n",
       "                }\n",
       "            }, 500);\n",
       "            "
      ],
      "text/plain": [
       "<IPython.core.display.Javascript object>"
      ]
     },
     "metadata": {},
     "output_type": "display_data"
    }
   ],
   "source": [
    "preprocessing = ColumnTransformer(\n",
    "    [(\"scale\", StandardScaler(), num_cols),], remainder=\"passthrough\",\n",
    ")"
   ]
  },
  {
   "cell_type": "markdown",
   "metadata": {},
   "source": [
    "# K Nearest Neighbor Classifier with K = 15"
   ]
  },
  {
   "cell_type": "code",
   "execution_count": 24,
   "metadata": {},
   "outputs": [
    {
     "name": "stdout",
     "output_type": "stream",
     "text": [
      "[Pipeline] ..... (step 1 of 2) Processing preprocessing, total=   0.0s\n",
      "[Pipeline] ............... (step 2 of 2) Processing knn, total=   0.0s\n"
     ]
    },
    {
     "data": {
      "text/plain": [
       "Pipeline(memory=None,\n",
       "         steps=[('preprocessing',\n",
       "                 ColumnTransformer(n_jobs=None, remainder='passthrough',\n",
       "                                   sparse_threshold=0.3,\n",
       "                                   transformer_weights=None,\n",
       "                                   transformers=[('scale',\n",
       "                                                  StandardScaler(copy=True,\n",
       "                                                                 with_mean=True,\n",
       "                                                                 with_std=True),\n",
       "                                                  ['tenure',\n",
       "                                                   'MonthlyCharges'])],\n",
       "                                   verbose=False)),\n",
       "                ('knn',\n",
       "                 KNeighborsClassifier(algorithm='auto', leaf_size=30,\n",
       "                                      metric='minkowski', metric_params=None,\n",
       "                                      n_jobs=None, n_neighbors=5, p=2,\n",
       "                                      weights='uniform'))],\n",
       "         verbose=True)"
      ]
     },
     "execution_count": 24,
     "metadata": {},
     "output_type": "execute_result"
    },
    {
     "data": {
      "application/javascript": [
       "\n",
       "            setTimeout(function() {\n",
       "                var nbb_cell_id = 24;\n",
       "                var nbb_unformatted_code = \"pipeline = Pipeline(\\n    [(\\\"preprocessing\\\", preprocessing), (\\\"knn\\\", KNeighborsClassifier())], verbose=True\\n)\\n\\npipeline.fit(X_train, y_train)\";\n",
       "                var nbb_formatted_code = \"pipeline = Pipeline(\\n    [(\\\"preprocessing\\\", preprocessing), (\\\"knn\\\", KNeighborsClassifier())], verbose=True\\n)\\n\\npipeline.fit(X_train, y_train)\";\n",
       "                var nbb_cells = Jupyter.notebook.get_cells();\n",
       "                for (var i = 0; i < nbb_cells.length; ++i) {\n",
       "                    if (nbb_cells[i].input_prompt_number == nbb_cell_id) {\n",
       "                        if (nbb_cells[i].get_text() == nbb_unformatted_code) {\n",
       "                             nbb_cells[i].set_text(nbb_formatted_code);\n",
       "                        }\n",
       "                        break;\n",
       "                    }\n",
       "                }\n",
       "            }, 500);\n",
       "            "
      ],
      "text/plain": [
       "<IPython.core.display.Javascript object>"
      ]
     },
     "metadata": {},
     "output_type": "display_data"
    }
   ],
   "source": [
    "pipeline = Pipeline(\n",
    "    [(\"preprocessing\", preprocessing), (\"knn\", KNeighborsClassifier())], verbose=True\n",
    ")\n",
    "\n",
    "pipeline.fit(X_train, y_train)"
   ]
  },
  {
   "cell_type": "code",
   "execution_count": 25,
   "metadata": {},
   "outputs": [
    {
     "name": "stdout",
     "output_type": "stream",
     "text": [
      "Train score: 0.8313809016684416\n",
      "Test score: 0.7615330021291696\n"
     ]
    },
    {
     "data": {
      "application/javascript": [
       "\n",
       "            setTimeout(function() {\n",
       "                var nbb_cell_id = 25;\n",
       "                var nbb_unformatted_code = \"train_score = pipeline.score(X_train, y_train)\\ntest_score = pipeline.score(X_test, y_test)\\n\\nprint(f\\\"Train score: {train_score}\\\")\\nprint(f\\\"Test score: {test_score}\\\")\";\n",
       "                var nbb_formatted_code = \"train_score = pipeline.score(X_train, y_train)\\ntest_score = pipeline.score(X_test, y_test)\\n\\nprint(f\\\"Train score: {train_score}\\\")\\nprint(f\\\"Test score: {test_score}\\\")\";\n",
       "                var nbb_cells = Jupyter.notebook.get_cells();\n",
       "                for (var i = 0; i < nbb_cells.length; ++i) {\n",
       "                    if (nbb_cells[i].input_prompt_number == nbb_cell_id) {\n",
       "                        if (nbb_cells[i].get_text() == nbb_unformatted_code) {\n",
       "                             nbb_cells[i].set_text(nbb_formatted_code);\n",
       "                        }\n",
       "                        break;\n",
       "                    }\n",
       "                }\n",
       "            }, 500);\n",
       "            "
      ],
      "text/plain": [
       "<IPython.core.display.Javascript object>"
      ]
     },
     "metadata": {},
     "output_type": "display_data"
    }
   ],
   "source": [
    "train_score = pipeline.score(X_train, y_train)\n",
    "test_score = pipeline.score(X_test, y_test)\n",
    "\n",
    "print(f\"Train score: {train_score}\")\n",
    "print(f\"Test score: {test_score}\")"
   ]
  },
  {
   "cell_type": "code",
   "execution_count": 26,
   "metadata": {},
   "outputs": [
    {
     "name": "stdout",
     "output_type": "stream",
     "text": [
      "                 Predicted No Churn  Predicted Churn\n",
      "Actual No Churn                 883              152\n",
      "Actual Churn                    184              190\n",
      "              precision    recall  f1-score   support\n",
      "\n",
      "           0       0.83      0.85      0.84      1035\n",
      "           1       0.56      0.51      0.53       374\n",
      "\n",
      "    accuracy                           0.76      1409\n",
      "   macro avg       0.69      0.68      0.69      1409\n",
      "weighted avg       0.76      0.76      0.76      1409\n",
      "\n"
     ]
    },
    {
     "data": {
      "application/javascript": [
       "\n",
       "            setTimeout(function() {\n",
       "                var nbb_cell_id = 26;\n",
       "                var nbb_unformatted_code = \"y_pred = pipeline.predict(X_test)\\n\\ncon_mat = pd.DataFrame(\\n    confusion_matrix(y_test, y_pred),\\n    index=[\\\"Actual No Churn\\\", \\\"Actual Churn\\\"],\\n    columns=[\\\"Predicted No Churn\\\", \\\"Predicted Churn\\\"],\\n)\\nprint(con_mat)\\nprint(classification_report(y_test, y_pred))\";\n",
       "                var nbb_formatted_code = \"y_pred = pipeline.predict(X_test)\\n\\ncon_mat = pd.DataFrame(\\n    confusion_matrix(y_test, y_pred),\\n    index=[\\\"Actual No Churn\\\", \\\"Actual Churn\\\"],\\n    columns=[\\\"Predicted No Churn\\\", \\\"Predicted Churn\\\"],\\n)\\nprint(con_mat)\\nprint(classification_report(y_test, y_pred))\";\n",
       "                var nbb_cells = Jupyter.notebook.get_cells();\n",
       "                for (var i = 0; i < nbb_cells.length; ++i) {\n",
       "                    if (nbb_cells[i].input_prompt_number == nbb_cell_id) {\n",
       "                        if (nbb_cells[i].get_text() == nbb_unformatted_code) {\n",
       "                             nbb_cells[i].set_text(nbb_formatted_code);\n",
       "                        }\n",
       "                        break;\n",
       "                    }\n",
       "                }\n",
       "            }, 500);\n",
       "            "
      ],
      "text/plain": [
       "<IPython.core.display.Javascript object>"
      ]
     },
     "metadata": {},
     "output_type": "display_data"
    }
   ],
   "source": [
    "y_pred = pipeline.predict(X_test)\n",
    "\n",
    "con_mat = pd.DataFrame(\n",
    "    confusion_matrix(y_test, y_pred),\n",
    "    index=[\"Actual No Churn\", \"Actual Churn\"],\n",
    "    columns=[\"Predicted No Churn\", \"Predicted Churn\"],\n",
    ")\n",
    "print(con_mat)\n",
    "print(classification_report(y_test, y_pred))"
   ]
  },
  {
   "cell_type": "markdown",
   "metadata": {},
   "source": [
    "#### Add a grid search to optimize KNN model"
   ]
  },
  {
   "cell_type": "code",
   "execution_count": 27,
   "metadata": {},
   "outputs": [
    {
     "name": "stdout",
     "output_type": "stream",
     "text": [
      "[Pipeline] ..... (step 1 of 2) Processing preprocessing, total=   0.0s\n",
      "[Pipeline] ............... (step 2 of 2) Processing knn, total=   0.0s\n"
     ]
    },
    {
     "data": {
      "text/plain": [
       "GridSearchCV(cv=2, error_score=nan,\n",
       "             estimator=Pipeline(memory=None,\n",
       "                                steps=[('preprocessing',\n",
       "                                        ColumnTransformer(n_jobs=None,\n",
       "                                                          remainder='passthrough',\n",
       "                                                          sparse_threshold=0.3,\n",
       "                                                          transformer_weights=None,\n",
       "                                                          transformers=[('scale',\n",
       "                                                                         StandardScaler(copy=True,\n",
       "                                                                                        with_mean=True,\n",
       "                                                                                        with_std=True),\n",
       "                                                                         ['tenure',\n",
       "                                                                          'MonthlyCharges'])],\n",
       "                                                          verbose=False)),\n",
       "                                       ('knn',\n",
       "                                        KNeighborsClassifier(algorithm='auto',\n",
       "                                                             leaf_size=30,\n",
       "                                                             metric='minkowski',\n",
       "                                                             metric_params=None,\n",
       "                                                             n_jobs=None,\n",
       "                                                             n_neighbors=5, p=2,\n",
       "                                                             weights='uniform'))],\n",
       "                                verbose=True),\n",
       "             iid='deprecated', n_jobs=-1,\n",
       "             param_grid={'knn__n_neighbors': [3, 5, 7, 9, 11, 13, 15, 17, 19,\n",
       "                                              21],\n",
       "                         'knn__weights': ['distance', 'uniform']},\n",
       "             pre_dispatch='2*n_jobs', refit=True, return_train_score=False,\n",
       "             scoring=None, verbose=0)"
      ]
     },
     "execution_count": 27,
     "metadata": {},
     "output_type": "execute_result"
    },
    {
     "data": {
      "application/javascript": [
       "\n",
       "            setTimeout(function() {\n",
       "                var nbb_cell_id = 27;\n",
       "                var nbb_unformatted_code = \"grid = {\\n    \\\"knn__n_neighbors\\\": [3, 5, 7, 9, 11, 13, 15, 17, 19, 21],\\n    \\\"knn__weights\\\": [\\\"distance\\\", \\\"uniform\\\"],\\n}\\n\\nmodel = GridSearchCV(pipeline, grid, cv=2, n_jobs=-1)\\nmodel.fit(X_train, y_train)\";\n",
       "                var nbb_formatted_code = \"grid = {\\n    \\\"knn__n_neighbors\\\": [3, 5, 7, 9, 11, 13, 15, 17, 19, 21],\\n    \\\"knn__weights\\\": [\\\"distance\\\", \\\"uniform\\\"],\\n}\\n\\nmodel = GridSearchCV(pipeline, grid, cv=2, n_jobs=-1)\\nmodel.fit(X_train, y_train)\";\n",
       "                var nbb_cells = Jupyter.notebook.get_cells();\n",
       "                for (var i = 0; i < nbb_cells.length; ++i) {\n",
       "                    if (nbb_cells[i].input_prompt_number == nbb_cell_id) {\n",
       "                        if (nbb_cells[i].get_text() == nbb_unformatted_code) {\n",
       "                             nbb_cells[i].set_text(nbb_formatted_code);\n",
       "                        }\n",
       "                        break;\n",
       "                    }\n",
       "                }\n",
       "            }, 500);\n",
       "            "
      ],
      "text/plain": [
       "<IPython.core.display.Javascript object>"
      ]
     },
     "metadata": {},
     "output_type": "display_data"
    }
   ],
   "source": [
    "grid = {\n",
    "    \"knn__n_neighbors\": [3, 5, 7, 9, 11, 13, 15, 17, 19, 21],\n",
    "    \"knn__weights\": [\"distance\", \"uniform\"],\n",
    "}\n",
    "\n",
    "model = GridSearchCV(pipeline, grid, cv=2, n_jobs=-1)\n",
    "model.fit(X_train, y_train)"
   ]
  },
  {
   "cell_type": "code",
   "execution_count": 28,
   "metadata": {},
   "outputs": [
    {
     "data": {
      "text/plain": [
       "{'knn__n_neighbors': 21, 'knn__weights': 'uniform'}"
      ]
     },
     "execution_count": 28,
     "metadata": {},
     "output_type": "execute_result"
    },
    {
     "data": {
      "application/javascript": [
       "\n",
       "            setTimeout(function() {\n",
       "                var nbb_cell_id = 28;\n",
       "                var nbb_unformatted_code = \"model.best_params_\";\n",
       "                var nbb_formatted_code = \"model.best_params_\";\n",
       "                var nbb_cells = Jupyter.notebook.get_cells();\n",
       "                for (var i = 0; i < nbb_cells.length; ++i) {\n",
       "                    if (nbb_cells[i].input_prompt_number == nbb_cell_id) {\n",
       "                        if (nbb_cells[i].get_text() == nbb_unformatted_code) {\n",
       "                             nbb_cells[i].set_text(nbb_formatted_code);\n",
       "                        }\n",
       "                        break;\n",
       "                    }\n",
       "                }\n",
       "            }, 500);\n",
       "            "
      ],
      "text/plain": [
       "<IPython.core.display.Javascript object>"
      ]
     },
     "metadata": {},
     "output_type": "display_data"
    }
   ],
   "source": [
    "model.best_params_"
   ]
  },
  {
   "cell_type": "code",
   "execution_count": 29,
   "metadata": {},
   "outputs": [
    {
     "name": "stdout",
     "output_type": "stream",
     "text": [
      "Train score: 0.8022719204827831\n",
      "Test score: 0.7913413768630234\n"
     ]
    },
    {
     "data": {
      "application/javascript": [
       "\n",
       "            setTimeout(function() {\n",
       "                var nbb_cell_id = 29;\n",
       "                var nbb_unformatted_code = \"train_score = model.score(X_train, y_train)\\ntest_score = model.score(X_test, y_test)\\n\\nprint(f\\\"Train score: {train_score}\\\")\\nprint(f\\\"Test score: {test_score}\\\")\";\n",
       "                var nbb_formatted_code = \"train_score = model.score(X_train, y_train)\\ntest_score = model.score(X_test, y_test)\\n\\nprint(f\\\"Train score: {train_score}\\\")\\nprint(f\\\"Test score: {test_score}\\\")\";\n",
       "                var nbb_cells = Jupyter.notebook.get_cells();\n",
       "                for (var i = 0; i < nbb_cells.length; ++i) {\n",
       "                    if (nbb_cells[i].input_prompt_number == nbb_cell_id) {\n",
       "                        if (nbb_cells[i].get_text() == nbb_unformatted_code) {\n",
       "                             nbb_cells[i].set_text(nbb_formatted_code);\n",
       "                        }\n",
       "                        break;\n",
       "                    }\n",
       "                }\n",
       "            }, 500);\n",
       "            "
      ],
      "text/plain": [
       "<IPython.core.display.Javascript object>"
      ]
     },
     "metadata": {},
     "output_type": "display_data"
    }
   ],
   "source": [
    "train_score = model.score(X_train, y_train)\n",
    "test_score = model.score(X_test, y_test)\n",
    "\n",
    "print(f\"Train score: {train_score}\")\n",
    "print(f\"Test score: {test_score}\")"
   ]
  },
  {
   "cell_type": "code",
   "execution_count": 30,
   "metadata": {},
   "outputs": [
    {
     "name": "stdout",
     "output_type": "stream",
     "text": [
      "                 Predicted No Churn  Predicted Churn\n",
      "Actual No Churn                 913              122\n",
      "Actual Churn                    172              202\n",
      "              precision    recall  f1-score   support\n",
      "\n",
      "           0       0.84      0.88      0.86      1035\n",
      "           1       0.62      0.54      0.58       374\n",
      "\n",
      "    accuracy                           0.79      1409\n",
      "   macro avg       0.73      0.71      0.72      1409\n",
      "weighted avg       0.78      0.79      0.79      1409\n",
      "\n"
     ]
    },
    {
     "data": {
      "application/javascript": [
       "\n",
       "            setTimeout(function() {\n",
       "                var nbb_cell_id = 30;\n",
       "                var nbb_unformatted_code = \"y_pred = model.predict(X_test)\\n\\ncon_mat = pd.DataFrame(\\n    confusion_matrix(y_test, y_pred),\\n    index=[\\\"Actual No Churn\\\", \\\"Actual Churn\\\"],\\n    columns=[\\\"Predicted No Churn\\\", \\\"Predicted Churn\\\"],\\n)\\nprint(con_mat)\\nprint(classification_report(y_test, y_pred))\";\n",
       "                var nbb_formatted_code = \"y_pred = model.predict(X_test)\\n\\ncon_mat = pd.DataFrame(\\n    confusion_matrix(y_test, y_pred),\\n    index=[\\\"Actual No Churn\\\", \\\"Actual Churn\\\"],\\n    columns=[\\\"Predicted No Churn\\\", \\\"Predicted Churn\\\"],\\n)\\nprint(con_mat)\\nprint(classification_report(y_test, y_pred))\";\n",
       "                var nbb_cells = Jupyter.notebook.get_cells();\n",
       "                for (var i = 0; i < nbb_cells.length; ++i) {\n",
       "                    if (nbb_cells[i].input_prompt_number == nbb_cell_id) {\n",
       "                        if (nbb_cells[i].get_text() == nbb_unformatted_code) {\n",
       "                             nbb_cells[i].set_text(nbb_formatted_code);\n",
       "                        }\n",
       "                        break;\n",
       "                    }\n",
       "                }\n",
       "            }, 500);\n",
       "            "
      ],
      "text/plain": [
       "<IPython.core.display.Javascript object>"
      ]
     },
     "metadata": {},
     "output_type": "display_data"
    }
   ],
   "source": [
    "y_pred = model.predict(X_test)\n",
    "\n",
    "con_mat = pd.DataFrame(\n",
    "    confusion_matrix(y_test, y_pred),\n",
    "    index=[\"Actual No Churn\", \"Actual Churn\"],\n",
    "    columns=[\"Predicted No Churn\", \"Predicted Churn\"],\n",
    ")\n",
    "print(con_mat)\n",
    "print(classification_report(y_test, y_pred))"
   ]
  },
  {
   "cell_type": "markdown",
   "metadata": {},
   "source": [
    "# Support Vector Classifier with K = 15"
   ]
  },
  {
   "cell_type": "code",
   "execution_count": 31,
   "metadata": {},
   "outputs": [
    {
     "name": "stdout",
     "output_type": "stream",
     "text": [
      "[Pipeline] ..... (step 1 of 2) Processing preprocessing, total=   0.0s\n",
      "[Pipeline] ............... (step 2 of 2) Processing SVC, total=   0.6s\n"
     ]
    },
    {
     "data": {
      "text/plain": [
       "Pipeline(memory=None,\n",
       "         steps=[('preprocessing',\n",
       "                 ColumnTransformer(n_jobs=None, remainder='passthrough',\n",
       "                                   sparse_threshold=0.3,\n",
       "                                   transformer_weights=None,\n",
       "                                   transformers=[('scale',\n",
       "                                                  StandardScaler(copy=True,\n",
       "                                                                 with_mean=True,\n",
       "                                                                 with_std=True),\n",
       "                                                  ['tenure',\n",
       "                                                   'MonthlyCharges'])],\n",
       "                                   verbose=False)),\n",
       "                ('SVC',\n",
       "                 SVC(C=1.0, break_ties=False, cache_size=200, class_weight=None,\n",
       "                     coef0=0.0, decision_function_shape='ovr', degree=3,\n",
       "                     gamma='scale', kernel='rbf', max_iter=-1,\n",
       "                     probability=False, random_state=None, shrinking=True,\n",
       "                     tol=0.001, verbose=False))],\n",
       "         verbose=True)"
      ]
     },
     "execution_count": 31,
     "metadata": {},
     "output_type": "execute_result"
    },
    {
     "data": {
      "application/javascript": [
       "\n",
       "            setTimeout(function() {\n",
       "                var nbb_cell_id = 31;\n",
       "                var nbb_unformatted_code = \"pipeline = Pipeline([(\\\"preprocessing\\\", preprocessing), (\\\"SVC\\\", SVC())], verbose=True)\\n\\npipeline.fit(X_train, y_train)\";\n",
       "                var nbb_formatted_code = \"pipeline = Pipeline([(\\\"preprocessing\\\", preprocessing), (\\\"SVC\\\", SVC())], verbose=True)\\n\\npipeline.fit(X_train, y_train)\";\n",
       "                var nbb_cells = Jupyter.notebook.get_cells();\n",
       "                for (var i = 0; i < nbb_cells.length; ++i) {\n",
       "                    if (nbb_cells[i].input_prompt_number == nbb_cell_id) {\n",
       "                        if (nbb_cells[i].get_text() == nbb_unformatted_code) {\n",
       "                             nbb_cells[i].set_text(nbb_formatted_code);\n",
       "                        }\n",
       "                        break;\n",
       "                    }\n",
       "                }\n",
       "            }, 500);\n",
       "            "
      ],
      "text/plain": [
       "<IPython.core.display.Javascript object>"
      ]
     },
     "metadata": {},
     "output_type": "display_data"
    }
   ],
   "source": [
    "pipeline = Pipeline([(\"preprocessing\", preprocessing), (\"SVC\", SVC())], verbose=True)\n",
    "\n",
    "pipeline.fit(X_train, y_train)"
   ]
  },
  {
   "cell_type": "code",
   "execution_count": 32,
   "metadata": {},
   "outputs": [
    {
     "name": "stdout",
     "output_type": "stream",
     "text": [
      "Train score: 0.8054668086616968\n",
      "Test score: 0.8034066713981547\n"
     ]
    },
    {
     "data": {
      "application/javascript": [
       "\n",
       "            setTimeout(function() {\n",
       "                var nbb_cell_id = 32;\n",
       "                var nbb_unformatted_code = \"train_score = pipeline.score(X_train, y_train)\\ntest_score = pipeline.score(X_test, y_test)\\n\\nprint(f\\\"Train score: {train_score}\\\")\\nprint(f\\\"Test score: {test_score}\\\")\";\n",
       "                var nbb_formatted_code = \"train_score = pipeline.score(X_train, y_train)\\ntest_score = pipeline.score(X_test, y_test)\\n\\nprint(f\\\"Train score: {train_score}\\\")\\nprint(f\\\"Test score: {test_score}\\\")\";\n",
       "                var nbb_cells = Jupyter.notebook.get_cells();\n",
       "                for (var i = 0; i < nbb_cells.length; ++i) {\n",
       "                    if (nbb_cells[i].input_prompt_number == nbb_cell_id) {\n",
       "                        if (nbb_cells[i].get_text() == nbb_unformatted_code) {\n",
       "                             nbb_cells[i].set_text(nbb_formatted_code);\n",
       "                        }\n",
       "                        break;\n",
       "                    }\n",
       "                }\n",
       "            }, 500);\n",
       "            "
      ],
      "text/plain": [
       "<IPython.core.display.Javascript object>"
      ]
     },
     "metadata": {},
     "output_type": "display_data"
    }
   ],
   "source": [
    "train_score = pipeline.score(X_train, y_train)\n",
    "test_score = pipeline.score(X_test, y_test)\n",
    "\n",
    "print(f\"Train score: {train_score}\")\n",
    "print(f\"Test score: {test_score}\")"
   ]
  },
  {
   "cell_type": "code",
   "execution_count": 33,
   "metadata": {},
   "outputs": [
    {
     "name": "stdout",
     "output_type": "stream",
     "text": [
      "                 Predicted No Churn  Predicted Churn\n",
      "Actual No Churn                 953               82\n",
      "Actual Churn                    195              179\n",
      "              precision    recall  f1-score   support\n",
      "\n",
      "           0       0.83      0.92      0.87      1035\n",
      "           1       0.69      0.48      0.56       374\n",
      "\n",
      "    accuracy                           0.80      1409\n",
      "   macro avg       0.76      0.70      0.72      1409\n",
      "weighted avg       0.79      0.80      0.79      1409\n",
      "\n"
     ]
    },
    {
     "data": {
      "application/javascript": [
       "\n",
       "            setTimeout(function() {\n",
       "                var nbb_cell_id = 33;\n",
       "                var nbb_unformatted_code = \"y_pred = pipeline.predict(X_test)\\n\\ncon_mat = pd.DataFrame(\\n    confusion_matrix(y_test, y_pred),\\n    index=[\\\"Actual No Churn\\\", \\\"Actual Churn\\\"],\\n    columns=[\\\"Predicted No Churn\\\", \\\"Predicted Churn\\\"],\\n)\\nprint(con_mat)\\nprint(classification_report(y_test, y_pred))\";\n",
       "                var nbb_formatted_code = \"y_pred = pipeline.predict(X_test)\\n\\ncon_mat = pd.DataFrame(\\n    confusion_matrix(y_test, y_pred),\\n    index=[\\\"Actual No Churn\\\", \\\"Actual Churn\\\"],\\n    columns=[\\\"Predicted No Churn\\\", \\\"Predicted Churn\\\"],\\n)\\nprint(con_mat)\\nprint(classification_report(y_test, y_pred))\";\n",
       "                var nbb_cells = Jupyter.notebook.get_cells();\n",
       "                for (var i = 0; i < nbb_cells.length; ++i) {\n",
       "                    if (nbb_cells[i].input_prompt_number == nbb_cell_id) {\n",
       "                        if (nbb_cells[i].get_text() == nbb_unformatted_code) {\n",
       "                             nbb_cells[i].set_text(nbb_formatted_code);\n",
       "                        }\n",
       "                        break;\n",
       "                    }\n",
       "                }\n",
       "            }, 500);\n",
       "            "
      ],
      "text/plain": [
       "<IPython.core.display.Javascript object>"
      ]
     },
     "metadata": {},
     "output_type": "display_data"
    }
   ],
   "source": [
    "y_pred = pipeline.predict(X_test)\n",
    "\n",
    "con_mat = pd.DataFrame(\n",
    "    confusion_matrix(y_test, y_pred),\n",
    "    index=[\"Actual No Churn\", \"Actual Churn\"],\n",
    "    columns=[\"Predicted No Churn\", \"Predicted Churn\"],\n",
    ")\n",
    "print(con_mat)\n",
    "print(classification_report(y_test, y_pred))"
   ]
  },
  {
   "cell_type": "markdown",
   "metadata": {},
   "source": [
    "#### Add a grid search to optimize SVC model"
   ]
  },
  {
   "cell_type": "code",
   "execution_count": 34,
   "metadata": {},
   "outputs": [
    {
     "name": "stdout",
     "output_type": "stream",
     "text": [
      "[Pipeline] ..... (step 1 of 2) Processing preprocessing, total=   0.0s\n",
      "[Pipeline] ............... (step 2 of 2) Processing SVC, total=   0.5s\n"
     ]
    },
    {
     "data": {
      "text/plain": [
       "GridSearchCV(cv=2, error_score=nan,\n",
       "             estimator=Pipeline(memory=None,\n",
       "                                steps=[('preprocessing',\n",
       "                                        ColumnTransformer(n_jobs=None,\n",
       "                                                          remainder='passthrough',\n",
       "                                                          sparse_threshold=0.3,\n",
       "                                                          transformer_weights=None,\n",
       "                                                          transformers=[('scale',\n",
       "                                                                         StandardScaler(copy=True,\n",
       "                                                                                        with_mean=True,\n",
       "                                                                                        with_std=True),\n",
       "                                                                         ['tenure',\n",
       "                                                                          'MonthlyCharges'])],\n",
       "                                                          verbose=False)),\n",
       "                                       ('SVC',\n",
       "                                        SVC(C=1.0, break_ties=False,\n",
       "                                            cac...\n",
       "                                            degree=3, gamma='scale',\n",
       "                                            kernel='rbf', max_iter=-1,\n",
       "                                            probability=False,\n",
       "                                            random_state=None, shrinking=True,\n",
       "                                            tol=0.001, verbose=False))],\n",
       "                                verbose=True),\n",
       "             iid='deprecated', n_jobs=-1,\n",
       "             param_grid={'SVC__C': [1, 10, 100, 1000],\n",
       "                         'SVC__degree': [3, 5, 7, 10],\n",
       "                         'SVC__kernel': ['linear', 'rbf', 'poly']},\n",
       "             pre_dispatch='2*n_jobs', refit=True, return_train_score=False,\n",
       "             scoring=None, verbose=0)"
      ]
     },
     "execution_count": 34,
     "metadata": {},
     "output_type": "execute_result"
    },
    {
     "data": {
      "application/javascript": [
       "\n",
       "            setTimeout(function() {\n",
       "                var nbb_cell_id = 34;\n",
       "                var nbb_unformatted_code = \"grid = {\\n    \\\"SVC__kernel\\\": [\\\"linear\\\", \\\"rbf\\\", \\\"poly\\\"],\\n    \\\"SVC__C\\\": [1, 10, 100, 1000],\\n    \\\"SVC__degree\\\": [3, 5, 7, 10],\\n}\\n\\nmodel = GridSearchCV(pipeline, grid, cv=2, n_jobs=-1)\\nmodel.fit(X_train, y_train)\";\n",
       "                var nbb_formatted_code = \"grid = {\\n    \\\"SVC__kernel\\\": [\\\"linear\\\", \\\"rbf\\\", \\\"poly\\\"],\\n    \\\"SVC__C\\\": [1, 10, 100, 1000],\\n    \\\"SVC__degree\\\": [3, 5, 7, 10],\\n}\\n\\nmodel = GridSearchCV(pipeline, grid, cv=2, n_jobs=-1)\\nmodel.fit(X_train, y_train)\";\n",
       "                var nbb_cells = Jupyter.notebook.get_cells();\n",
       "                for (var i = 0; i < nbb_cells.length; ++i) {\n",
       "                    if (nbb_cells[i].input_prompt_number == nbb_cell_id) {\n",
       "                        if (nbb_cells[i].get_text() == nbb_unformatted_code) {\n",
       "                             nbb_cells[i].set_text(nbb_formatted_code);\n",
       "                        }\n",
       "                        break;\n",
       "                    }\n",
       "                }\n",
       "            }, 500);\n",
       "            "
      ],
      "text/plain": [
       "<IPython.core.display.Javascript object>"
      ]
     },
     "metadata": {},
     "output_type": "display_data"
    }
   ],
   "source": [
    "grid = {\n",
    "    \"SVC__kernel\": [\"linear\", \"rbf\", \"poly\"],\n",
    "    \"SVC__C\": [1, 10, 100, 1000],\n",
    "    \"SVC__degree\": [3, 5, 7, 10],\n",
    "}\n",
    "\n",
    "model = GridSearchCV(pipeline, grid, cv=2, n_jobs=-1)\n",
    "model.fit(X_train, y_train)"
   ]
  },
  {
   "cell_type": "code",
   "execution_count": 35,
   "metadata": {},
   "outputs": [
    {
     "data": {
      "text/plain": [
       "{'SVC__C': 1, 'SVC__degree': 3, 'SVC__kernel': 'poly'}"
      ]
     },
     "execution_count": 35,
     "metadata": {},
     "output_type": "execute_result"
    },
    {
     "data": {
      "application/javascript": [
       "\n",
       "            setTimeout(function() {\n",
       "                var nbb_cell_id = 35;\n",
       "                var nbb_unformatted_code = \"model.best_params_\";\n",
       "                var nbb_formatted_code = \"model.best_params_\";\n",
       "                var nbb_cells = Jupyter.notebook.get_cells();\n",
       "                for (var i = 0; i < nbb_cells.length; ++i) {\n",
       "                    if (nbb_cells[i].input_prompt_number == nbb_cell_id) {\n",
       "                        if (nbb_cells[i].get_text() == nbb_unformatted_code) {\n",
       "                             nbb_cells[i].set_text(nbb_formatted_code);\n",
       "                        }\n",
       "                        break;\n",
       "                    }\n",
       "                }\n",
       "            }, 500);\n",
       "            "
      ],
      "text/plain": [
       "<IPython.core.display.Javascript object>"
      ]
     },
     "metadata": {},
     "output_type": "display_data"
    }
   ],
   "source": [
    "model.best_params_"
   ]
  },
  {
   "cell_type": "code",
   "execution_count": 36,
   "metadata": {},
   "outputs": [
    {
     "name": "stdout",
     "output_type": "stream",
     "text": [
      "Train score: 0.8045793397231097\n",
      "Test score: 0.7991483321504613\n"
     ]
    },
    {
     "data": {
      "application/javascript": [
       "\n",
       "            setTimeout(function() {\n",
       "                var nbb_cell_id = 36;\n",
       "                var nbb_unformatted_code = \"train_score = model.score(X_train, y_train)\\ntest_score = model.score(X_test, y_test)\\n\\nprint(f\\\"Train score: {train_score}\\\")\\nprint(f\\\"Test score: {test_score}\\\")\";\n",
       "                var nbb_formatted_code = \"train_score = model.score(X_train, y_train)\\ntest_score = model.score(X_test, y_test)\\n\\nprint(f\\\"Train score: {train_score}\\\")\\nprint(f\\\"Test score: {test_score}\\\")\";\n",
       "                var nbb_cells = Jupyter.notebook.get_cells();\n",
       "                for (var i = 0; i < nbb_cells.length; ++i) {\n",
       "                    if (nbb_cells[i].input_prompt_number == nbb_cell_id) {\n",
       "                        if (nbb_cells[i].get_text() == nbb_unformatted_code) {\n",
       "                             nbb_cells[i].set_text(nbb_formatted_code);\n",
       "                        }\n",
       "                        break;\n",
       "                    }\n",
       "                }\n",
       "            }, 500);\n",
       "            "
      ],
      "text/plain": [
       "<IPython.core.display.Javascript object>"
      ]
     },
     "metadata": {},
     "output_type": "display_data"
    }
   ],
   "source": [
    "train_score = model.score(X_train, y_train)\n",
    "test_score = model.score(X_test, y_test)\n",
    "\n",
    "print(f\"Train score: {train_score}\")\n",
    "print(f\"Test score: {test_score}\")"
   ]
  },
  {
   "cell_type": "code",
   "execution_count": 37,
   "metadata": {},
   "outputs": [
    {
     "name": "stdout",
     "output_type": "stream",
     "text": [
      "                 Predicted No Churn  Predicted Churn\n",
      "Actual No Churn                 965               70\n",
      "Actual Churn                    213              161\n",
      "              precision    recall  f1-score   support\n",
      "\n",
      "           0       0.82      0.93      0.87      1035\n",
      "           1       0.70      0.43      0.53       374\n",
      "\n",
      "    accuracy                           0.80      1409\n",
      "   macro avg       0.76      0.68      0.70      1409\n",
      "weighted avg       0.79      0.80      0.78      1409\n",
      "\n"
     ]
    },
    {
     "data": {
      "application/javascript": [
       "\n",
       "            setTimeout(function() {\n",
       "                var nbb_cell_id = 37;\n",
       "                var nbb_unformatted_code = \"y_pred = model.predict(X_test)\\n\\ncon_mat = pd.DataFrame(\\n    confusion_matrix(y_test, y_pred),\\n    index=[\\\"Actual No Churn\\\", \\\"Actual Churn\\\"],\\n    columns=[\\\"Predicted No Churn\\\", \\\"Predicted Churn\\\"],\\n)\\nprint(con_mat)\\nprint(classification_report(y_test, y_pred))\";\n",
       "                var nbb_formatted_code = \"y_pred = model.predict(X_test)\\n\\ncon_mat = pd.DataFrame(\\n    confusion_matrix(y_test, y_pred),\\n    index=[\\\"Actual No Churn\\\", \\\"Actual Churn\\\"],\\n    columns=[\\\"Predicted No Churn\\\", \\\"Predicted Churn\\\"],\\n)\\nprint(con_mat)\\nprint(classification_report(y_test, y_pred))\";\n",
       "                var nbb_cells = Jupyter.notebook.get_cells();\n",
       "                for (var i = 0; i < nbb_cells.length; ++i) {\n",
       "                    if (nbb_cells[i].input_prompt_number == nbb_cell_id) {\n",
       "                        if (nbb_cells[i].get_text() == nbb_unformatted_code) {\n",
       "                             nbb_cells[i].set_text(nbb_formatted_code);\n",
       "                        }\n",
       "                        break;\n",
       "                    }\n",
       "                }\n",
       "            }, 500);\n",
       "            "
      ],
      "text/plain": [
       "<IPython.core.display.Javascript object>"
      ]
     },
     "metadata": {},
     "output_type": "display_data"
    }
   ],
   "source": [
    "y_pred = model.predict(X_test)\n",
    "\n",
    "con_mat = pd.DataFrame(\n",
    "    confusion_matrix(y_test, y_pred),\n",
    "    index=[\"Actual No Churn\", \"Actual Churn\"],\n",
    "    columns=[\"Predicted No Churn\", \"Predicted Churn\"],\n",
    ")\n",
    "print(con_mat)\n",
    "print(classification_report(y_test, y_pred))"
   ]
  },
  {
   "cell_type": "markdown",
   "metadata": {},
   "source": [
    "# Random Forest Classifier with K = 15"
   ]
  },
  {
   "cell_type": "code",
   "execution_count": 38,
   "metadata": {},
   "outputs": [
    {
     "name": "stdout",
     "output_type": "stream",
     "text": [
      "[Pipeline] ..... (step 1 of 2) Processing preprocessing, total=   0.0s\n",
      "[Pipeline] ................ (step 2 of 2) Processing rf, total=   0.4s\n"
     ]
    },
    {
     "data": {
      "text/plain": [
       "Pipeline(memory=None,\n",
       "         steps=[('preprocessing',\n",
       "                 ColumnTransformer(n_jobs=None, remainder='passthrough',\n",
       "                                   sparse_threshold=0.3,\n",
       "                                   transformer_weights=None,\n",
       "                                   transformers=[('scale',\n",
       "                                                  StandardScaler(copy=True,\n",
       "                                                                 with_mean=True,\n",
       "                                                                 with_std=True),\n",
       "                                                  ['tenure',\n",
       "                                                   'MonthlyCharges'])],\n",
       "                                   verbose=False)),\n",
       "                ('rf',\n",
       "                 RandomForestClassifier(bootstrap=True, ccp_alpha=0.0,\n",
       "                                        class_weight=None, criterion='gini',\n",
       "                                        max_depth=None, max_features='auto',\n",
       "                                        max_leaf_nodes=None, max_samples=None,\n",
       "                                        min_impurity_decrease=0.0,\n",
       "                                        min_impurity_split=None,\n",
       "                                        min_samples_leaf=1, min_samples_split=2,\n",
       "                                        min_weight_fraction_leaf=0.0,\n",
       "                                        n_estimators=100, n_jobs=None,\n",
       "                                        oob_score=False, random_state=None,\n",
       "                                        verbose=0, warm_start=False))],\n",
       "         verbose=True)"
      ]
     },
     "execution_count": 38,
     "metadata": {},
     "output_type": "execute_result"
    },
    {
     "data": {
      "application/javascript": [
       "\n",
       "            setTimeout(function() {\n",
       "                var nbb_cell_id = 38;\n",
       "                var nbb_unformatted_code = \"pipeline = Pipeline(\\n    [(\\\"preprocessing\\\", preprocessing), (\\\"rf\\\", RandomForestClassifier())], verbose=True\\n)\\n\\npipeline.fit(X_train, y_train)\";\n",
       "                var nbb_formatted_code = \"pipeline = Pipeline(\\n    [(\\\"preprocessing\\\", preprocessing), (\\\"rf\\\", RandomForestClassifier())], verbose=True\\n)\\n\\npipeline.fit(X_train, y_train)\";\n",
       "                var nbb_cells = Jupyter.notebook.get_cells();\n",
       "                for (var i = 0; i < nbb_cells.length; ++i) {\n",
       "                    if (nbb_cells[i].input_prompt_number == nbb_cell_id) {\n",
       "                        if (nbb_cells[i].get_text() == nbb_unformatted_code) {\n",
       "                             nbb_cells[i].set_text(nbb_formatted_code);\n",
       "                        }\n",
       "                        break;\n",
       "                    }\n",
       "                }\n",
       "            }, 500);\n",
       "            "
      ],
      "text/plain": [
       "<IPython.core.display.Javascript object>"
      ]
     },
     "metadata": {},
     "output_type": "display_data"
    }
   ],
   "source": [
    "pipeline = Pipeline(\n",
    "    [(\"preprocessing\", preprocessing), (\"rf\", RandomForestClassifier())], verbose=True\n",
    ")\n",
    "\n",
    "pipeline.fit(X_train, y_train)"
   ]
  },
  {
   "cell_type": "code",
   "execution_count": 39,
   "metadata": {},
   "outputs": [
    {
     "name": "stdout",
     "output_type": "stream",
     "text": [
      "Train score: 0.9960951366702165\n",
      "Test score: 0.794889992902768\n"
     ]
    },
    {
     "data": {
      "application/javascript": [
       "\n",
       "            setTimeout(function() {\n",
       "                var nbb_cell_id = 39;\n",
       "                var nbb_unformatted_code = \"train_score = pipeline.score(X_train, y_train)\\ntest_score = pipeline.score(X_test, y_test)\\n\\nprint(f\\\"Train score: {train_score}\\\")\\nprint(f\\\"Test score: {test_score}\\\")\";\n",
       "                var nbb_formatted_code = \"train_score = pipeline.score(X_train, y_train)\\ntest_score = pipeline.score(X_test, y_test)\\n\\nprint(f\\\"Train score: {train_score}\\\")\\nprint(f\\\"Test score: {test_score}\\\")\";\n",
       "                var nbb_cells = Jupyter.notebook.get_cells();\n",
       "                for (var i = 0; i < nbb_cells.length; ++i) {\n",
       "                    if (nbb_cells[i].input_prompt_number == nbb_cell_id) {\n",
       "                        if (nbb_cells[i].get_text() == nbb_unformatted_code) {\n",
       "                             nbb_cells[i].set_text(nbb_formatted_code);\n",
       "                        }\n",
       "                        break;\n",
       "                    }\n",
       "                }\n",
       "            }, 500);\n",
       "            "
      ],
      "text/plain": [
       "<IPython.core.display.Javascript object>"
      ]
     },
     "metadata": {},
     "output_type": "display_data"
    }
   ],
   "source": [
    "train_score = pipeline.score(X_train, y_train)\n",
    "test_score = pipeline.score(X_test, y_test)\n",
    "\n",
    "print(f\"Train score: {train_score}\")\n",
    "print(f\"Test score: {test_score}\")"
   ]
  },
  {
   "cell_type": "code",
   "execution_count": 40,
   "metadata": {},
   "outputs": [
    {
     "name": "stdout",
     "output_type": "stream",
     "text": [
      "                 Predicted No Churn  Predicted Churn\n",
      "Actual No Churn                 924              111\n",
      "Actual Churn                    178              196\n",
      "              precision    recall  f1-score   support\n",
      "\n",
      "           0       0.84      0.89      0.86      1035\n",
      "           1       0.64      0.52      0.58       374\n",
      "\n",
      "    accuracy                           0.79      1409\n",
      "   macro avg       0.74      0.71      0.72      1409\n",
      "weighted avg       0.79      0.79      0.79      1409\n",
      "\n"
     ]
    },
    {
     "data": {
      "application/javascript": [
       "\n",
       "            setTimeout(function() {\n",
       "                var nbb_cell_id = 40;\n",
       "                var nbb_unformatted_code = \"y_pred = pipeline.predict(X_test)\\n\\ncon_mat = pd.DataFrame(\\n    confusion_matrix(y_test, y_pred),\\n    index=[\\\"Actual No Churn\\\", \\\"Actual Churn\\\"],\\n    columns=[\\\"Predicted No Churn\\\", \\\"Predicted Churn\\\"],\\n)\\nprint(con_mat)\\nprint(classification_report(y_test, y_pred))\";\n",
       "                var nbb_formatted_code = \"y_pred = pipeline.predict(X_test)\\n\\ncon_mat = pd.DataFrame(\\n    confusion_matrix(y_test, y_pred),\\n    index=[\\\"Actual No Churn\\\", \\\"Actual Churn\\\"],\\n    columns=[\\\"Predicted No Churn\\\", \\\"Predicted Churn\\\"],\\n)\\nprint(con_mat)\\nprint(classification_report(y_test, y_pred))\";\n",
       "                var nbb_cells = Jupyter.notebook.get_cells();\n",
       "                for (var i = 0; i < nbb_cells.length; ++i) {\n",
       "                    if (nbb_cells[i].input_prompt_number == nbb_cell_id) {\n",
       "                        if (nbb_cells[i].get_text() == nbb_unformatted_code) {\n",
       "                             nbb_cells[i].set_text(nbb_formatted_code);\n",
       "                        }\n",
       "                        break;\n",
       "                    }\n",
       "                }\n",
       "            }, 500);\n",
       "            "
      ],
      "text/plain": [
       "<IPython.core.display.Javascript object>"
      ]
     },
     "metadata": {},
     "output_type": "display_data"
    }
   ],
   "source": [
    "y_pred = pipeline.predict(X_test)\n",
    "\n",
    "con_mat = pd.DataFrame(\n",
    "    confusion_matrix(y_test, y_pred),\n",
    "    index=[\"Actual No Churn\", \"Actual Churn\"],\n",
    "    columns=[\"Predicted No Churn\", \"Predicted Churn\"],\n",
    ")\n",
    "print(con_mat)\n",
    "print(classification_report(y_test, y_pred))"
   ]
  },
  {
   "cell_type": "markdown",
   "metadata": {},
   "source": [
    "#### Add a grid search to optimize Random Forest model"
   ]
  },
  {
   "cell_type": "code",
   "execution_count": 41,
   "metadata": {},
   "outputs": [
    {
     "name": "stdout",
     "output_type": "stream",
     "text": [
      "[Pipeline] ..... (step 1 of 2) Processing preprocessing, total=   0.0s\n",
      "[Pipeline] ................ (step 2 of 2) Processing rf, total=   3.1s\n"
     ]
    },
    {
     "data": {
      "text/plain": [
       "GridSearchCV(cv=2, error_score=nan,\n",
       "             estimator=Pipeline(memory=None,\n",
       "                                steps=[('preprocessing',\n",
       "                                        ColumnTransformer(n_jobs=None,\n",
       "                                                          remainder='passthrough',\n",
       "                                                          sparse_threshold=0.3,\n",
       "                                                          transformer_weights=None,\n",
       "                                                          transformers=[('scale',\n",
       "                                                                         StandardScaler(copy=True,\n",
       "                                                                                        with_mean=True,\n",
       "                                                                                        with_std=True),\n",
       "                                                                         ['tenure',\n",
       "                                                                          'MonthlyCharges'])],\n",
       "                                                          verbose=False)),\n",
       "                                       ('rf',\n",
       "                                        RandomForestClassifier(bootstra...\n",
       "                                                               n_jobs=None,\n",
       "                                                               oob_score=False,\n",
       "                                                               random_state=None,\n",
       "                                                               verbose=0,\n",
       "                                                               warm_start=False))],\n",
       "                                verbose=True),\n",
       "             iid='deprecated', n_jobs=-1,\n",
       "             param_grid={'rf__criterion': ['gini', 'entropy'],\n",
       "                         'rf__max_depth': [3, 5, 7, 10, 15],\n",
       "                         'rf__min_samples_leaf': [1, 3, 5, 7, 10],\n",
       "                         'rf__n_estimators': [1, 10, 100, 1000, 10000]},\n",
       "             pre_dispatch='2*n_jobs', refit=True, return_train_score=False,\n",
       "             scoring=None, verbose=0)"
      ]
     },
     "execution_count": 41,
     "metadata": {},
     "output_type": "execute_result"
    },
    {
     "data": {
      "application/javascript": [
       "\n",
       "            setTimeout(function() {\n",
       "                var nbb_cell_id = 41;\n",
       "                var nbb_unformatted_code = \"grid = {\\n    \\\"rf__max_depth\\\": [3, 5, 7, 10, 15],\\n    \\\"rf__n_estimators\\\": [1, 10, 100, 1000, 10000],\\n    \\\"rf__min_samples_leaf\\\": [1, 3, 5, 7, 10],\\n    \\\"rf__criterion\\\": [\\\"gini\\\", \\\"entropy\\\"],\\n}\\n\\nmodel = GridSearchCV(pipeline, grid, cv=2, n_jobs=-1)\\nmodel.fit(X_train, y_train)\";\n",
       "                var nbb_formatted_code = \"grid = {\\n    \\\"rf__max_depth\\\": [3, 5, 7, 10, 15],\\n    \\\"rf__n_estimators\\\": [1, 10, 100, 1000, 10000],\\n    \\\"rf__min_samples_leaf\\\": [1, 3, 5, 7, 10],\\n    \\\"rf__criterion\\\": [\\\"gini\\\", \\\"entropy\\\"],\\n}\\n\\nmodel = GridSearchCV(pipeline, grid, cv=2, n_jobs=-1)\\nmodel.fit(X_train, y_train)\";\n",
       "                var nbb_cells = Jupyter.notebook.get_cells();\n",
       "                for (var i = 0; i < nbb_cells.length; ++i) {\n",
       "                    if (nbb_cells[i].input_prompt_number == nbb_cell_id) {\n",
       "                        if (nbb_cells[i].get_text() == nbb_unformatted_code) {\n",
       "                             nbb_cells[i].set_text(nbb_formatted_code);\n",
       "                        }\n",
       "                        break;\n",
       "                    }\n",
       "                }\n",
       "            }, 500);\n",
       "            "
      ],
      "text/plain": [
       "<IPython.core.display.Javascript object>"
      ]
     },
     "metadata": {},
     "output_type": "display_data"
    }
   ],
   "source": [
    "grid = {\n",
    "    \"rf__max_depth\": [3, 5, 7, 10, 15],\n",
    "    \"rf__n_estimators\": [1, 10, 100, 1000, 10000],\n",
    "    \"rf__min_samples_leaf\": [1, 3, 5, 7, 10],\n",
    "    \"rf__criterion\": [\"gini\", \"entropy\"],\n",
    "}\n",
    "\n",
    "model = GridSearchCV(pipeline, grid, cv=2, n_jobs=-1)\n",
    "model.fit(X_train, y_train)"
   ]
  },
  {
   "cell_type": "code",
   "execution_count": 42,
   "metadata": {},
   "outputs": [
    {
     "data": {
      "text/plain": [
       "{'rf__criterion': 'entropy',\n",
       " 'rf__max_depth': 10,\n",
       " 'rf__min_samples_leaf': 3,\n",
       " 'rf__n_estimators': 1000}"
      ]
     },
     "execution_count": 42,
     "metadata": {},
     "output_type": "execute_result"
    },
    {
     "data": {
      "application/javascript": [
       "\n",
       "            setTimeout(function() {\n",
       "                var nbb_cell_id = 42;\n",
       "                var nbb_unformatted_code = \"model.best_params_\";\n",
       "                var nbb_formatted_code = \"model.best_params_\";\n",
       "                var nbb_cells = Jupyter.notebook.get_cells();\n",
       "                for (var i = 0; i < nbb_cells.length; ++i) {\n",
       "                    if (nbb_cells[i].input_prompt_number == nbb_cell_id) {\n",
       "                        if (nbb_cells[i].get_text() == nbb_unformatted_code) {\n",
       "                             nbb_cells[i].set_text(nbb_formatted_code);\n",
       "                        }\n",
       "                        break;\n",
       "                    }\n",
       "                }\n",
       "            }, 500);\n",
       "            "
      ],
      "text/plain": [
       "<IPython.core.display.Javascript object>"
      ]
     },
     "metadata": {},
     "output_type": "display_data"
    }
   ],
   "source": [
    "model.best_params_"
   ]
  },
  {
   "cell_type": "code",
   "execution_count": 43,
   "metadata": {},
   "outputs": [
    {
     "name": "stdout",
     "output_type": "stream",
     "text": [
      "Train score: 0.8301384451544196\n",
      "Test score: 0.8062455642299503\n"
     ]
    },
    {
     "data": {
      "application/javascript": [
       "\n",
       "            setTimeout(function() {\n",
       "                var nbb_cell_id = 43;\n",
       "                var nbb_unformatted_code = \"train_score = model.score(X_train, y_train)\\ntest_score = model.score(X_test, y_test)\\n\\nprint(f\\\"Train score: {train_score}\\\")\\nprint(f\\\"Test score: {test_score}\\\")\";\n",
       "                var nbb_formatted_code = \"train_score = model.score(X_train, y_train)\\ntest_score = model.score(X_test, y_test)\\n\\nprint(f\\\"Train score: {train_score}\\\")\\nprint(f\\\"Test score: {test_score}\\\")\";\n",
       "                var nbb_cells = Jupyter.notebook.get_cells();\n",
       "                for (var i = 0; i < nbb_cells.length; ++i) {\n",
       "                    if (nbb_cells[i].input_prompt_number == nbb_cell_id) {\n",
       "                        if (nbb_cells[i].get_text() == nbb_unformatted_code) {\n",
       "                             nbb_cells[i].set_text(nbb_formatted_code);\n",
       "                        }\n",
       "                        break;\n",
       "                    }\n",
       "                }\n",
       "            }, 500);\n",
       "            "
      ],
      "text/plain": [
       "<IPython.core.display.Javascript object>"
      ]
     },
     "metadata": {},
     "output_type": "display_data"
    }
   ],
   "source": [
    "train_score = model.score(X_train, y_train)\n",
    "test_score = model.score(X_test, y_test)\n",
    "\n",
    "print(f\"Train score: {train_score}\")\n",
    "print(f\"Test score: {test_score}\")"
   ]
  },
  {
   "cell_type": "code",
   "execution_count": 44,
   "metadata": {},
   "outputs": [
    {
     "name": "stdout",
     "output_type": "stream",
     "text": [
      "                 Predicted No Churn  Predicted Churn\n",
      "Actual No Churn                 942               93\n",
      "Actual Churn                    180              194\n",
      "              precision    recall  f1-score   support\n",
      "\n",
      "           0       0.84      0.91      0.87      1035\n",
      "           1       0.68      0.52      0.59       374\n",
      "\n",
      "    accuracy                           0.81      1409\n",
      "   macro avg       0.76      0.71      0.73      1409\n",
      "weighted avg       0.80      0.81      0.80      1409\n",
      "\n"
     ]
    },
    {
     "data": {
      "application/javascript": [
       "\n",
       "            setTimeout(function() {\n",
       "                var nbb_cell_id = 44;\n",
       "                var nbb_unformatted_code = \"y_pred = model.predict(X_test)\\n\\ncon_mat = pd.DataFrame(\\n    confusion_matrix(y_test, y_pred),\\n    index=[\\\"Actual No Churn\\\", \\\"Actual Churn\\\"],\\n    columns=[\\\"Predicted No Churn\\\", \\\"Predicted Churn\\\"],\\n)\\nprint(con_mat)\\nprint(classification_report(y_test, y_pred))\";\n",
       "                var nbb_formatted_code = \"y_pred = model.predict(X_test)\\n\\ncon_mat = pd.DataFrame(\\n    confusion_matrix(y_test, y_pred),\\n    index=[\\\"Actual No Churn\\\", \\\"Actual Churn\\\"],\\n    columns=[\\\"Predicted No Churn\\\", \\\"Predicted Churn\\\"],\\n)\\nprint(con_mat)\\nprint(classification_report(y_test, y_pred))\";\n",
       "                var nbb_cells = Jupyter.notebook.get_cells();\n",
       "                for (var i = 0; i < nbb_cells.length; ++i) {\n",
       "                    if (nbb_cells[i].input_prompt_number == nbb_cell_id) {\n",
       "                        if (nbb_cells[i].get_text() == nbb_unformatted_code) {\n",
       "                             nbb_cells[i].set_text(nbb_formatted_code);\n",
       "                        }\n",
       "                        break;\n",
       "                    }\n",
       "                }\n",
       "            }, 500);\n",
       "            "
      ],
      "text/plain": [
       "<IPython.core.display.Javascript object>"
      ]
     },
     "metadata": {},
     "output_type": "display_data"
    }
   ],
   "source": [
    "y_pred = model.predict(X_test)\n",
    "\n",
    "con_mat = pd.DataFrame(\n",
    "    confusion_matrix(y_test, y_pred),\n",
    "    index=[\"Actual No Churn\", \"Actual Churn\"],\n",
    "    columns=[\"Predicted No Churn\", \"Predicted Churn\"],\n",
    ")\n",
    "print(con_mat)\n",
    "print(classification_report(y_test, y_pred))"
   ]
  },
  {
   "cell_type": "markdown",
   "metadata": {},
   "source": [
    "# Gradient Boosted Classifier with K = 15"
   ]
  },
  {
   "cell_type": "code",
   "execution_count": 45,
   "metadata": {},
   "outputs": [
    {
     "name": "stdout",
     "output_type": "stream",
     "text": [
      "[Pipeline] ..... (step 1 of 2) Processing preprocessing, total=   0.0s\n",
      "[Pipeline] ............... (step 2 of 2) Processing xgb, total=   1.5s\n"
     ]
    },
    {
     "data": {
      "text/plain": [
       "Pipeline(memory=None,\n",
       "         steps=[('preprocessing',\n",
       "                 ColumnTransformer(n_jobs=None, remainder='passthrough',\n",
       "                                   sparse_threshold=0.3,\n",
       "                                   transformer_weights=None,\n",
       "                                   transformers=[('scale',\n",
       "                                                  StandardScaler(copy=True,\n",
       "                                                                 with_mean=True,\n",
       "                                                                 with_std=True),\n",
       "                                                  ['tenure',\n",
       "                                                   'MonthlyCharges'])],\n",
       "                                   verbose=False)),\n",
       "                ('xgb',\n",
       "                 XGBClassifier(base_score=0.5, booster='gbtree',\n",
       "                               colsample_bylevel=1, colsampl...\n",
       "                               interaction_constraints='',\n",
       "                               learning_rate=0.300000012, max_delta_step=0,\n",
       "                               max_depth=6, min_child_weight=1, missing=nan,\n",
       "                               monotone_constraints='()', n_estimators=100,\n",
       "                               n_jobs=0, num_parallel_tree=1,\n",
       "                               objective='binary:logistic', random_state=0,\n",
       "                               reg_alpha=0, reg_lambda=1, scale_pos_weight=1,\n",
       "                               subsample=1, tree_method='exact',\n",
       "                               validate_parameters=1, verbosity=None))],\n",
       "         verbose=-1)"
      ]
     },
     "execution_count": 45,
     "metadata": {},
     "output_type": "execute_result"
    },
    {
     "data": {
      "application/javascript": [
       "\n",
       "            setTimeout(function() {\n",
       "                var nbb_cell_id = 45;\n",
       "                var nbb_unformatted_code = \"pipeline = Pipeline(\\n    [(\\\"preprocessing\\\", preprocessing), (\\\"xgb\\\", XGBClassifier())], verbose=-1\\n)\\n\\npipeline.fit(X_train, y_train)\";\n",
       "                var nbb_formatted_code = \"pipeline = Pipeline(\\n    [(\\\"preprocessing\\\", preprocessing), (\\\"xgb\\\", XGBClassifier())], verbose=-1\\n)\\n\\npipeline.fit(X_train, y_train)\";\n",
       "                var nbb_cells = Jupyter.notebook.get_cells();\n",
       "                for (var i = 0; i < nbb_cells.length; ++i) {\n",
       "                    if (nbb_cells[i].input_prompt_number == nbb_cell_id) {\n",
       "                        if (nbb_cells[i].get_text() == nbb_unformatted_code) {\n",
       "                             nbb_cells[i].set_text(nbb_formatted_code);\n",
       "                        }\n",
       "                        break;\n",
       "                    }\n",
       "                }\n",
       "            }, 500);\n",
       "            "
      ],
      "text/plain": [
       "<IPython.core.display.Javascript object>"
      ]
     },
     "metadata": {},
     "output_type": "display_data"
    }
   ],
   "source": [
    "pipeline = Pipeline(\n",
    "    [(\"preprocessing\", preprocessing), (\"xgb\", XGBClassifier())], verbose=-1\n",
    ")\n",
    "\n",
    "pipeline.fit(X_train, y_train)"
   ]
  },
  {
   "cell_type": "code",
   "execution_count": 46,
   "metadata": {},
   "outputs": [
    {
     "name": "stdout",
     "output_type": "stream",
     "text": [
      "Train score: 0.9128505502307419\n",
      "Test score: 0.7913413768630234\n"
     ]
    },
    {
     "data": {
      "application/javascript": [
       "\n",
       "            setTimeout(function() {\n",
       "                var nbb_cell_id = 46;\n",
       "                var nbb_unformatted_code = \"train_score = pipeline.score(X_train, y_train)\\ntest_score = pipeline.score(X_test, y_test)\\n\\nprint(f\\\"Train score: {train_score}\\\")\\nprint(f\\\"Test score: {test_score}\\\")\";\n",
       "                var nbb_formatted_code = \"train_score = pipeline.score(X_train, y_train)\\ntest_score = pipeline.score(X_test, y_test)\\n\\nprint(f\\\"Train score: {train_score}\\\")\\nprint(f\\\"Test score: {test_score}\\\")\";\n",
       "                var nbb_cells = Jupyter.notebook.get_cells();\n",
       "                for (var i = 0; i < nbb_cells.length; ++i) {\n",
       "                    if (nbb_cells[i].input_prompt_number == nbb_cell_id) {\n",
       "                        if (nbb_cells[i].get_text() == nbb_unformatted_code) {\n",
       "                             nbb_cells[i].set_text(nbb_formatted_code);\n",
       "                        }\n",
       "                        break;\n",
       "                    }\n",
       "                }\n",
       "            }, 500);\n",
       "            "
      ],
      "text/plain": [
       "<IPython.core.display.Javascript object>"
      ]
     },
     "metadata": {},
     "output_type": "display_data"
    }
   ],
   "source": [
    "train_score = pipeline.score(X_train, y_train)\n",
    "test_score = pipeline.score(X_test, y_test)\n",
    "\n",
    "print(f\"Train score: {train_score}\")\n",
    "print(f\"Test score: {test_score}\")"
   ]
  },
  {
   "cell_type": "code",
   "execution_count": 47,
   "metadata": {},
   "outputs": [
    {
     "name": "stdout",
     "output_type": "stream",
     "text": [
      "                 Predicted No Churn  Predicted Churn\n",
      "Actual No Churn                 920              115\n",
      "Actual Churn                    179              195\n",
      "              precision    recall  f1-score   support\n",
      "\n",
      "           0       0.84      0.89      0.86      1035\n",
      "           1       0.63      0.52      0.57       374\n",
      "\n",
      "    accuracy                           0.79      1409\n",
      "   macro avg       0.73      0.71      0.72      1409\n",
      "weighted avg       0.78      0.79      0.78      1409\n",
      "\n"
     ]
    },
    {
     "data": {
      "application/javascript": [
       "\n",
       "            setTimeout(function() {\n",
       "                var nbb_cell_id = 47;\n",
       "                var nbb_unformatted_code = \"y_pred = pipeline.predict(X_test)\\n\\ncon_mat = pd.DataFrame(\\n    confusion_matrix(y_test, y_pred),\\n    index=[\\\"Actual No Churn\\\", \\\"Actual Churn\\\"],\\n    columns=[\\\"Predicted No Churn\\\", \\\"Predicted Churn\\\"],\\n)\\nprint(con_mat)\\nprint(classification_report(y_test, y_pred))\";\n",
       "                var nbb_formatted_code = \"y_pred = pipeline.predict(X_test)\\n\\ncon_mat = pd.DataFrame(\\n    confusion_matrix(y_test, y_pred),\\n    index=[\\\"Actual No Churn\\\", \\\"Actual Churn\\\"],\\n    columns=[\\\"Predicted No Churn\\\", \\\"Predicted Churn\\\"],\\n)\\nprint(con_mat)\\nprint(classification_report(y_test, y_pred))\";\n",
       "                var nbb_cells = Jupyter.notebook.get_cells();\n",
       "                for (var i = 0; i < nbb_cells.length; ++i) {\n",
       "                    if (nbb_cells[i].input_prompt_number == nbb_cell_id) {\n",
       "                        if (nbb_cells[i].get_text() == nbb_unformatted_code) {\n",
       "                             nbb_cells[i].set_text(nbb_formatted_code);\n",
       "                        }\n",
       "                        break;\n",
       "                    }\n",
       "                }\n",
       "            }, 500);\n",
       "            "
      ],
      "text/plain": [
       "<IPython.core.display.Javascript object>"
      ]
     },
     "metadata": {},
     "output_type": "display_data"
    }
   ],
   "source": [
    "y_pred = pipeline.predict(X_test)\n",
    "\n",
    "con_mat = pd.DataFrame(\n",
    "    confusion_matrix(y_test, y_pred),\n",
    "    index=[\"Actual No Churn\", \"Actual Churn\"],\n",
    "    columns=[\"Predicted No Churn\", \"Predicted Churn\"],\n",
    ")\n",
    "print(con_mat)\n",
    "print(classification_report(y_test, y_pred))"
   ]
  },
  {
   "cell_type": "markdown",
   "metadata": {},
   "source": [
    "#### Add a grid search to optimize XGB model"
   ]
  },
  {
   "cell_type": "code",
   "execution_count": 48,
   "metadata": {},
   "outputs": [
    {
     "name": "stderr",
     "output_type": "stream",
     "text": [
      "C:\\Users\\jlim7\\anaconda3\\lib\\site-packages\\joblib\\externals\\loky\\process_executor.py:706: UserWarning: A worker stopped while some jobs were given to the executor. This can be caused by a too short worker timeout or by a memory leak.\n",
      "  \"timeout or by a memory leak.\", UserWarning\n"
     ]
    },
    {
     "name": "stdout",
     "output_type": "stream",
     "text": [
      "[Pipeline] ..... (step 1 of 2) Processing preprocessing, total=   0.0s\n",
      "[11:36:23] WARNING: C:\\Users\\Administrator\\workspace\\xgboost-win64_release_1.2.0\\src\\learner.cc:516: \n",
      "Parameters: { n_trees } might not be used.\n",
      "\n",
      "  This may not be accurate due to some parameters are only used in language bindings but\n",
      "  passed down to XGBoost core.  Or some parameters are not used but slip through this\n",
      "  verification. Please open an issue if you find above cases.\n",
      "\n",
      "\n",
      "[Pipeline] ............... (step 2 of 2) Processing xgb, total=   0.1s\n"
     ]
    },
    {
     "data": {
      "text/plain": [
       "GridSearchCV(cv=2, error_score=nan,\n",
       "             estimator=Pipeline(memory=None,\n",
       "                                steps=[('preprocessing',\n",
       "                                        ColumnTransformer(n_jobs=None,\n",
       "                                                          remainder='passthrough',\n",
       "                                                          sparse_threshold=0.3,\n",
       "                                                          transformer_weights=None,\n",
       "                                                          transformers=[('scale',\n",
       "                                                                         StandardScaler(copy=True,\n",
       "                                                                                        with_mean=True,\n",
       "                                                                                        with_std=True),\n",
       "                                                                         ['tenure',\n",
       "                                                                          'MonthlyCharges'])],\n",
       "                                                          verbose=False)),\n",
       "                                       ('xgb',\n",
       "                                        XGBClassifier(base_score=0.5,\n",
       "                                                      b...\n",
       "                                                      tree_method='exact',\n",
       "                                                      validate_parameters=1,\n",
       "                                                      verbosity=None))],\n",
       "                                verbose=-1),\n",
       "             iid='deprecated', n_jobs=-1,\n",
       "             param_grid={'xgb__colsample_bytree': [0.5, 0.75, 1.0],\n",
       "                         'xgb__learning_rate': [0.2, 0.4, 0.6, 0.8, 1],\n",
       "                         'xgb__max_depth': [5, 7, 10],\n",
       "                         'xgb__n_trees': [100, 150, 200],\n",
       "                         'xgb__subsample': [0.5, 0.75, 1.0]},\n",
       "             pre_dispatch='2*n_jobs', refit=True, return_train_score=False,\n",
       "             scoring=None, verbose=0)"
      ]
     },
     "execution_count": 48,
     "metadata": {},
     "output_type": "execute_result"
    },
    {
     "data": {
      "application/javascript": [
       "\n",
       "            setTimeout(function() {\n",
       "                var nbb_cell_id = 48;\n",
       "                var nbb_unformatted_code = \"grid = {\\n    \\\"xgb__subsample\\\": [0.5, 0.75, 1.0],\\n    \\\"xgb__colsample_bytree\\\": [0.5, 0.75, 1.0],\\n    \\\"xgb__max_depth\\\": [5, 7, 10],\\n    \\\"xgb__n_trees\\\": [100, 150, 200],\\n    \\\"xgb__learning_rate\\\": [0.2, 0.4, 0.6, 0.8, 1],\\n}\\nmodel = GridSearchCV(pipeline, grid, cv=2, n_jobs=-1)\\nmodel.fit(X_train, y_train)\";\n",
       "                var nbb_formatted_code = \"grid = {\\n    \\\"xgb__subsample\\\": [0.5, 0.75, 1.0],\\n    \\\"xgb__colsample_bytree\\\": [0.5, 0.75, 1.0],\\n    \\\"xgb__max_depth\\\": [5, 7, 10],\\n    \\\"xgb__n_trees\\\": [100, 150, 200],\\n    \\\"xgb__learning_rate\\\": [0.2, 0.4, 0.6, 0.8, 1],\\n}\\nmodel = GridSearchCV(pipeline, grid, cv=2, n_jobs=-1)\\nmodel.fit(X_train, y_train)\";\n",
       "                var nbb_cells = Jupyter.notebook.get_cells();\n",
       "                for (var i = 0; i < nbb_cells.length; ++i) {\n",
       "                    if (nbb_cells[i].input_prompt_number == nbb_cell_id) {\n",
       "                        if (nbb_cells[i].get_text() == nbb_unformatted_code) {\n",
       "                             nbb_cells[i].set_text(nbb_formatted_code);\n",
       "                        }\n",
       "                        break;\n",
       "                    }\n",
       "                }\n",
       "            }, 500);\n",
       "            "
      ],
      "text/plain": [
       "<IPython.core.display.Javascript object>"
      ]
     },
     "metadata": {},
     "output_type": "display_data"
    }
   ],
   "source": [
    "grid = {\n",
    "    \"xgb__subsample\": [0.5, 0.75, 1.0],\n",
    "    \"xgb__colsample_bytree\": [0.5, 0.75, 1.0],\n",
    "    \"xgb__max_depth\": [5, 7, 10],\n",
    "    \"xgb__n_trees\": [100, 150, 200],\n",
    "    \"xgb__learning_rate\": [0.2, 0.4, 0.6, 0.8, 1],\n",
    "}\n",
    "model = GridSearchCV(pipeline, grid, cv=2, n_jobs=-1)\n",
    "model.fit(X_train, y_train)"
   ]
  },
  {
   "cell_type": "code",
   "execution_count": 49,
   "metadata": {},
   "outputs": [
    {
     "data": {
      "text/plain": [
       "{'xgb__colsample_bytree': 0.5,\n",
       " 'xgb__learning_rate': 0.2,\n",
       " 'xgb__max_depth': 5,\n",
       " 'xgb__n_trees': 100,\n",
       " 'xgb__subsample': 1.0}"
      ]
     },
     "execution_count": 49,
     "metadata": {},
     "output_type": "execute_result"
    },
    {
     "data": {
      "application/javascript": [
       "\n",
       "            setTimeout(function() {\n",
       "                var nbb_cell_id = 49;\n",
       "                var nbb_unformatted_code = \"model.best_params_\";\n",
       "                var nbb_formatted_code = \"model.best_params_\";\n",
       "                var nbb_cells = Jupyter.notebook.get_cells();\n",
       "                for (var i = 0; i < nbb_cells.length; ++i) {\n",
       "                    if (nbb_cells[i].input_prompt_number == nbb_cell_id) {\n",
       "                        if (nbb_cells[i].get_text() == nbb_unformatted_code) {\n",
       "                             nbb_cells[i].set_text(nbb_formatted_code);\n",
       "                        }\n",
       "                        break;\n",
       "                    }\n",
       "                }\n",
       "            }, 500);\n",
       "            "
      ],
      "text/plain": [
       "<IPython.core.display.Javascript object>"
      ]
     },
     "metadata": {},
     "output_type": "display_data"
    }
   ],
   "source": [
    "model.best_params_"
   ]
  },
  {
   "cell_type": "code",
   "execution_count": 50,
   "metadata": {},
   "outputs": [
    {
     "name": "stdout",
     "output_type": "stream",
     "text": [
      "Train score: 0.844337948171814\n",
      "Test score: 0.7970191625266146\n"
     ]
    },
    {
     "data": {
      "application/javascript": [
       "\n",
       "            setTimeout(function() {\n",
       "                var nbb_cell_id = 50;\n",
       "                var nbb_unformatted_code = \"train_score = model.score(X_train, y_train)\\ntest_score = model.score(X_test, y_test)\\n\\nprint(f\\\"Train score: {train_score}\\\")\\nprint(f\\\"Test score: {test_score}\\\")\";\n",
       "                var nbb_formatted_code = \"train_score = model.score(X_train, y_train)\\ntest_score = model.score(X_test, y_test)\\n\\nprint(f\\\"Train score: {train_score}\\\")\\nprint(f\\\"Test score: {test_score}\\\")\";\n",
       "                var nbb_cells = Jupyter.notebook.get_cells();\n",
       "                for (var i = 0; i < nbb_cells.length; ++i) {\n",
       "                    if (nbb_cells[i].input_prompt_number == nbb_cell_id) {\n",
       "                        if (nbb_cells[i].get_text() == nbb_unformatted_code) {\n",
       "                             nbb_cells[i].set_text(nbb_formatted_code);\n",
       "                        }\n",
       "                        break;\n",
       "                    }\n",
       "                }\n",
       "            }, 500);\n",
       "            "
      ],
      "text/plain": [
       "<IPython.core.display.Javascript object>"
      ]
     },
     "metadata": {},
     "output_type": "display_data"
    }
   ],
   "source": [
    "train_score = model.score(X_train, y_train)\n",
    "test_score = model.score(X_test, y_test)\n",
    "\n",
    "print(f\"Train score: {train_score}\")\n",
    "print(f\"Test score: {test_score}\")"
   ]
  },
  {
   "cell_type": "code",
   "execution_count": 51,
   "metadata": {},
   "outputs": [
    {
     "name": "stdout",
     "output_type": "stream",
     "text": [
      "                 Predicted No Churn  Predicted Churn\n",
      "Actual No Churn                 929              106\n",
      "Actual Churn                    180              194\n",
      "              precision    recall  f1-score   support\n",
      "\n",
      "           0       0.84      0.90      0.87      1035\n",
      "           1       0.65      0.52      0.58       374\n",
      "\n",
      "    accuracy                           0.80      1409\n",
      "   macro avg       0.74      0.71      0.72      1409\n",
      "weighted avg       0.79      0.80      0.79      1409\n",
      "\n"
     ]
    },
    {
     "data": {
      "application/javascript": [
       "\n",
       "            setTimeout(function() {\n",
       "                var nbb_cell_id = 51;\n",
       "                var nbb_unformatted_code = \"y_pred = model.predict(X_test)\\n\\ncon_mat = pd.DataFrame(\\n    confusion_matrix(y_test, y_pred),\\n    index=[\\\"Actual No Churn\\\", \\\"Actual Churn\\\"],\\n    columns=[\\\"Predicted No Churn\\\", \\\"Predicted Churn\\\"],\\n)\\nprint(con_mat)\\nprint(classification_report(y_test, y_pred))\";\n",
       "                var nbb_formatted_code = \"y_pred = model.predict(X_test)\\n\\ncon_mat = pd.DataFrame(\\n    confusion_matrix(y_test, y_pred),\\n    index=[\\\"Actual No Churn\\\", \\\"Actual Churn\\\"],\\n    columns=[\\\"Predicted No Churn\\\", \\\"Predicted Churn\\\"],\\n)\\nprint(con_mat)\\nprint(classification_report(y_test, y_pred))\";\n",
       "                var nbb_cells = Jupyter.notebook.get_cells();\n",
       "                for (var i = 0; i < nbb_cells.length; ++i) {\n",
       "                    if (nbb_cells[i].input_prompt_number == nbb_cell_id) {\n",
       "                        if (nbb_cells[i].get_text() == nbb_unformatted_code) {\n",
       "                             nbb_cells[i].set_text(nbb_formatted_code);\n",
       "                        }\n",
       "                        break;\n",
       "                    }\n",
       "                }\n",
       "            }, 500);\n",
       "            "
      ],
      "text/plain": [
       "<IPython.core.display.Javascript object>"
      ]
     },
     "metadata": {},
     "output_type": "display_data"
    }
   ],
   "source": [
    "y_pred = model.predict(X_test)\n",
    "\n",
    "con_mat = pd.DataFrame(\n",
    "    confusion_matrix(y_test, y_pred),\n",
    "    index=[\"Actual No Churn\", \"Actual Churn\"],\n",
    "    columns=[\"Predicted No Churn\", \"Predicted Churn\"],\n",
    ")\n",
    "print(con_mat)\n",
    "print(classification_report(y_test, y_pred))"
   ]
  },
  {
   "cell_type": "markdown",
   "metadata": {},
   "source": [
    "### Testing to see how precision and recall change by lowering the k in SelectKBest to k = 10."
   ]
  },
  {
   "cell_type": "code",
   "execution_count": 52,
   "metadata": {},
   "outputs": [
    {
     "data": {
      "application/javascript": [
       "\n",
       "            setTimeout(function() {\n",
       "                var nbb_cell_id = 52;\n",
       "                var nbb_unformatted_code = \"X = churn.drop(columns=[\\\"Churn_Yes\\\"])\\ny = churn[\\\"Churn_Yes\\\"]\\nfeature_names = list(X.columns.values)\";\n",
       "                var nbb_formatted_code = \"X = churn.drop(columns=[\\\"Churn_Yes\\\"])\\ny = churn[\\\"Churn_Yes\\\"]\\nfeature_names = list(X.columns.values)\";\n",
       "                var nbb_cells = Jupyter.notebook.get_cells();\n",
       "                for (var i = 0; i < nbb_cells.length; ++i) {\n",
       "                    if (nbb_cells[i].input_prompt_number == nbb_cell_id) {\n",
       "                        if (nbb_cells[i].get_text() == nbb_unformatted_code) {\n",
       "                             nbb_cells[i].set_text(nbb_formatted_code);\n",
       "                        }\n",
       "                        break;\n",
       "                    }\n",
       "                }\n",
       "            }, 500);\n",
       "            "
      ],
      "text/plain": [
       "<IPython.core.display.Javascript object>"
      ]
     },
     "metadata": {},
     "output_type": "display_data"
    }
   ],
   "source": [
    "X = churn.drop(columns=[\"Churn_Yes\"])\n",
    "y = churn[\"Churn_Yes\"]\n",
    "feature_names = list(X.columns.values)"
   ]
  },
  {
   "cell_type": "code",
   "execution_count": 53,
   "metadata": {},
   "outputs": [
    {
     "data": {
      "application/javascript": [
       "\n",
       "            setTimeout(function() {\n",
       "                var nbb_cell_id = 53;\n",
       "                var nbb_unformatted_code = \"selector = SelectKBest(k=10).fit(X, y)\\nX = selector.transform(X)\\nscores = selector.scores_\";\n",
       "                var nbb_formatted_code = \"selector = SelectKBest(k=10).fit(X, y)\\nX = selector.transform(X)\\nscores = selector.scores_\";\n",
       "                var nbb_cells = Jupyter.notebook.get_cells();\n",
       "                for (var i = 0; i < nbb_cells.length; ++i) {\n",
       "                    if (nbb_cells[i].input_prompt_number == nbb_cell_id) {\n",
       "                        if (nbb_cells[i].get_text() == nbb_unformatted_code) {\n",
       "                             nbb_cells[i].set_text(nbb_formatted_code);\n",
       "                        }\n",
       "                        break;\n",
       "                    }\n",
       "                }\n",
       "            }, 500);\n",
       "            "
      ],
      "text/plain": [
       "<IPython.core.display.Javascript object>"
      ]
     },
     "metadata": {},
     "output_type": "display_data"
    }
   ],
   "source": [
    "selector = SelectKBest(k=10).fit(X, y)\n",
    "X = selector.transform(X)\n",
    "scores = selector.scores_"
   ]
  },
  {
   "cell_type": "code",
   "execution_count": 54,
   "metadata": {},
   "outputs": [
    {
     "data": {
      "text/plain": [
       "(7043, 10)"
      ]
     },
     "execution_count": 54,
     "metadata": {},
     "output_type": "execute_result"
    },
    {
     "data": {
      "application/javascript": [
       "\n",
       "            setTimeout(function() {\n",
       "                var nbb_cell_id = 54;\n",
       "                var nbb_unformatted_code = \"X.shape\";\n",
       "                var nbb_formatted_code = \"X.shape\";\n",
       "                var nbb_cells = Jupyter.notebook.get_cells();\n",
       "                for (var i = 0; i < nbb_cells.length; ++i) {\n",
       "                    if (nbb_cells[i].input_prompt_number == nbb_cell_id) {\n",
       "                        if (nbb_cells[i].get_text() == nbb_unformatted_code) {\n",
       "                             nbb_cells[i].set_text(nbb_formatted_code);\n",
       "                        }\n",
       "                        break;\n",
       "                    }\n",
       "                }\n",
       "            }, 500);\n",
       "            "
      ],
      "text/plain": [
       "<IPython.core.display.Javascript object>"
      ]
     },
     "metadata": {},
     "output_type": "display_data"
    }
   ],
   "source": [
    "X.shape"
   ]
  },
  {
   "cell_type": "code",
   "execution_count": 55,
   "metadata": {},
   "outputs": [
    {
     "data": {
      "application/javascript": [
       "\n",
       "            setTimeout(function() {\n",
       "                var nbb_cell_id = 55;\n",
       "                var nbb_unformatted_code = \"mask = selector.get_support()  # list of booleans\\nnew_features = []  # The list of your K best features\\n\\nfor bool, feature in zip(mask, feature_names):\\n    if bool:\\n        new_features.append(feature)\\n\\nX = pd.DataFrame(X, columns=new_features)\";\n",
       "                var nbb_formatted_code = \"mask = selector.get_support()  # list of booleans\\nnew_features = []  # The list of your K best features\\n\\nfor bool, feature in zip(mask, feature_names):\\n    if bool:\\n        new_features.append(feature)\\n\\nX = pd.DataFrame(X, columns=new_features)\";\n",
       "                var nbb_cells = Jupyter.notebook.get_cells();\n",
       "                for (var i = 0; i < nbb_cells.length; ++i) {\n",
       "                    if (nbb_cells[i].input_prompt_number == nbb_cell_id) {\n",
       "                        if (nbb_cells[i].get_text() == nbb_unformatted_code) {\n",
       "                             nbb_cells[i].set_text(nbb_formatted_code);\n",
       "                        }\n",
       "                        break;\n",
       "                    }\n",
       "                }\n",
       "            }, 500);\n",
       "            "
      ],
      "text/plain": [
       "<IPython.core.display.Javascript object>"
      ]
     },
     "metadata": {},
     "output_type": "display_data"
    }
   ],
   "source": [
    "mask = selector.get_support()  # list of booleans\n",
    "new_features = []  # The list of your K best features\n",
    "\n",
    "for bool, feature in zip(mask, feature_names):\n",
    "    if bool:\n",
    "        new_features.append(feature)\n",
    "\n",
    "X = pd.DataFrame(X, columns=new_features)"
   ]
  },
  {
   "cell_type": "code",
   "execution_count": 56,
   "metadata": {},
   "outputs": [
    {
     "data": {
      "application/javascript": [
       "\n",
       "            setTimeout(function() {\n",
       "                var nbb_cell_id = 56;\n",
       "                var nbb_unformatted_code = \"X_train, X_test, y_train, y_test = train_test_split(\\n    X, y, test_size=0.20, random_state=13, stratify=y\\n)\";\n",
       "                var nbb_formatted_code = \"X_train, X_test, y_train, y_test = train_test_split(\\n    X, y, test_size=0.20, random_state=13, stratify=y\\n)\";\n",
       "                var nbb_cells = Jupyter.notebook.get_cells();\n",
       "                for (var i = 0; i < nbb_cells.length; ++i) {\n",
       "                    if (nbb_cells[i].input_prompt_number == nbb_cell_id) {\n",
       "                        if (nbb_cells[i].get_text() == nbb_unformatted_code) {\n",
       "                             nbb_cells[i].set_text(nbb_formatted_code);\n",
       "                        }\n",
       "                        break;\n",
       "                    }\n",
       "                }\n",
       "            }, 500);\n",
       "            "
      ],
      "text/plain": [
       "<IPython.core.display.Javascript object>"
      ]
     },
     "metadata": {},
     "output_type": "display_data"
    }
   ],
   "source": [
    "X_train, X_test, y_train, y_test = train_test_split(\n",
    "    X, y, test_size=0.20, random_state=13, stratify=y\n",
    ")"
   ]
  },
  {
   "cell_type": "code",
   "execution_count": 57,
   "metadata": {},
   "outputs": [
    {
     "data": {
      "application/javascript": [
       "\n",
       "            setTimeout(function() {\n",
       "                var nbb_cell_id = 57;\n",
       "                var nbb_unformatted_code = \"preprocessing = ColumnTransformer(\\n    [(\\\"scale\\\", StandardScaler(), num_cols),], remainder=\\\"passthrough\\\",\\n)\";\n",
       "                var nbb_formatted_code = \"preprocessing = ColumnTransformer(\\n    [(\\\"scale\\\", StandardScaler(), num_cols),], remainder=\\\"passthrough\\\",\\n)\";\n",
       "                var nbb_cells = Jupyter.notebook.get_cells();\n",
       "                for (var i = 0; i < nbb_cells.length; ++i) {\n",
       "                    if (nbb_cells[i].input_prompt_number == nbb_cell_id) {\n",
       "                        if (nbb_cells[i].get_text() == nbb_unformatted_code) {\n",
       "                             nbb_cells[i].set_text(nbb_formatted_code);\n",
       "                        }\n",
       "                        break;\n",
       "                    }\n",
       "                }\n",
       "            }, 500);\n",
       "            "
      ],
      "text/plain": [
       "<IPython.core.display.Javascript object>"
      ]
     },
     "metadata": {},
     "output_type": "display_data"
    }
   ],
   "source": [
    "preprocessing = ColumnTransformer(\n",
    "    [(\"scale\", StandardScaler(), num_cols),], remainder=\"passthrough\",\n",
    ")"
   ]
  },
  {
   "cell_type": "markdown",
   "metadata": {},
   "source": [
    "# K Nearest Neighbor Classifier with K = 10"
   ]
  },
  {
   "cell_type": "code",
   "execution_count": 58,
   "metadata": {},
   "outputs": [
    {
     "name": "stdout",
     "output_type": "stream",
     "text": [
      "[Pipeline] ..... (step 1 of 2) Processing preprocessing, total=   0.0s\n",
      "[Pipeline] ............... (step 2 of 2) Processing knn, total=   0.0s\n"
     ]
    },
    {
     "data": {
      "text/plain": [
       "Pipeline(memory=None,\n",
       "         steps=[('preprocessing',\n",
       "                 ColumnTransformer(n_jobs=None, remainder='passthrough',\n",
       "                                   sparse_threshold=0.3,\n",
       "                                   transformer_weights=None,\n",
       "                                   transformers=[('scale',\n",
       "                                                  StandardScaler(copy=True,\n",
       "                                                                 with_mean=True,\n",
       "                                                                 with_std=True),\n",
       "                                                  ['tenure',\n",
       "                                                   'MonthlyCharges'])],\n",
       "                                   verbose=False)),\n",
       "                ('knn',\n",
       "                 KNeighborsClassifier(algorithm='auto', leaf_size=30,\n",
       "                                      metric='minkowski', metric_params=None,\n",
       "                                      n_jobs=None, n_neighbors=5, p=2,\n",
       "                                      weights='uniform'))],\n",
       "         verbose=True)"
      ]
     },
     "execution_count": 58,
     "metadata": {},
     "output_type": "execute_result"
    },
    {
     "data": {
      "application/javascript": [
       "\n",
       "            setTimeout(function() {\n",
       "                var nbb_cell_id = 58;\n",
       "                var nbb_unformatted_code = \"pipeline = Pipeline(\\n    [(\\\"preprocessing\\\", preprocessing), (\\\"knn\\\", KNeighborsClassifier())], verbose=True\\n)\\n\\npipeline.fit(X_train, y_train)\";\n",
       "                var nbb_formatted_code = \"pipeline = Pipeline(\\n    [(\\\"preprocessing\\\", preprocessing), (\\\"knn\\\", KNeighborsClassifier())], verbose=True\\n)\\n\\npipeline.fit(X_train, y_train)\";\n",
       "                var nbb_cells = Jupyter.notebook.get_cells();\n",
       "                for (var i = 0; i < nbb_cells.length; ++i) {\n",
       "                    if (nbb_cells[i].input_prompt_number == nbb_cell_id) {\n",
       "                        if (nbb_cells[i].get_text() == nbb_unformatted_code) {\n",
       "                             nbb_cells[i].set_text(nbb_formatted_code);\n",
       "                        }\n",
       "                        break;\n",
       "                    }\n",
       "                }\n",
       "            }, 500);\n",
       "            "
      ],
      "text/plain": [
       "<IPython.core.display.Javascript object>"
      ]
     },
     "metadata": {},
     "output_type": "display_data"
    }
   ],
   "source": [
    "pipeline = Pipeline(\n",
    "    [(\"preprocessing\", preprocessing), (\"knn\", KNeighborsClassifier())], verbose=True\n",
    ")\n",
    "\n",
    "pipeline.fit(X_train, y_train)"
   ]
  },
  {
   "cell_type": "code",
   "execution_count": 59,
   "metadata": {},
   "outputs": [
    {
     "name": "stdout",
     "output_type": "stream",
     "text": [
      "Train score: 0.8413205537806177\n",
      "Test score: 0.7849538679914834\n"
     ]
    },
    {
     "data": {
      "application/javascript": [
       "\n",
       "            setTimeout(function() {\n",
       "                var nbb_cell_id = 59;\n",
       "                var nbb_unformatted_code = \"train_score = pipeline.score(X_train, y_train)\\ntest_score = pipeline.score(X_test, y_test)\\n\\nprint(f\\\"Train score: {train_score}\\\")\\nprint(f\\\"Test score: {test_score}\\\")\";\n",
       "                var nbb_formatted_code = \"train_score = pipeline.score(X_train, y_train)\\ntest_score = pipeline.score(X_test, y_test)\\n\\nprint(f\\\"Train score: {train_score}\\\")\\nprint(f\\\"Test score: {test_score}\\\")\";\n",
       "                var nbb_cells = Jupyter.notebook.get_cells();\n",
       "                for (var i = 0; i < nbb_cells.length; ++i) {\n",
       "                    if (nbb_cells[i].input_prompt_number == nbb_cell_id) {\n",
       "                        if (nbb_cells[i].get_text() == nbb_unformatted_code) {\n",
       "                             nbb_cells[i].set_text(nbb_formatted_code);\n",
       "                        }\n",
       "                        break;\n",
       "                    }\n",
       "                }\n",
       "            }, 500);\n",
       "            "
      ],
      "text/plain": [
       "<IPython.core.display.Javascript object>"
      ]
     },
     "metadata": {},
     "output_type": "display_data"
    }
   ],
   "source": [
    "train_score = pipeline.score(X_train, y_train)\n",
    "test_score = pipeline.score(X_test, y_test)\n",
    "\n",
    "print(f\"Train score: {train_score}\")\n",
    "print(f\"Test score: {test_score}\")"
   ]
  },
  {
   "cell_type": "code",
   "execution_count": 60,
   "metadata": {},
   "outputs": [
    {
     "name": "stdout",
     "output_type": "stream",
     "text": [
      "                 Predicted No Churn  Predicted Churn\n",
      "Actual No Churn                 913              122\n",
      "Actual Churn                    181              193\n",
      "              precision    recall  f1-score   support\n",
      "\n",
      "           0       0.83      0.88      0.86      1035\n",
      "           1       0.61      0.52      0.56       374\n",
      "\n",
      "    accuracy                           0.78      1409\n",
      "   macro avg       0.72      0.70      0.71      1409\n",
      "weighted avg       0.78      0.78      0.78      1409\n",
      "\n"
     ]
    },
    {
     "data": {
      "application/javascript": [
       "\n",
       "            setTimeout(function() {\n",
       "                var nbb_cell_id = 60;\n",
       "                var nbb_unformatted_code = \"y_pred = pipeline.predict(X_test)\\n\\ncon_mat = pd.DataFrame(\\n    confusion_matrix(y_test, y_pred),\\n    index=[\\\"Actual No Churn\\\", \\\"Actual Churn\\\"],\\n    columns=[\\\"Predicted No Churn\\\", \\\"Predicted Churn\\\"],\\n)\\nprint(con_mat)\\nprint(classification_report(y_test, y_pred))\";\n",
       "                var nbb_formatted_code = \"y_pred = pipeline.predict(X_test)\\n\\ncon_mat = pd.DataFrame(\\n    confusion_matrix(y_test, y_pred),\\n    index=[\\\"Actual No Churn\\\", \\\"Actual Churn\\\"],\\n    columns=[\\\"Predicted No Churn\\\", \\\"Predicted Churn\\\"],\\n)\\nprint(con_mat)\\nprint(classification_report(y_test, y_pred))\";\n",
       "                var nbb_cells = Jupyter.notebook.get_cells();\n",
       "                for (var i = 0; i < nbb_cells.length; ++i) {\n",
       "                    if (nbb_cells[i].input_prompt_number == nbb_cell_id) {\n",
       "                        if (nbb_cells[i].get_text() == nbb_unformatted_code) {\n",
       "                             nbb_cells[i].set_text(nbb_formatted_code);\n",
       "                        }\n",
       "                        break;\n",
       "                    }\n",
       "                }\n",
       "            }, 500);\n",
       "            "
      ],
      "text/plain": [
       "<IPython.core.display.Javascript object>"
      ]
     },
     "metadata": {},
     "output_type": "display_data"
    }
   ],
   "source": [
    "y_pred = pipeline.predict(X_test)\n",
    "\n",
    "con_mat = pd.DataFrame(\n",
    "    confusion_matrix(y_test, y_pred),\n",
    "    index=[\"Actual No Churn\", \"Actual Churn\"],\n",
    "    columns=[\"Predicted No Churn\", \"Predicted Churn\"],\n",
    ")\n",
    "print(con_mat)\n",
    "print(classification_report(y_test, y_pred))"
   ]
  },
  {
   "cell_type": "markdown",
   "metadata": {},
   "source": [
    "#### Add a grid search to optimize KNN model"
   ]
  },
  {
   "cell_type": "code",
   "execution_count": 61,
   "metadata": {},
   "outputs": [
    {
     "name": "stdout",
     "output_type": "stream",
     "text": [
      "[Pipeline] ..... (step 1 of 2) Processing preprocessing, total=   0.0s\n",
      "[Pipeline] ............... (step 2 of 2) Processing knn, total=   0.0s\n"
     ]
    },
    {
     "data": {
      "text/plain": [
       "GridSearchCV(cv=2, error_score=nan,\n",
       "             estimator=Pipeline(memory=None,\n",
       "                                steps=[('preprocessing',\n",
       "                                        ColumnTransformer(n_jobs=None,\n",
       "                                                          remainder='passthrough',\n",
       "                                                          sparse_threshold=0.3,\n",
       "                                                          transformer_weights=None,\n",
       "                                                          transformers=[('scale',\n",
       "                                                                         StandardScaler(copy=True,\n",
       "                                                                                        with_mean=True,\n",
       "                                                                                        with_std=True),\n",
       "                                                                         ['tenure',\n",
       "                                                                          'MonthlyCharges'])],\n",
       "                                                          verbose=False)),\n",
       "                                       ('knn',\n",
       "                                        KNeighborsClassifier(algorithm='auto',\n",
       "                                                             leaf_size=30,\n",
       "                                                             metric='minkowski',\n",
       "                                                             metric_params=None,\n",
       "                                                             n_jobs=None,\n",
       "                                                             n_neighbors=5, p=2,\n",
       "                                                             weights='uniform'))],\n",
       "                                verbose=True),\n",
       "             iid='deprecated', n_jobs=-1,\n",
       "             param_grid={'knn__n_neighbors': [3, 5, 7, 9, 11, 13, 15, 17, 19,\n",
       "                                              21],\n",
       "                         'knn__weights': ['distance', 'uniform']},\n",
       "             pre_dispatch='2*n_jobs', refit=True, return_train_score=False,\n",
       "             scoring=None, verbose=0)"
      ]
     },
     "execution_count": 61,
     "metadata": {},
     "output_type": "execute_result"
    },
    {
     "data": {
      "application/javascript": [
       "\n",
       "            setTimeout(function() {\n",
       "                var nbb_cell_id = 61;\n",
       "                var nbb_unformatted_code = \"grid = {\\n    \\\"knn__n_neighbors\\\": [3, 5, 7, 9, 11, 13, 15, 17, 19, 21],\\n    \\\"knn__weights\\\": [\\\"distance\\\", \\\"uniform\\\"],\\n}\\n\\nmodel = GridSearchCV(pipeline, grid, cv=2, n_jobs=-1)\\nmodel.fit(X_train, y_train)\";\n",
       "                var nbb_formatted_code = \"grid = {\\n    \\\"knn__n_neighbors\\\": [3, 5, 7, 9, 11, 13, 15, 17, 19, 21],\\n    \\\"knn__weights\\\": [\\\"distance\\\", \\\"uniform\\\"],\\n}\\n\\nmodel = GridSearchCV(pipeline, grid, cv=2, n_jobs=-1)\\nmodel.fit(X_train, y_train)\";\n",
       "                var nbb_cells = Jupyter.notebook.get_cells();\n",
       "                for (var i = 0; i < nbb_cells.length; ++i) {\n",
       "                    if (nbb_cells[i].input_prompt_number == nbb_cell_id) {\n",
       "                        if (nbb_cells[i].get_text() == nbb_unformatted_code) {\n",
       "                             nbb_cells[i].set_text(nbb_formatted_code);\n",
       "                        }\n",
       "                        break;\n",
       "                    }\n",
       "                }\n",
       "            }, 500);\n",
       "            "
      ],
      "text/plain": [
       "<IPython.core.display.Javascript object>"
      ]
     },
     "metadata": {},
     "output_type": "display_data"
    }
   ],
   "source": [
    "grid = {\n",
    "    \"knn__n_neighbors\": [3, 5, 7, 9, 11, 13, 15, 17, 19, 21],\n",
    "    \"knn__weights\": [\"distance\", \"uniform\"],\n",
    "}\n",
    "\n",
    "model = GridSearchCV(pipeline, grid, cv=2, n_jobs=-1)\n",
    "model.fit(X_train, y_train)"
   ]
  },
  {
   "cell_type": "code",
   "execution_count": 62,
   "metadata": {},
   "outputs": [
    {
     "data": {
      "text/plain": [
       "{'knn__n_neighbors': 19, 'knn__weights': 'uniform'}"
      ]
     },
     "execution_count": 62,
     "metadata": {},
     "output_type": "execute_result"
    },
    {
     "data": {
      "application/javascript": [
       "\n",
       "            setTimeout(function() {\n",
       "                var nbb_cell_id = 62;\n",
       "                var nbb_unformatted_code = \"model.best_params_\";\n",
       "                var nbb_formatted_code = \"model.best_params_\";\n",
       "                var nbb_cells = Jupyter.notebook.get_cells();\n",
       "                for (var i = 0; i < nbb_cells.length; ++i) {\n",
       "                    if (nbb_cells[i].input_prompt_number == nbb_cell_id) {\n",
       "                        if (nbb_cells[i].get_text() == nbb_unformatted_code) {\n",
       "                             nbb_cells[i].set_text(nbb_formatted_code);\n",
       "                        }\n",
       "                        break;\n",
       "                    }\n",
       "                }\n",
       "            }, 500);\n",
       "            "
      ],
      "text/plain": [
       "<IPython.core.display.Javascript object>"
      ]
     },
     "metadata": {},
     "output_type": "display_data"
    }
   ],
   "source": [
    "model.best_params_"
   ]
  },
  {
   "cell_type": "code",
   "execution_count": 63,
   "metadata": {},
   "outputs": [
    {
     "name": "stdout",
     "output_type": "stream",
     "text": [
      "Train score: 0.8139865104721334\n",
      "Test score: 0.8019872249822569\n"
     ]
    },
    {
     "data": {
      "application/javascript": [
       "\n",
       "            setTimeout(function() {\n",
       "                var nbb_cell_id = 63;\n",
       "                var nbb_unformatted_code = \"train_score = model.score(X_train, y_train)\\ntest_score = model.score(X_test, y_test)\\n\\nprint(f\\\"Train score: {train_score}\\\")\\nprint(f\\\"Test score: {test_score}\\\")\";\n",
       "                var nbb_formatted_code = \"train_score = model.score(X_train, y_train)\\ntest_score = model.score(X_test, y_test)\\n\\nprint(f\\\"Train score: {train_score}\\\")\\nprint(f\\\"Test score: {test_score}\\\")\";\n",
       "                var nbb_cells = Jupyter.notebook.get_cells();\n",
       "                for (var i = 0; i < nbb_cells.length; ++i) {\n",
       "                    if (nbb_cells[i].input_prompt_number == nbb_cell_id) {\n",
       "                        if (nbb_cells[i].get_text() == nbb_unformatted_code) {\n",
       "                             nbb_cells[i].set_text(nbb_formatted_code);\n",
       "                        }\n",
       "                        break;\n",
       "                    }\n",
       "                }\n",
       "            }, 500);\n",
       "            "
      ],
      "text/plain": [
       "<IPython.core.display.Javascript object>"
      ]
     },
     "metadata": {},
     "output_type": "display_data"
    }
   ],
   "source": [
    "train_score = model.score(X_train, y_train)\n",
    "test_score = model.score(X_test, y_test)\n",
    "\n",
    "print(f\"Train score: {train_score}\")\n",
    "print(f\"Test score: {test_score}\")"
   ]
  },
  {
   "cell_type": "code",
   "execution_count": 64,
   "metadata": {},
   "outputs": [
    {
     "name": "stdout",
     "output_type": "stream",
     "text": [
      "                 Predicted No Churn  Predicted Churn\n",
      "Actual No Churn                 921              114\n",
      "Actual Churn                    165              209\n",
      "              precision    recall  f1-score   support\n",
      "\n",
      "           0       0.85      0.89      0.87      1035\n",
      "           1       0.65      0.56      0.60       374\n",
      "\n",
      "    accuracy                           0.80      1409\n",
      "   macro avg       0.75      0.72      0.73      1409\n",
      "weighted avg       0.79      0.80      0.80      1409\n",
      "\n"
     ]
    },
    {
     "data": {
      "application/javascript": [
       "\n",
       "            setTimeout(function() {\n",
       "                var nbb_cell_id = 64;\n",
       "                var nbb_unformatted_code = \"y_pred = model.predict(X_test)\\n\\ncon_mat = pd.DataFrame(\\n    confusion_matrix(y_test, y_pred),\\n    index=[\\\"Actual No Churn\\\", \\\"Actual Churn\\\"],\\n    columns=[\\\"Predicted No Churn\\\", \\\"Predicted Churn\\\"],\\n)\\nprint(con_mat)\\nprint(classification_report(y_test, y_pred))\";\n",
       "                var nbb_formatted_code = \"y_pred = model.predict(X_test)\\n\\ncon_mat = pd.DataFrame(\\n    confusion_matrix(y_test, y_pred),\\n    index=[\\\"Actual No Churn\\\", \\\"Actual Churn\\\"],\\n    columns=[\\\"Predicted No Churn\\\", \\\"Predicted Churn\\\"],\\n)\\nprint(con_mat)\\nprint(classification_report(y_test, y_pred))\";\n",
       "                var nbb_cells = Jupyter.notebook.get_cells();\n",
       "                for (var i = 0; i < nbb_cells.length; ++i) {\n",
       "                    if (nbb_cells[i].input_prompt_number == nbb_cell_id) {\n",
       "                        if (nbb_cells[i].get_text() == nbb_unformatted_code) {\n",
       "                             nbb_cells[i].set_text(nbb_formatted_code);\n",
       "                        }\n",
       "                        break;\n",
       "                    }\n",
       "                }\n",
       "            }, 500);\n",
       "            "
      ],
      "text/plain": [
       "<IPython.core.display.Javascript object>"
      ]
     },
     "metadata": {},
     "output_type": "display_data"
    }
   ],
   "source": [
    "y_pred = model.predict(X_test)\n",
    "\n",
    "con_mat = pd.DataFrame(\n",
    "    confusion_matrix(y_test, y_pred),\n",
    "    index=[\"Actual No Churn\", \"Actual Churn\"],\n",
    "    columns=[\"Predicted No Churn\", \"Predicted Churn\"],\n",
    ")\n",
    "print(con_mat)\n",
    "print(classification_report(y_test, y_pred))"
   ]
  },
  {
   "cell_type": "markdown",
   "metadata": {},
   "source": [
    "# Support Vector Classifier with K = 10"
   ]
  },
  {
   "cell_type": "code",
   "execution_count": 65,
   "metadata": {},
   "outputs": [
    {
     "name": "stdout",
     "output_type": "stream",
     "text": [
      "[Pipeline] ..... (step 1 of 2) Processing preprocessing, total=   0.0s\n",
      "[Pipeline] ............... (step 2 of 2) Processing SVC, total=   0.6s\n"
     ]
    },
    {
     "data": {
      "text/plain": [
       "Pipeline(memory=None,\n",
       "         steps=[('preprocessing',\n",
       "                 ColumnTransformer(n_jobs=None, remainder='passthrough',\n",
       "                                   sparse_threshold=0.3,\n",
       "                                   transformer_weights=None,\n",
       "                                   transformers=[('scale',\n",
       "                                                  StandardScaler(copy=True,\n",
       "                                                                 with_mean=True,\n",
       "                                                                 with_std=True),\n",
       "                                                  ['tenure',\n",
       "                                                   'MonthlyCharges'])],\n",
       "                                   verbose=False)),\n",
       "                ('SVC',\n",
       "                 SVC(C=1.0, break_ties=False, cache_size=200, class_weight=None,\n",
       "                     coef0=0.0, decision_function_shape='ovr', degree=3,\n",
       "                     gamma='scale', kernel='rbf', max_iter=-1,\n",
       "                     probability=False, random_state=None, shrinking=True,\n",
       "                     tol=0.001, verbose=False))],\n",
       "         verbose=True)"
      ]
     },
     "execution_count": 65,
     "metadata": {},
     "output_type": "execute_result"
    },
    {
     "data": {
      "application/javascript": [
       "\n",
       "            setTimeout(function() {\n",
       "                var nbb_cell_id = 65;\n",
       "                var nbb_unformatted_code = \"pipeline = Pipeline([(\\\"preprocessing\\\", preprocessing), (\\\"SVC\\\", SVC())], verbose=True)\\n\\npipeline.fit(X_train, y_train)\";\n",
       "                var nbb_formatted_code = \"pipeline = Pipeline([(\\\"preprocessing\\\", preprocessing), (\\\"SVC\\\", SVC())], verbose=True)\\n\\npipeline.fit(X_train, y_train)\";\n",
       "                var nbb_cells = Jupyter.notebook.get_cells();\n",
       "                for (var i = 0; i < nbb_cells.length; ++i) {\n",
       "                    if (nbb_cells[i].input_prompt_number == nbb_cell_id) {\n",
       "                        if (nbb_cells[i].get_text() == nbb_unformatted_code) {\n",
       "                             nbb_cells[i].set_text(nbb_formatted_code);\n",
       "                        }\n",
       "                        break;\n",
       "                    }\n",
       "                }\n",
       "            }, 500);\n",
       "            "
      ],
      "text/plain": [
       "<IPython.core.display.Javascript object>"
      ]
     },
     "metadata": {},
     "output_type": "display_data"
    }
   ],
   "source": [
    "pipeline = Pipeline([(\"preprocessing\", preprocessing), (\"SVC\", SVC())], verbose=True)\n",
    "\n",
    "pipeline.fit(X_train, y_train)"
   ]
  },
  {
   "cell_type": "code",
   "execution_count": 66,
   "metadata": {},
   "outputs": [
    {
     "name": "stdout",
     "output_type": "stream",
     "text": [
      "Train score: 0.805111821086262\n",
      "Test score: 0.8055358410220014\n"
     ]
    },
    {
     "data": {
      "application/javascript": [
       "\n",
       "            setTimeout(function() {\n",
       "                var nbb_cell_id = 66;\n",
       "                var nbb_unformatted_code = \"train_score = pipeline.score(X_train, y_train)\\ntest_score = pipeline.score(X_test, y_test)\\n\\nprint(f\\\"Train score: {train_score}\\\")\\nprint(f\\\"Test score: {test_score}\\\")\";\n",
       "                var nbb_formatted_code = \"train_score = pipeline.score(X_train, y_train)\\ntest_score = pipeline.score(X_test, y_test)\\n\\nprint(f\\\"Train score: {train_score}\\\")\\nprint(f\\\"Test score: {test_score}\\\")\";\n",
       "                var nbb_cells = Jupyter.notebook.get_cells();\n",
       "                for (var i = 0; i < nbb_cells.length; ++i) {\n",
       "                    if (nbb_cells[i].input_prompt_number == nbb_cell_id) {\n",
       "                        if (nbb_cells[i].get_text() == nbb_unformatted_code) {\n",
       "                             nbb_cells[i].set_text(nbb_formatted_code);\n",
       "                        }\n",
       "                        break;\n",
       "                    }\n",
       "                }\n",
       "            }, 500);\n",
       "            "
      ],
      "text/plain": [
       "<IPython.core.display.Javascript object>"
      ]
     },
     "metadata": {},
     "output_type": "display_data"
    }
   ],
   "source": [
    "train_score = pipeline.score(X_train, y_train)\n",
    "test_score = pipeline.score(X_test, y_test)\n",
    "\n",
    "print(f\"Train score: {train_score}\")\n",
    "print(f\"Test score: {test_score}\")"
   ]
  },
  {
   "cell_type": "code",
   "execution_count": 67,
   "metadata": {},
   "outputs": [
    {
     "name": "stdout",
     "output_type": "stream",
     "text": [
      "                 Predicted No Churn  Predicted Churn\n",
      "Actual No Churn                 948               87\n",
      "Actual Churn                    187              187\n",
      "              precision    recall  f1-score   support\n",
      "\n",
      "           0       0.84      0.92      0.87      1035\n",
      "           1       0.68      0.50      0.58       374\n",
      "\n",
      "    accuracy                           0.81      1409\n",
      "   macro avg       0.76      0.71      0.73      1409\n",
      "weighted avg       0.79      0.81      0.80      1409\n",
      "\n"
     ]
    },
    {
     "data": {
      "application/javascript": [
       "\n",
       "            setTimeout(function() {\n",
       "                var nbb_cell_id = 67;\n",
       "                var nbb_unformatted_code = \"y_pred = pipeline.predict(X_test)\\n\\ncon_mat = pd.DataFrame(\\n    confusion_matrix(y_test, y_pred),\\n    index=[\\\"Actual No Churn\\\", \\\"Actual Churn\\\"],\\n    columns=[\\\"Predicted No Churn\\\", \\\"Predicted Churn\\\"],\\n)\\nprint(con_mat)\\nprint(classification_report(y_test, y_pred))\";\n",
       "                var nbb_formatted_code = \"y_pred = pipeline.predict(X_test)\\n\\ncon_mat = pd.DataFrame(\\n    confusion_matrix(y_test, y_pred),\\n    index=[\\\"Actual No Churn\\\", \\\"Actual Churn\\\"],\\n    columns=[\\\"Predicted No Churn\\\", \\\"Predicted Churn\\\"],\\n)\\nprint(con_mat)\\nprint(classification_report(y_test, y_pred))\";\n",
       "                var nbb_cells = Jupyter.notebook.get_cells();\n",
       "                for (var i = 0; i < nbb_cells.length; ++i) {\n",
       "                    if (nbb_cells[i].input_prompt_number == nbb_cell_id) {\n",
       "                        if (nbb_cells[i].get_text() == nbb_unformatted_code) {\n",
       "                             nbb_cells[i].set_text(nbb_formatted_code);\n",
       "                        }\n",
       "                        break;\n",
       "                    }\n",
       "                }\n",
       "            }, 500);\n",
       "            "
      ],
      "text/plain": [
       "<IPython.core.display.Javascript object>"
      ]
     },
     "metadata": {},
     "output_type": "display_data"
    }
   ],
   "source": [
    "y_pred = pipeline.predict(X_test)\n",
    "\n",
    "con_mat = pd.DataFrame(\n",
    "    confusion_matrix(y_test, y_pred),\n",
    "    index=[\"Actual No Churn\", \"Actual Churn\"],\n",
    "    columns=[\"Predicted No Churn\", \"Predicted Churn\"],\n",
    ")\n",
    "print(con_mat)\n",
    "print(classification_report(y_test, y_pred))"
   ]
  },
  {
   "cell_type": "markdown",
   "metadata": {},
   "source": [
    "#### Add a grid search to optimize SVC model"
   ]
  },
  {
   "cell_type": "code",
   "execution_count": 68,
   "metadata": {},
   "outputs": [
    {
     "name": "stdout",
     "output_type": "stream",
     "text": [
      "[Pipeline] ..... (step 1 of 2) Processing preprocessing, total=   0.0s\n",
      "[Pipeline] ............... (step 2 of 2) Processing SVC, total=   0.5s\n"
     ]
    },
    {
     "data": {
      "text/plain": [
       "GridSearchCV(cv=2, error_score=nan,\n",
       "             estimator=Pipeline(memory=None,\n",
       "                                steps=[('preprocessing',\n",
       "                                        ColumnTransformer(n_jobs=None,\n",
       "                                                          remainder='passthrough',\n",
       "                                                          sparse_threshold=0.3,\n",
       "                                                          transformer_weights=None,\n",
       "                                                          transformers=[('scale',\n",
       "                                                                         StandardScaler(copy=True,\n",
       "                                                                                        with_mean=True,\n",
       "                                                                                        with_std=True),\n",
       "                                                                         ['tenure',\n",
       "                                                                          'MonthlyCharges'])],\n",
       "                                                          verbose=False)),\n",
       "                                       ('SVC',\n",
       "                                        SVC(C=1.0, break_ties=False,\n",
       "                                            cac...\n",
       "                                            degree=3, gamma='scale',\n",
       "                                            kernel='rbf', max_iter=-1,\n",
       "                                            probability=False,\n",
       "                                            random_state=None, shrinking=True,\n",
       "                                            tol=0.001, verbose=False))],\n",
       "                                verbose=True),\n",
       "             iid='deprecated', n_jobs=-1,\n",
       "             param_grid={'SVC__C': [1, 10, 100, 1000],\n",
       "                         'SVC__degree': [3, 5, 7, 10],\n",
       "                         'SVC__kernel': ['linear', 'rbf', 'poly']},\n",
       "             pre_dispatch='2*n_jobs', refit=True, return_train_score=False,\n",
       "             scoring=None, verbose=0)"
      ]
     },
     "execution_count": 68,
     "metadata": {},
     "output_type": "execute_result"
    },
    {
     "data": {
      "application/javascript": [
       "\n",
       "            setTimeout(function() {\n",
       "                var nbb_cell_id = 68;\n",
       "                var nbb_unformatted_code = \"grid = {\\n    \\\"SVC__kernel\\\": [\\\"linear\\\", \\\"rbf\\\", \\\"poly\\\"],\\n    \\\"SVC__C\\\": [1, 10, 100, 1000],\\n    \\\"SVC__degree\\\": [3, 5, 7, 10],\\n}\\n\\nmodel = GridSearchCV(pipeline, grid, cv=2, n_jobs=-1)\\nmodel.fit(X_train, y_train)\";\n",
       "                var nbb_formatted_code = \"grid = {\\n    \\\"SVC__kernel\\\": [\\\"linear\\\", \\\"rbf\\\", \\\"poly\\\"],\\n    \\\"SVC__C\\\": [1, 10, 100, 1000],\\n    \\\"SVC__degree\\\": [3, 5, 7, 10],\\n}\\n\\nmodel = GridSearchCV(pipeline, grid, cv=2, n_jobs=-1)\\nmodel.fit(X_train, y_train)\";\n",
       "                var nbb_cells = Jupyter.notebook.get_cells();\n",
       "                for (var i = 0; i < nbb_cells.length; ++i) {\n",
       "                    if (nbb_cells[i].input_prompt_number == nbb_cell_id) {\n",
       "                        if (nbb_cells[i].get_text() == nbb_unformatted_code) {\n",
       "                             nbb_cells[i].set_text(nbb_formatted_code);\n",
       "                        }\n",
       "                        break;\n",
       "                    }\n",
       "                }\n",
       "            }, 500);\n",
       "            "
      ],
      "text/plain": [
       "<IPython.core.display.Javascript object>"
      ]
     },
     "metadata": {},
     "output_type": "display_data"
    }
   ],
   "source": [
    "grid = {\n",
    "    \"SVC__kernel\": [\"linear\", \"rbf\", \"poly\"],\n",
    "    \"SVC__C\": [1, 10, 100, 1000],\n",
    "    \"SVC__degree\": [3, 5, 7, 10],\n",
    "}\n",
    "\n",
    "model = GridSearchCV(pipeline, grid, cv=2, n_jobs=-1)\n",
    "model.fit(X_train, y_train)"
   ]
  },
  {
   "cell_type": "code",
   "execution_count": 69,
   "metadata": {},
   "outputs": [
    {
     "data": {
      "text/plain": [
       "{'SVC__C': 1, 'SVC__degree': 3, 'SVC__kernel': 'rbf'}"
      ]
     },
     "execution_count": 69,
     "metadata": {},
     "output_type": "execute_result"
    },
    {
     "data": {
      "application/javascript": [
       "\n",
       "            setTimeout(function() {\n",
       "                var nbb_cell_id = 69;\n",
       "                var nbb_unformatted_code = \"model.best_params_\";\n",
       "                var nbb_formatted_code = \"model.best_params_\";\n",
       "                var nbb_cells = Jupyter.notebook.get_cells();\n",
       "                for (var i = 0; i < nbb_cells.length; ++i) {\n",
       "                    if (nbb_cells[i].input_prompt_number == nbb_cell_id) {\n",
       "                        if (nbb_cells[i].get_text() == nbb_unformatted_code) {\n",
       "                             nbb_cells[i].set_text(nbb_formatted_code);\n",
       "                        }\n",
       "                        break;\n",
       "                    }\n",
       "                }\n",
       "            }, 500);\n",
       "            "
      ],
      "text/plain": [
       "<IPython.core.display.Javascript object>"
      ]
     },
     "metadata": {},
     "output_type": "display_data"
    }
   ],
   "source": [
    "model.best_params_"
   ]
  },
  {
   "cell_type": "code",
   "execution_count": 70,
   "metadata": {},
   "outputs": [
    {
     "name": "stdout",
     "output_type": "stream",
     "text": [
      "Train score: 0.805111821086262\n",
      "Test score: 0.8055358410220014\n"
     ]
    },
    {
     "data": {
      "application/javascript": [
       "\n",
       "            setTimeout(function() {\n",
       "                var nbb_cell_id = 70;\n",
       "                var nbb_unformatted_code = \"train_score = model.score(X_train, y_train)\\ntest_score = model.score(X_test, y_test)\\n\\nprint(f\\\"Train score: {train_score}\\\")\\nprint(f\\\"Test score: {test_score}\\\")\";\n",
       "                var nbb_formatted_code = \"train_score = model.score(X_train, y_train)\\ntest_score = model.score(X_test, y_test)\\n\\nprint(f\\\"Train score: {train_score}\\\")\\nprint(f\\\"Test score: {test_score}\\\")\";\n",
       "                var nbb_cells = Jupyter.notebook.get_cells();\n",
       "                for (var i = 0; i < nbb_cells.length; ++i) {\n",
       "                    if (nbb_cells[i].input_prompt_number == nbb_cell_id) {\n",
       "                        if (nbb_cells[i].get_text() == nbb_unformatted_code) {\n",
       "                             nbb_cells[i].set_text(nbb_formatted_code);\n",
       "                        }\n",
       "                        break;\n",
       "                    }\n",
       "                }\n",
       "            }, 500);\n",
       "            "
      ],
      "text/plain": [
       "<IPython.core.display.Javascript object>"
      ]
     },
     "metadata": {},
     "output_type": "display_data"
    }
   ],
   "source": [
    "train_score = model.score(X_train, y_train)\n",
    "test_score = model.score(X_test, y_test)\n",
    "\n",
    "print(f\"Train score: {train_score}\")\n",
    "print(f\"Test score: {test_score}\")"
   ]
  },
  {
   "cell_type": "code",
   "execution_count": 71,
   "metadata": {},
   "outputs": [
    {
     "name": "stdout",
     "output_type": "stream",
     "text": [
      "                 Predicted No Churn  Predicted Churn\n",
      "Actual No Churn                 948               87\n",
      "Actual Churn                    187              187\n",
      "              precision    recall  f1-score   support\n",
      "\n",
      "           0       0.84      0.92      0.87      1035\n",
      "           1       0.68      0.50      0.58       374\n",
      "\n",
      "    accuracy                           0.81      1409\n",
      "   macro avg       0.76      0.71      0.73      1409\n",
      "weighted avg       0.79      0.81      0.80      1409\n",
      "\n"
     ]
    },
    {
     "data": {
      "application/javascript": [
       "\n",
       "            setTimeout(function() {\n",
       "                var nbb_cell_id = 71;\n",
       "                var nbb_unformatted_code = \"y_pred = model.predict(X_test)\\n\\ncon_mat = pd.DataFrame(\\n    confusion_matrix(y_test, y_pred),\\n    index=[\\\"Actual No Churn\\\", \\\"Actual Churn\\\"],\\n    columns=[\\\"Predicted No Churn\\\", \\\"Predicted Churn\\\"],\\n)\\nprint(con_mat)\\nprint(classification_report(y_test, y_pred))\";\n",
       "                var nbb_formatted_code = \"y_pred = model.predict(X_test)\\n\\ncon_mat = pd.DataFrame(\\n    confusion_matrix(y_test, y_pred),\\n    index=[\\\"Actual No Churn\\\", \\\"Actual Churn\\\"],\\n    columns=[\\\"Predicted No Churn\\\", \\\"Predicted Churn\\\"],\\n)\\nprint(con_mat)\\nprint(classification_report(y_test, y_pred))\";\n",
       "                var nbb_cells = Jupyter.notebook.get_cells();\n",
       "                for (var i = 0; i < nbb_cells.length; ++i) {\n",
       "                    if (nbb_cells[i].input_prompt_number == nbb_cell_id) {\n",
       "                        if (nbb_cells[i].get_text() == nbb_unformatted_code) {\n",
       "                             nbb_cells[i].set_text(nbb_formatted_code);\n",
       "                        }\n",
       "                        break;\n",
       "                    }\n",
       "                }\n",
       "            }, 500);\n",
       "            "
      ],
      "text/plain": [
       "<IPython.core.display.Javascript object>"
      ]
     },
     "metadata": {},
     "output_type": "display_data"
    }
   ],
   "source": [
    "y_pred = model.predict(X_test)\n",
    "\n",
    "con_mat = pd.DataFrame(\n",
    "    confusion_matrix(y_test, y_pred),\n",
    "    index=[\"Actual No Churn\", \"Actual Churn\"],\n",
    "    columns=[\"Predicted No Churn\", \"Predicted Churn\"],\n",
    ")\n",
    "print(con_mat)\n",
    "print(classification_report(y_test, y_pred))"
   ]
  },
  {
   "cell_type": "markdown",
   "metadata": {},
   "source": [
    "# Random Forest Classifier with K = 10"
   ]
  },
  {
   "cell_type": "code",
   "execution_count": 72,
   "metadata": {},
   "outputs": [
    {
     "name": "stdout",
     "output_type": "stream",
     "text": [
      "[Pipeline] ..... (step 1 of 2) Processing preprocessing, total=   0.0s\n",
      "[Pipeline] ................ (step 2 of 2) Processing rf, total=   0.4s\n"
     ]
    },
    {
     "data": {
      "text/plain": [
       "Pipeline(memory=None,\n",
       "         steps=[('preprocessing',\n",
       "                 ColumnTransformer(n_jobs=None, remainder='passthrough',\n",
       "                                   sparse_threshold=0.3,\n",
       "                                   transformer_weights=None,\n",
       "                                   transformers=[('scale',\n",
       "                                                  StandardScaler(copy=True,\n",
       "                                                                 with_mean=True,\n",
       "                                                                 with_std=True),\n",
       "                                                  ['tenure',\n",
       "                                                   'MonthlyCharges'])],\n",
       "                                   verbose=False)),\n",
       "                ('rf',\n",
       "                 RandomForestClassifier(bootstrap=True, ccp_alpha=0.0,\n",
       "                                        class_weight=None, criterion='gini',\n",
       "                                        max_depth=None, max_features='auto',\n",
       "                                        max_leaf_nodes=None, max_samples=None,\n",
       "                                        min_impurity_decrease=0.0,\n",
       "                                        min_impurity_split=None,\n",
       "                                        min_samples_leaf=1, min_samples_split=2,\n",
       "                                        min_weight_fraction_leaf=0.0,\n",
       "                                        n_estimators=100, n_jobs=None,\n",
       "                                        oob_score=False, random_state=None,\n",
       "                                        verbose=0, warm_start=False))],\n",
       "         verbose=True)"
      ]
     },
     "execution_count": 72,
     "metadata": {},
     "output_type": "execute_result"
    },
    {
     "data": {
      "application/javascript": [
       "\n",
       "            setTimeout(function() {\n",
       "                var nbb_cell_id = 72;\n",
       "                var nbb_unformatted_code = \"pipeline = Pipeline(\\n    [(\\\"preprocessing\\\", preprocessing), (\\\"rf\\\", RandomForestClassifier())], verbose=True\\n)\\n\\npipeline.fit(X_train, y_train)\";\n",
       "                var nbb_formatted_code = \"pipeline = Pipeline(\\n    [(\\\"preprocessing\\\", preprocessing), (\\\"rf\\\", RandomForestClassifier())], verbose=True\\n)\\n\\npipeline.fit(X_train, y_train)\";\n",
       "                var nbb_cells = Jupyter.notebook.get_cells();\n",
       "                for (var i = 0; i < nbb_cells.length; ++i) {\n",
       "                    if (nbb_cells[i].input_prompt_number == nbb_cell_id) {\n",
       "                        if (nbb_cells[i].get_text() == nbb_unformatted_code) {\n",
       "                             nbb_cells[i].set_text(nbb_formatted_code);\n",
       "                        }\n",
       "                        break;\n",
       "                    }\n",
       "                }\n",
       "            }, 500);\n",
       "            "
      ],
      "text/plain": [
       "<IPython.core.display.Javascript object>"
      ]
     },
     "metadata": {},
     "output_type": "display_data"
    }
   ],
   "source": [
    "pipeline = Pipeline(\n",
    "    [(\"preprocessing\", preprocessing), (\"rf\", RandomForestClassifier())], verbose=True\n",
    ")\n",
    "\n",
    "pipeline.fit(X_train, y_train)"
   ]
  },
  {
   "cell_type": "code",
   "execution_count": 73,
   "metadata": {},
   "outputs": [
    {
     "name": "stdout",
     "output_type": "stream",
     "text": [
      "Train score: 0.9921902733404331\n",
      "Test score: 0.7849538679914834\n"
     ]
    },
    {
     "data": {
      "application/javascript": [
       "\n",
       "            setTimeout(function() {\n",
       "                var nbb_cell_id = 73;\n",
       "                var nbb_unformatted_code = \"train_score = pipeline.score(X_train, y_train)\\ntest_score = pipeline.score(X_test, y_test)\\n\\nprint(f\\\"Train score: {train_score}\\\")\\nprint(f\\\"Test score: {test_score}\\\")\";\n",
       "                var nbb_formatted_code = \"train_score = pipeline.score(X_train, y_train)\\ntest_score = pipeline.score(X_test, y_test)\\n\\nprint(f\\\"Train score: {train_score}\\\")\\nprint(f\\\"Test score: {test_score}\\\")\";\n",
       "                var nbb_cells = Jupyter.notebook.get_cells();\n",
       "                for (var i = 0; i < nbb_cells.length; ++i) {\n",
       "                    if (nbb_cells[i].input_prompt_number == nbb_cell_id) {\n",
       "                        if (nbb_cells[i].get_text() == nbb_unformatted_code) {\n",
       "                             nbb_cells[i].set_text(nbb_formatted_code);\n",
       "                        }\n",
       "                        break;\n",
       "                    }\n",
       "                }\n",
       "            }, 500);\n",
       "            "
      ],
      "text/plain": [
       "<IPython.core.display.Javascript object>"
      ]
     },
     "metadata": {},
     "output_type": "display_data"
    }
   ],
   "source": [
    "train_score = pipeline.score(X_train, y_train)\n",
    "test_score = pipeline.score(X_test, y_test)\n",
    "\n",
    "print(f\"Train score: {train_score}\")\n",
    "print(f\"Test score: {test_score}\")"
   ]
  },
  {
   "cell_type": "code",
   "execution_count": 74,
   "metadata": {},
   "outputs": [
    {
     "name": "stdout",
     "output_type": "stream",
     "text": [
      "                 Predicted No Churn  Predicted Churn\n",
      "Actual No Churn                 918              117\n",
      "Actual Churn                    186              188\n",
      "              precision    recall  f1-score   support\n",
      "\n",
      "           0       0.83      0.89      0.86      1035\n",
      "           1       0.62      0.50      0.55       374\n",
      "\n",
      "    accuracy                           0.78      1409\n",
      "   macro avg       0.72      0.69      0.71      1409\n",
      "weighted avg       0.77      0.78      0.78      1409\n",
      "\n"
     ]
    },
    {
     "data": {
      "application/javascript": [
       "\n",
       "            setTimeout(function() {\n",
       "                var nbb_cell_id = 74;\n",
       "                var nbb_unformatted_code = \"y_pred = pipeline.predict(X_test)\\n\\ncon_mat = pd.DataFrame(\\n    confusion_matrix(y_test, y_pred),\\n    index=[\\\"Actual No Churn\\\", \\\"Actual Churn\\\"],\\n    columns=[\\\"Predicted No Churn\\\", \\\"Predicted Churn\\\"],\\n)\\nprint(con_mat)\\nprint(classification_report(y_test, y_pred))\";\n",
       "                var nbb_formatted_code = \"y_pred = pipeline.predict(X_test)\\n\\ncon_mat = pd.DataFrame(\\n    confusion_matrix(y_test, y_pred),\\n    index=[\\\"Actual No Churn\\\", \\\"Actual Churn\\\"],\\n    columns=[\\\"Predicted No Churn\\\", \\\"Predicted Churn\\\"],\\n)\\nprint(con_mat)\\nprint(classification_report(y_test, y_pred))\";\n",
       "                var nbb_cells = Jupyter.notebook.get_cells();\n",
       "                for (var i = 0; i < nbb_cells.length; ++i) {\n",
       "                    if (nbb_cells[i].input_prompt_number == nbb_cell_id) {\n",
       "                        if (nbb_cells[i].get_text() == nbb_unformatted_code) {\n",
       "                             nbb_cells[i].set_text(nbb_formatted_code);\n",
       "                        }\n",
       "                        break;\n",
       "                    }\n",
       "                }\n",
       "            }, 500);\n",
       "            "
      ],
      "text/plain": [
       "<IPython.core.display.Javascript object>"
      ]
     },
     "metadata": {},
     "output_type": "display_data"
    }
   ],
   "source": [
    "y_pred = pipeline.predict(X_test)\n",
    "\n",
    "con_mat = pd.DataFrame(\n",
    "    confusion_matrix(y_test, y_pred),\n",
    "    index=[\"Actual No Churn\", \"Actual Churn\"],\n",
    "    columns=[\"Predicted No Churn\", \"Predicted Churn\"],\n",
    ")\n",
    "print(con_mat)\n",
    "print(classification_report(y_test, y_pred))"
   ]
  },
  {
   "cell_type": "markdown",
   "metadata": {},
   "source": [
    "#### Add a grid search to optimize Random Forest model"
   ]
  },
  {
   "cell_type": "code",
   "execution_count": 75,
   "metadata": {},
   "outputs": [
    {
     "name": "stdout",
     "output_type": "stream",
     "text": [
      "[Pipeline] ..... (step 1 of 2) Processing preprocessing, total=   0.0s\n",
      "[Pipeline] ................ (step 2 of 2) Processing rf, total=   0.0s\n"
     ]
    },
    {
     "data": {
      "text/plain": [
       "GridSearchCV(cv=2, error_score=nan,\n",
       "             estimator=Pipeline(memory=None,\n",
       "                                steps=[('preprocessing',\n",
       "                                        ColumnTransformer(n_jobs=None,\n",
       "                                                          remainder='passthrough',\n",
       "                                                          sparse_threshold=0.3,\n",
       "                                                          transformer_weights=None,\n",
       "                                                          transformers=[('scale',\n",
       "                                                                         StandardScaler(copy=True,\n",
       "                                                                                        with_mean=True,\n",
       "                                                                                        with_std=True),\n",
       "                                                                         ['tenure',\n",
       "                                                                          'MonthlyCharges'])],\n",
       "                                                          verbose=False)),\n",
       "                                       ('rf',\n",
       "                                        RandomForestClassifier(bootstra...\n",
       "                                                               n_jobs=None,\n",
       "                                                               oob_score=False,\n",
       "                                                               random_state=None,\n",
       "                                                               verbose=0,\n",
       "                                                               warm_start=False))],\n",
       "                                verbose=True),\n",
       "             iid='deprecated', n_jobs=-1,\n",
       "             param_grid={'rf__criterion': ['gini', 'entropy'],\n",
       "                         'rf__max_depth': [3, 5, 7, 10, 15],\n",
       "                         'rf__min_samples_leaf': [1, 3, 5, 7, 10],\n",
       "                         'rf__n_estimators': [1, 10, 100, 1000, 10000]},\n",
       "             pre_dispatch='2*n_jobs', refit=True, return_train_score=False,\n",
       "             scoring=None, verbose=0)"
      ]
     },
     "execution_count": 75,
     "metadata": {},
     "output_type": "execute_result"
    },
    {
     "data": {
      "application/javascript": [
       "\n",
       "            setTimeout(function() {\n",
       "                var nbb_cell_id = 75;\n",
       "                var nbb_unformatted_code = \"grid = {\\n    \\\"rf__max_depth\\\": [3, 5, 7, 10, 15],\\n    \\\"rf__n_estimators\\\": [1, 10, 100, 1000, 10000],\\n    \\\"rf__min_samples_leaf\\\": [1, 3, 5, 7, 10],\\n    \\\"rf__criterion\\\": [\\\"gini\\\", \\\"entropy\\\"],\\n}\\n\\nmodel = GridSearchCV(pipeline, grid, cv=2, n_jobs=-1)\\nmodel.fit(X_train, y_train)\";\n",
       "                var nbb_formatted_code = \"grid = {\\n    \\\"rf__max_depth\\\": [3, 5, 7, 10, 15],\\n    \\\"rf__n_estimators\\\": [1, 10, 100, 1000, 10000],\\n    \\\"rf__min_samples_leaf\\\": [1, 3, 5, 7, 10],\\n    \\\"rf__criterion\\\": [\\\"gini\\\", \\\"entropy\\\"],\\n}\\n\\nmodel = GridSearchCV(pipeline, grid, cv=2, n_jobs=-1)\\nmodel.fit(X_train, y_train)\";\n",
       "                var nbb_cells = Jupyter.notebook.get_cells();\n",
       "                for (var i = 0; i < nbb_cells.length; ++i) {\n",
       "                    if (nbb_cells[i].input_prompt_number == nbb_cell_id) {\n",
       "                        if (nbb_cells[i].get_text() == nbb_unformatted_code) {\n",
       "                             nbb_cells[i].set_text(nbb_formatted_code);\n",
       "                        }\n",
       "                        break;\n",
       "                    }\n",
       "                }\n",
       "            }, 500);\n",
       "            "
      ],
      "text/plain": [
       "<IPython.core.display.Javascript object>"
      ]
     },
     "metadata": {},
     "output_type": "display_data"
    }
   ],
   "source": [
    "grid = {\n",
    "    \"rf__max_depth\": [3, 5, 7, 10, 15],\n",
    "    \"rf__n_estimators\": [1, 10, 100, 1000, 10000],\n",
    "    \"rf__min_samples_leaf\": [1, 3, 5, 7, 10],\n",
    "    \"rf__criterion\": [\"gini\", \"entropy\"],\n",
    "}\n",
    "\n",
    "model = GridSearchCV(pipeline, grid, cv=2, n_jobs=-1)\n",
    "model.fit(X_train, y_train)"
   ]
  },
  {
   "cell_type": "code",
   "execution_count": 76,
   "metadata": {},
   "outputs": [
    {
     "data": {
      "text/plain": [
       "{'rf__criterion': 'entropy',\n",
       " 'rf__max_depth': 15,\n",
       " 'rf__min_samples_leaf': 10,\n",
       " 'rf__n_estimators': 10}"
      ]
     },
     "execution_count": 76,
     "metadata": {},
     "output_type": "execute_result"
    },
    {
     "data": {
      "application/javascript": [
       "\n",
       "            setTimeout(function() {\n",
       "                var nbb_cell_id = 76;\n",
       "                var nbb_unformatted_code = \"model.best_params_\";\n",
       "                var nbb_formatted_code = \"model.best_params_\";\n",
       "                var nbb_cells = Jupyter.notebook.get_cells();\n",
       "                for (var i = 0; i < nbb_cells.length; ++i) {\n",
       "                    if (nbb_cells[i].input_prompt_number == nbb_cell_id) {\n",
       "                        if (nbb_cells[i].get_text() == nbb_unformatted_code) {\n",
       "                             nbb_cells[i].set_text(nbb_formatted_code);\n",
       "                        }\n",
       "                        break;\n",
       "                    }\n",
       "                }\n",
       "            }, 500);\n",
       "            "
      ],
      "text/plain": [
       "<IPython.core.display.Javascript object>"
      ]
     },
     "metadata": {},
     "output_type": "display_data"
    }
   ],
   "source": [
    "model.best_params_"
   ]
  },
  {
   "cell_type": "code",
   "execution_count": 77,
   "metadata": {},
   "outputs": [
    {
     "name": "stdout",
     "output_type": "stream",
     "text": [
      "Train score: 0.8219737309194178\n",
      "Test score: 0.8069552874378992\n"
     ]
    },
    {
     "data": {
      "application/javascript": [
       "\n",
       "            setTimeout(function() {\n",
       "                var nbb_cell_id = 77;\n",
       "                var nbb_unformatted_code = \"train_score = model.score(X_train, y_train)\\ntest_score = model.score(X_test, y_test)\\n\\nprint(f\\\"Train score: {train_score}\\\")\\nprint(f\\\"Test score: {test_score}\\\")\";\n",
       "                var nbb_formatted_code = \"train_score = model.score(X_train, y_train)\\ntest_score = model.score(X_test, y_test)\\n\\nprint(f\\\"Train score: {train_score}\\\")\\nprint(f\\\"Test score: {test_score}\\\")\";\n",
       "                var nbb_cells = Jupyter.notebook.get_cells();\n",
       "                for (var i = 0; i < nbb_cells.length; ++i) {\n",
       "                    if (nbb_cells[i].input_prompt_number == nbb_cell_id) {\n",
       "                        if (nbb_cells[i].get_text() == nbb_unformatted_code) {\n",
       "                             nbb_cells[i].set_text(nbb_formatted_code);\n",
       "                        }\n",
       "                        break;\n",
       "                    }\n",
       "                }\n",
       "            }, 500);\n",
       "            "
      ],
      "text/plain": [
       "<IPython.core.display.Javascript object>"
      ]
     },
     "metadata": {},
     "output_type": "display_data"
    }
   ],
   "source": [
    "train_score = model.score(X_train, y_train)\n",
    "test_score = model.score(X_test, y_test)\n",
    "\n",
    "print(f\"Train score: {train_score}\")\n",
    "print(f\"Test score: {test_score}\")"
   ]
  },
  {
   "cell_type": "code",
   "execution_count": 78,
   "metadata": {},
   "outputs": [
    {
     "name": "stdout",
     "output_type": "stream",
     "text": [
      "                 Predicted No Churn  Predicted Churn\n",
      "Actual No Churn                 943               92\n",
      "Actual Churn                    180              194\n",
      "              precision    recall  f1-score   support\n",
      "\n",
      "           0       0.84      0.91      0.87      1035\n",
      "           1       0.68      0.52      0.59       374\n",
      "\n",
      "    accuracy                           0.81      1409\n",
      "   macro avg       0.76      0.71      0.73      1409\n",
      "weighted avg       0.80      0.81      0.80      1409\n",
      "\n"
     ]
    },
    {
     "data": {
      "application/javascript": [
       "\n",
       "            setTimeout(function() {\n",
       "                var nbb_cell_id = 78;\n",
       "                var nbb_unformatted_code = \"y_pred = model.predict(X_test)\\n\\ncon_mat = pd.DataFrame(\\n    confusion_matrix(y_test, y_pred),\\n    index=[\\\"Actual No Churn\\\", \\\"Actual Churn\\\"],\\n    columns=[\\\"Predicted No Churn\\\", \\\"Predicted Churn\\\"],\\n)\\nprint(con_mat)\\nprint(classification_report(y_test, y_pred))\";\n",
       "                var nbb_formatted_code = \"y_pred = model.predict(X_test)\\n\\ncon_mat = pd.DataFrame(\\n    confusion_matrix(y_test, y_pred),\\n    index=[\\\"Actual No Churn\\\", \\\"Actual Churn\\\"],\\n    columns=[\\\"Predicted No Churn\\\", \\\"Predicted Churn\\\"],\\n)\\nprint(con_mat)\\nprint(classification_report(y_test, y_pred))\";\n",
       "                var nbb_cells = Jupyter.notebook.get_cells();\n",
       "                for (var i = 0; i < nbb_cells.length; ++i) {\n",
       "                    if (nbb_cells[i].input_prompt_number == nbb_cell_id) {\n",
       "                        if (nbb_cells[i].get_text() == nbb_unformatted_code) {\n",
       "                             nbb_cells[i].set_text(nbb_formatted_code);\n",
       "                        }\n",
       "                        break;\n",
       "                    }\n",
       "                }\n",
       "            }, 500);\n",
       "            "
      ],
      "text/plain": [
       "<IPython.core.display.Javascript object>"
      ]
     },
     "metadata": {},
     "output_type": "display_data"
    }
   ],
   "source": [
    "y_pred = model.predict(X_test)\n",
    "\n",
    "con_mat = pd.DataFrame(\n",
    "    confusion_matrix(y_test, y_pred),\n",
    "    index=[\"Actual No Churn\", \"Actual Churn\"],\n",
    "    columns=[\"Predicted No Churn\", \"Predicted Churn\"],\n",
    ")\n",
    "print(con_mat)\n",
    "print(classification_report(y_test, y_pred))"
   ]
  },
  {
   "cell_type": "markdown",
   "metadata": {},
   "source": [
    "# Gradient Boosted Classifier with K = 10"
   ]
  },
  {
   "cell_type": "code",
   "execution_count": 79,
   "metadata": {},
   "outputs": [
    {
     "name": "stdout",
     "output_type": "stream",
     "text": [
      "[Pipeline] ..... (step 1 of 2) Processing preprocessing, total=   0.0s\n",
      "[Pipeline] ............... (step 2 of 2) Processing xgb, total=   0.1s\n"
     ]
    },
    {
     "data": {
      "text/plain": [
       "Pipeline(memory=None,\n",
       "         steps=[('preprocessing',\n",
       "                 ColumnTransformer(n_jobs=None, remainder='passthrough',\n",
       "                                   sparse_threshold=0.3,\n",
       "                                   transformer_weights=None,\n",
       "                                   transformers=[('scale',\n",
       "                                                  StandardScaler(copy=True,\n",
       "                                                                 with_mean=True,\n",
       "                                                                 with_std=True),\n",
       "                                                  ['tenure',\n",
       "                                                   'MonthlyCharges'])],\n",
       "                                   verbose=False)),\n",
       "                ('xgb',\n",
       "                 XGBClassifier(base_score=0.5, booster='gbtree',\n",
       "                               colsample_bylevel=1, colsampl...\n",
       "                               interaction_constraints='',\n",
       "                               learning_rate=0.300000012, max_delta_step=0,\n",
       "                               max_depth=6, min_child_weight=1, missing=nan,\n",
       "                               monotone_constraints='()', n_estimators=100,\n",
       "                               n_jobs=0, num_parallel_tree=1,\n",
       "                               objective='binary:logistic', random_state=0,\n",
       "                               reg_alpha=0, reg_lambda=1, scale_pos_weight=1,\n",
       "                               subsample=1, tree_method='exact',\n",
       "                               validate_parameters=1, verbosity=None))],\n",
       "         verbose=-1)"
      ]
     },
     "execution_count": 79,
     "metadata": {},
     "output_type": "execute_result"
    },
    {
     "data": {
      "application/javascript": [
       "\n",
       "            setTimeout(function() {\n",
       "                var nbb_cell_id = 79;\n",
       "                var nbb_unformatted_code = \"pipeline = Pipeline(\\n    [(\\\"preprocessing\\\", preprocessing), (\\\"xgb\\\", XGBClassifier())], verbose=-1\\n)\\n\\npipeline.fit(X_train, y_train)\";\n",
       "                var nbb_formatted_code = \"pipeline = Pipeline(\\n    [(\\\"preprocessing\\\", preprocessing), (\\\"xgb\\\", XGBClassifier())], verbose=-1\\n)\\n\\npipeline.fit(X_train, y_train)\";\n",
       "                var nbb_cells = Jupyter.notebook.get_cells();\n",
       "                for (var i = 0; i < nbb_cells.length; ++i) {\n",
       "                    if (nbb_cells[i].input_prompt_number == nbb_cell_id) {\n",
       "                        if (nbb_cells[i].get_text() == nbb_unformatted_code) {\n",
       "                             nbb_cells[i].set_text(nbb_formatted_code);\n",
       "                        }\n",
       "                        break;\n",
       "                    }\n",
       "                }\n",
       "            }, 500);\n",
       "            "
      ],
      "text/plain": [
       "<IPython.core.display.Javascript object>"
      ]
     },
     "metadata": {},
     "output_type": "display_data"
    }
   ],
   "source": [
    "pipeline = Pipeline(\n",
    "    [(\"preprocessing\", preprocessing), (\"xgb\", XGBClassifier())], verbose=-1\n",
    ")\n",
    "\n",
    "pipeline.fit(X_train, y_train)"
   ]
  },
  {
   "cell_type": "code",
   "execution_count": 80,
   "metadata": {},
   "outputs": [
    {
     "name": "stdout",
     "output_type": "stream",
     "text": [
      "Train score: 0.8908413205537806\n",
      "Test score: 0.7906316536550745\n"
     ]
    },
    {
     "data": {
      "application/javascript": [
       "\n",
       "            setTimeout(function() {\n",
       "                var nbb_cell_id = 80;\n",
       "                var nbb_unformatted_code = \"train_score = pipeline.score(X_train, y_train)\\ntest_score = pipeline.score(X_test, y_test)\\n\\nprint(f\\\"Train score: {train_score}\\\")\\nprint(f\\\"Test score: {test_score}\\\")\";\n",
       "                var nbb_formatted_code = \"train_score = pipeline.score(X_train, y_train)\\ntest_score = pipeline.score(X_test, y_test)\\n\\nprint(f\\\"Train score: {train_score}\\\")\\nprint(f\\\"Test score: {test_score}\\\")\";\n",
       "                var nbb_cells = Jupyter.notebook.get_cells();\n",
       "                for (var i = 0; i < nbb_cells.length; ++i) {\n",
       "                    if (nbb_cells[i].input_prompt_number == nbb_cell_id) {\n",
       "                        if (nbb_cells[i].get_text() == nbb_unformatted_code) {\n",
       "                             nbb_cells[i].set_text(nbb_formatted_code);\n",
       "                        }\n",
       "                        break;\n",
       "                    }\n",
       "                }\n",
       "            }, 500);\n",
       "            "
      ],
      "text/plain": [
       "<IPython.core.display.Javascript object>"
      ]
     },
     "metadata": {},
     "output_type": "display_data"
    }
   ],
   "source": [
    "train_score = pipeline.score(X_train, y_train)\n",
    "test_score = pipeline.score(X_test, y_test)\n",
    "\n",
    "print(f\"Train score: {train_score}\")\n",
    "print(f\"Test score: {test_score}\")"
   ]
  },
  {
   "cell_type": "code",
   "execution_count": 81,
   "metadata": {},
   "outputs": [
    {
     "name": "stdout",
     "output_type": "stream",
     "text": [
      "                 Predicted No Churn  Predicted Churn\n",
      "Actual No Churn                 920              115\n",
      "Actual Churn                    180              194\n",
      "              precision    recall  f1-score   support\n",
      "\n",
      "           0       0.84      0.89      0.86      1035\n",
      "           1       0.63      0.52      0.57       374\n",
      "\n",
      "    accuracy                           0.79      1409\n",
      "   macro avg       0.73      0.70      0.71      1409\n",
      "weighted avg       0.78      0.79      0.78      1409\n",
      "\n"
     ]
    },
    {
     "data": {
      "application/javascript": [
       "\n",
       "            setTimeout(function() {\n",
       "                var nbb_cell_id = 81;\n",
       "                var nbb_unformatted_code = \"y_pred = pipeline.predict(X_test)\\n\\ncon_mat = pd.DataFrame(\\n    confusion_matrix(y_test, y_pred),\\n    index=[\\\"Actual No Churn\\\", \\\"Actual Churn\\\"],\\n    columns=[\\\"Predicted No Churn\\\", \\\"Predicted Churn\\\"],\\n)\\nprint(con_mat)\\nprint(classification_report(y_test, y_pred))\";\n",
       "                var nbb_formatted_code = \"y_pred = pipeline.predict(X_test)\\n\\ncon_mat = pd.DataFrame(\\n    confusion_matrix(y_test, y_pred),\\n    index=[\\\"Actual No Churn\\\", \\\"Actual Churn\\\"],\\n    columns=[\\\"Predicted No Churn\\\", \\\"Predicted Churn\\\"],\\n)\\nprint(con_mat)\\nprint(classification_report(y_test, y_pred))\";\n",
       "                var nbb_cells = Jupyter.notebook.get_cells();\n",
       "                for (var i = 0; i < nbb_cells.length; ++i) {\n",
       "                    if (nbb_cells[i].input_prompt_number == nbb_cell_id) {\n",
       "                        if (nbb_cells[i].get_text() == nbb_unformatted_code) {\n",
       "                             nbb_cells[i].set_text(nbb_formatted_code);\n",
       "                        }\n",
       "                        break;\n",
       "                    }\n",
       "                }\n",
       "            }, 500);\n",
       "            "
      ],
      "text/plain": [
       "<IPython.core.display.Javascript object>"
      ]
     },
     "metadata": {},
     "output_type": "display_data"
    }
   ],
   "source": [
    "y_pred = pipeline.predict(X_test)\n",
    "\n",
    "con_mat = pd.DataFrame(\n",
    "    confusion_matrix(y_test, y_pred),\n",
    "    index=[\"Actual No Churn\", \"Actual Churn\"],\n",
    "    columns=[\"Predicted No Churn\", \"Predicted Churn\"],\n",
    ")\n",
    "print(con_mat)\n",
    "print(classification_report(y_test, y_pred))"
   ]
  },
  {
   "cell_type": "markdown",
   "metadata": {},
   "source": [
    "#### Add a grid search to optimize XGB model"
   ]
  },
  {
   "cell_type": "code",
   "execution_count": 82,
   "metadata": {},
   "outputs": [
    {
     "name": "stderr",
     "output_type": "stream",
     "text": [
      "C:\\Users\\jlim7\\anaconda3\\lib\\site-packages\\joblib\\externals\\loky\\process_executor.py:706: UserWarning: A worker stopped while some jobs were given to the executor. This can be caused by a too short worker timeout or by a memory leak.\n",
      "  \"timeout or by a memory leak.\", UserWarning\n"
     ]
    },
    {
     "name": "stdout",
     "output_type": "stream",
     "text": [
      "[Pipeline] ..... (step 1 of 2) Processing preprocessing, total=   0.0s\n",
      "[12:03:34] WARNING: C:\\Users\\Administrator\\workspace\\xgboost-win64_release_1.2.0\\src\\learner.cc:516: \n",
      "Parameters: { n_trees } might not be used.\n",
      "\n",
      "  This may not be accurate due to some parameters are only used in language bindings but\n",
      "  passed down to XGBoost core.  Or some parameters are not used but slip through this\n",
      "  verification. Please open an issue if you find above cases.\n",
      "\n",
      "\n",
      "[Pipeline] ............... (step 2 of 2) Processing xgb, total=   0.1s\n"
     ]
    },
    {
     "data": {
      "text/plain": [
       "GridSearchCV(cv=2, error_score=nan,\n",
       "             estimator=Pipeline(memory=None,\n",
       "                                steps=[('preprocessing',\n",
       "                                        ColumnTransformer(n_jobs=None,\n",
       "                                                          remainder='passthrough',\n",
       "                                                          sparse_threshold=0.3,\n",
       "                                                          transformer_weights=None,\n",
       "                                                          transformers=[('scale',\n",
       "                                                                         StandardScaler(copy=True,\n",
       "                                                                                        with_mean=True,\n",
       "                                                                                        with_std=True),\n",
       "                                                                         ['tenure',\n",
       "                                                                          'MonthlyCharges'])],\n",
       "                                                          verbose=False)),\n",
       "                                       ('xgb',\n",
       "                                        XGBClassifier(base_score=0.5,\n",
       "                                                      b...\n",
       "                                                      tree_method='exact',\n",
       "                                                      validate_parameters=1,\n",
       "                                                      verbosity=None))],\n",
       "                                verbose=-1),\n",
       "             iid='deprecated', n_jobs=-1,\n",
       "             param_grid={'xgb__colsample_bytree': [0.5, 0.75, 1.0],\n",
       "                         'xgb__learning_rate': [0.2, 0.4, 0.6, 0.8, 1],\n",
       "                         'xgb__max_depth': [5, 7, 10],\n",
       "                         'xgb__n_trees': [100, 150, 200],\n",
       "                         'xgb__subsample': [0.5, 0.75, 1.0]},\n",
       "             pre_dispatch='2*n_jobs', refit=True, return_train_score=False,\n",
       "             scoring=None, verbose=0)"
      ]
     },
     "execution_count": 82,
     "metadata": {},
     "output_type": "execute_result"
    },
    {
     "data": {
      "application/javascript": [
       "\n",
       "            setTimeout(function() {\n",
       "                var nbb_cell_id = 82;\n",
       "                var nbb_unformatted_code = \"grid = {\\n    \\\"xgb__subsample\\\": [0.5, 0.75, 1.0],\\n    \\\"xgb__colsample_bytree\\\": [0.5, 0.75, 1.0],\\n    \\\"xgb__max_depth\\\": [5, 7, 10],\\n    \\\"xgb__n_trees\\\": [100, 150, 200],\\n    \\\"xgb__learning_rate\\\": [0.2, 0.4, 0.6, 0.8, 1],\\n}\\nmodel = GridSearchCV(pipeline, grid, cv=2, n_jobs=-1)\\nmodel.fit(X_train, y_train)\";\n",
       "                var nbb_formatted_code = \"grid = {\\n    \\\"xgb__subsample\\\": [0.5, 0.75, 1.0],\\n    \\\"xgb__colsample_bytree\\\": [0.5, 0.75, 1.0],\\n    \\\"xgb__max_depth\\\": [5, 7, 10],\\n    \\\"xgb__n_trees\\\": [100, 150, 200],\\n    \\\"xgb__learning_rate\\\": [0.2, 0.4, 0.6, 0.8, 1],\\n}\\nmodel = GridSearchCV(pipeline, grid, cv=2, n_jobs=-1)\\nmodel.fit(X_train, y_train)\";\n",
       "                var nbb_cells = Jupyter.notebook.get_cells();\n",
       "                for (var i = 0; i < nbb_cells.length; ++i) {\n",
       "                    if (nbb_cells[i].input_prompt_number == nbb_cell_id) {\n",
       "                        if (nbb_cells[i].get_text() == nbb_unformatted_code) {\n",
       "                             nbb_cells[i].set_text(nbb_formatted_code);\n",
       "                        }\n",
       "                        break;\n",
       "                    }\n",
       "                }\n",
       "            }, 500);\n",
       "            "
      ],
      "text/plain": [
       "<IPython.core.display.Javascript object>"
      ]
     },
     "metadata": {},
     "output_type": "display_data"
    }
   ],
   "source": [
    "grid = {\n",
    "    \"xgb__subsample\": [0.5, 0.75, 1.0],\n",
    "    \"xgb__colsample_bytree\": [0.5, 0.75, 1.0],\n",
    "    \"xgb__max_depth\": [5, 7, 10],\n",
    "    \"xgb__n_trees\": [100, 150, 200],\n",
    "    \"xgb__learning_rate\": [0.2, 0.4, 0.6, 0.8, 1],\n",
    "}\n",
    "model = GridSearchCV(pipeline, grid, cv=2, n_jobs=-1)\n",
    "model.fit(X_train, y_train)"
   ]
  },
  {
   "cell_type": "code",
   "execution_count": 83,
   "metadata": {},
   "outputs": [
    {
     "data": {
      "text/plain": [
       "{'xgb__colsample_bytree': 1.0,\n",
       " 'xgb__learning_rate': 0.2,\n",
       " 'xgb__max_depth': 5,\n",
       " 'xgb__n_trees': 100,\n",
       " 'xgb__subsample': 1.0}"
      ]
     },
     "execution_count": 83,
     "metadata": {},
     "output_type": "execute_result"
    },
    {
     "data": {
      "application/javascript": [
       "\n",
       "            setTimeout(function() {\n",
       "                var nbb_cell_id = 83;\n",
       "                var nbb_unformatted_code = \"model.best_params_\";\n",
       "                var nbb_formatted_code = \"model.best_params_\";\n",
       "                var nbb_cells = Jupyter.notebook.get_cells();\n",
       "                for (var i = 0; i < nbb_cells.length; ++i) {\n",
       "                    if (nbb_cells[i].input_prompt_number == nbb_cell_id) {\n",
       "                        if (nbb_cells[i].get_text() == nbb_unformatted_code) {\n",
       "                             nbb_cells[i].set_text(nbb_formatted_code);\n",
       "                        }\n",
       "                        break;\n",
       "                    }\n",
       "                }\n",
       "            }, 500);\n",
       "            "
      ],
      "text/plain": [
       "<IPython.core.display.Javascript object>"
      ]
     },
     "metadata": {},
     "output_type": "display_data"
    }
   ],
   "source": [
    "model.best_params_"
   ]
  },
  {
   "cell_type": "code",
   "execution_count": 84,
   "metadata": {},
   "outputs": [
    {
     "name": "stdout",
     "output_type": "stream",
     "text": [
      "Train score: 0.8594249201277955\n",
      "Test score: 0.7892122072391767\n"
     ]
    },
    {
     "data": {
      "application/javascript": [
       "\n",
       "            setTimeout(function() {\n",
       "                var nbb_cell_id = 84;\n",
       "                var nbb_unformatted_code = \"train_score = model.score(X_train, y_train)\\ntest_score = model.score(X_test, y_test)\\n\\nprint(f\\\"Train score: {train_score}\\\")\\nprint(f\\\"Test score: {test_score}\\\")\";\n",
       "                var nbb_formatted_code = \"train_score = model.score(X_train, y_train)\\ntest_score = model.score(X_test, y_test)\\n\\nprint(f\\\"Train score: {train_score}\\\")\\nprint(f\\\"Test score: {test_score}\\\")\";\n",
       "                var nbb_cells = Jupyter.notebook.get_cells();\n",
       "                for (var i = 0; i < nbb_cells.length; ++i) {\n",
       "                    if (nbb_cells[i].input_prompt_number == nbb_cell_id) {\n",
       "                        if (nbb_cells[i].get_text() == nbb_unformatted_code) {\n",
       "                             nbb_cells[i].set_text(nbb_formatted_code);\n",
       "                        }\n",
       "                        break;\n",
       "                    }\n",
       "                }\n",
       "            }, 500);\n",
       "            "
      ],
      "text/plain": [
       "<IPython.core.display.Javascript object>"
      ]
     },
     "metadata": {},
     "output_type": "display_data"
    }
   ],
   "source": [
    "train_score = model.score(X_train, y_train)\n",
    "test_score = model.score(X_test, y_test)\n",
    "\n",
    "print(f\"Train score: {train_score}\")\n",
    "print(f\"Test score: {test_score}\")"
   ]
  },
  {
   "cell_type": "code",
   "execution_count": 85,
   "metadata": {},
   "outputs": [
    {
     "name": "stdout",
     "output_type": "stream",
     "text": [
      "                 Predicted No Churn  Predicted Churn\n",
      "Actual No Churn                 924              111\n",
      "Actual Churn                    186              188\n",
      "              precision    recall  f1-score   support\n",
      "\n",
      "           0       0.83      0.89      0.86      1035\n",
      "           1       0.63      0.50      0.56       374\n",
      "\n",
      "    accuracy                           0.79      1409\n",
      "   macro avg       0.73      0.70      0.71      1409\n",
      "weighted avg       0.78      0.79      0.78      1409\n",
      "\n"
     ]
    },
    {
     "data": {
      "application/javascript": [
       "\n",
       "            setTimeout(function() {\n",
       "                var nbb_cell_id = 85;\n",
       "                var nbb_unformatted_code = \"y_pred = model.predict(X_test)\\n\\ncon_mat = pd.DataFrame(\\n    confusion_matrix(y_test, y_pred),\\n    index=[\\\"Actual No Churn\\\", \\\"Actual Churn\\\"],\\n    columns=[\\\"Predicted No Churn\\\", \\\"Predicted Churn\\\"],\\n)\\nprint(con_mat)\\nprint(classification_report(y_test, y_pred))\";\n",
       "                var nbb_formatted_code = \"y_pred = model.predict(X_test)\\n\\ncon_mat = pd.DataFrame(\\n    confusion_matrix(y_test, y_pred),\\n    index=[\\\"Actual No Churn\\\", \\\"Actual Churn\\\"],\\n    columns=[\\\"Predicted No Churn\\\", \\\"Predicted Churn\\\"],\\n)\\nprint(con_mat)\\nprint(classification_report(y_test, y_pred))\";\n",
       "                var nbb_cells = Jupyter.notebook.get_cells();\n",
       "                for (var i = 0; i < nbb_cells.length; ++i) {\n",
       "                    if (nbb_cells[i].input_prompt_number == nbb_cell_id) {\n",
       "                        if (nbb_cells[i].get_text() == nbb_unformatted_code) {\n",
       "                             nbb_cells[i].set_text(nbb_formatted_code);\n",
       "                        }\n",
       "                        break;\n",
       "                    }\n",
       "                }\n",
       "            }, 500);\n",
       "            "
      ],
      "text/plain": [
       "<IPython.core.display.Javascript object>"
      ]
     },
     "metadata": {},
     "output_type": "display_data"
    }
   ],
   "source": [
    "y_pred = model.predict(X_test)\n",
    "\n",
    "con_mat = pd.DataFrame(\n",
    "    confusion_matrix(y_test, y_pred),\n",
    "    index=[\"Actual No Churn\", \"Actual Churn\"],\n",
    "    columns=[\"Predicted No Churn\", \"Predicted Churn\"],\n",
    ")\n",
    "print(con_mat)\n",
    "print(classification_report(y_test, y_pred))"
   ]
  }
 ],
 "metadata": {
  "kernelspec": {
   "display_name": "Python 3",
   "language": "python",
   "name": "python3"
  },
  "language_info": {
   "codemirror_mode": {
    "name": "ipython",
    "version": 3
   },
   "file_extension": ".py",
   "mimetype": "text/x-python",
   "name": "python",
   "nbconvert_exporter": "python",
   "pygments_lexer": "ipython3",
   "version": "3.7.6"
  }
 },
 "nbformat": 4,
 "nbformat_minor": 4
}
